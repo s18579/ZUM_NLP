{
  "nbformat": 4,
  "nbformat_minor": 0,
  "metadata": {
    "colab": {
      "provenance": [],
      "gpuType": "T4"
    },
    "kernelspec": {
      "name": "python3",
      "display_name": "Python 3"
    },
    "language_info": {
      "name": "python"
    },
    "accelerator": "GPU",
    "gpuClass": "standard",
    "widgets": {
      "application/vnd.jupyter.widget-state+json": {
        "05413a599cc041bfa7df0f5492535dbf": {
          "model_module": "@jupyter-widgets/controls",
          "model_name": "HBoxModel",
          "model_module_version": "1.5.0",
          "state": {
            "_dom_classes": [],
            "_model_module": "@jupyter-widgets/controls",
            "_model_module_version": "1.5.0",
            "_model_name": "HBoxModel",
            "_view_count": null,
            "_view_module": "@jupyter-widgets/controls",
            "_view_module_version": "1.5.0",
            "_view_name": "HBoxView",
            "box_style": "",
            "children": [
              "IPY_MODEL_99979b832d3a46ccb35b9d828863ecfb",
              "IPY_MODEL_1ef87650245b44299839d84ca5212e8b",
              "IPY_MODEL_f14602dd30de45f38427e88fc6f5ca9c"
            ],
            "layout": "IPY_MODEL_6be333564f5041e7a523c3c7bbf0fe27"
          }
        },
        "99979b832d3a46ccb35b9d828863ecfb": {
          "model_module": "@jupyter-widgets/controls",
          "model_name": "HTMLModel",
          "model_module_version": "1.5.0",
          "state": {
            "_dom_classes": [],
            "_model_module": "@jupyter-widgets/controls",
            "_model_module_version": "1.5.0",
            "_model_name": "HTMLModel",
            "_view_count": null,
            "_view_module": "@jupyter-widgets/controls",
            "_view_module_version": "1.5.0",
            "_view_name": "HTMLView",
            "description": "",
            "description_tooltip": null,
            "layout": "IPY_MODEL_be813a9ede0942949256e239c158c349",
            "placeholder": "​",
            "style": "IPY_MODEL_573484fd613145749ae955769e3a6d81",
            "value": "Map: 100%"
          }
        },
        "1ef87650245b44299839d84ca5212e8b": {
          "model_module": "@jupyter-widgets/controls",
          "model_name": "FloatProgressModel",
          "model_module_version": "1.5.0",
          "state": {
            "_dom_classes": [],
            "_model_module": "@jupyter-widgets/controls",
            "_model_module_version": "1.5.0",
            "_model_name": "FloatProgressModel",
            "_view_count": null,
            "_view_module": "@jupyter-widgets/controls",
            "_view_module_version": "1.5.0",
            "_view_name": "ProgressView",
            "bar_style": "",
            "description": "",
            "description_tooltip": null,
            "layout": "IPY_MODEL_d8f43cb8c6e24ab68d5f782bbea50515",
            "max": 19780,
            "min": 0,
            "orientation": "horizontal",
            "style": "IPY_MODEL_ea8c58b3d815400bbc38cc3e363943b6",
            "value": 19780
          }
        },
        "f14602dd30de45f38427e88fc6f5ca9c": {
          "model_module": "@jupyter-widgets/controls",
          "model_name": "HTMLModel",
          "model_module_version": "1.5.0",
          "state": {
            "_dom_classes": [],
            "_model_module": "@jupyter-widgets/controls",
            "_model_module_version": "1.5.0",
            "_model_name": "HTMLModel",
            "_view_count": null,
            "_view_module": "@jupyter-widgets/controls",
            "_view_module_version": "1.5.0",
            "_view_name": "HTMLView",
            "description": "",
            "description_tooltip": null,
            "layout": "IPY_MODEL_d70457fbfb464812aad71b7aaa551a86",
            "placeholder": "​",
            "style": "IPY_MODEL_c70025b904b64a78b1e3f594447a571f",
            "value": " 19713/19780 [00:10&lt;00:00, 1601.37 examples/s]"
          }
        },
        "6be333564f5041e7a523c3c7bbf0fe27": {
          "model_module": "@jupyter-widgets/base",
          "model_name": "LayoutModel",
          "model_module_version": "1.2.0",
          "state": {
            "_model_module": "@jupyter-widgets/base",
            "_model_module_version": "1.2.0",
            "_model_name": "LayoutModel",
            "_view_count": null,
            "_view_module": "@jupyter-widgets/base",
            "_view_module_version": "1.2.0",
            "_view_name": "LayoutView",
            "align_content": null,
            "align_items": null,
            "align_self": null,
            "border": null,
            "bottom": null,
            "display": null,
            "flex": null,
            "flex_flow": null,
            "grid_area": null,
            "grid_auto_columns": null,
            "grid_auto_flow": null,
            "grid_auto_rows": null,
            "grid_column": null,
            "grid_gap": null,
            "grid_row": null,
            "grid_template_areas": null,
            "grid_template_columns": null,
            "grid_template_rows": null,
            "height": null,
            "justify_content": null,
            "justify_items": null,
            "left": null,
            "margin": null,
            "max_height": null,
            "max_width": null,
            "min_height": null,
            "min_width": null,
            "object_fit": null,
            "object_position": null,
            "order": null,
            "overflow": null,
            "overflow_x": null,
            "overflow_y": null,
            "padding": null,
            "right": null,
            "top": null,
            "visibility": "hidden",
            "width": null
          }
        },
        "be813a9ede0942949256e239c158c349": {
          "model_module": "@jupyter-widgets/base",
          "model_name": "LayoutModel",
          "model_module_version": "1.2.0",
          "state": {
            "_model_module": "@jupyter-widgets/base",
            "_model_module_version": "1.2.0",
            "_model_name": "LayoutModel",
            "_view_count": null,
            "_view_module": "@jupyter-widgets/base",
            "_view_module_version": "1.2.0",
            "_view_name": "LayoutView",
            "align_content": null,
            "align_items": null,
            "align_self": null,
            "border": null,
            "bottom": null,
            "display": null,
            "flex": null,
            "flex_flow": null,
            "grid_area": null,
            "grid_auto_columns": null,
            "grid_auto_flow": null,
            "grid_auto_rows": null,
            "grid_column": null,
            "grid_gap": null,
            "grid_row": null,
            "grid_template_areas": null,
            "grid_template_columns": null,
            "grid_template_rows": null,
            "height": null,
            "justify_content": null,
            "justify_items": null,
            "left": null,
            "margin": null,
            "max_height": null,
            "max_width": null,
            "min_height": null,
            "min_width": null,
            "object_fit": null,
            "object_position": null,
            "order": null,
            "overflow": null,
            "overflow_x": null,
            "overflow_y": null,
            "padding": null,
            "right": null,
            "top": null,
            "visibility": null,
            "width": null
          }
        },
        "573484fd613145749ae955769e3a6d81": {
          "model_module": "@jupyter-widgets/controls",
          "model_name": "DescriptionStyleModel",
          "model_module_version": "1.5.0",
          "state": {
            "_model_module": "@jupyter-widgets/controls",
            "_model_module_version": "1.5.0",
            "_model_name": "DescriptionStyleModel",
            "_view_count": null,
            "_view_module": "@jupyter-widgets/base",
            "_view_module_version": "1.2.0",
            "_view_name": "StyleView",
            "description_width": ""
          }
        },
        "d8f43cb8c6e24ab68d5f782bbea50515": {
          "model_module": "@jupyter-widgets/base",
          "model_name": "LayoutModel",
          "model_module_version": "1.2.0",
          "state": {
            "_model_module": "@jupyter-widgets/base",
            "_model_module_version": "1.2.0",
            "_model_name": "LayoutModel",
            "_view_count": null,
            "_view_module": "@jupyter-widgets/base",
            "_view_module_version": "1.2.0",
            "_view_name": "LayoutView",
            "align_content": null,
            "align_items": null,
            "align_self": null,
            "border": null,
            "bottom": null,
            "display": null,
            "flex": null,
            "flex_flow": null,
            "grid_area": null,
            "grid_auto_columns": null,
            "grid_auto_flow": null,
            "grid_auto_rows": null,
            "grid_column": null,
            "grid_gap": null,
            "grid_row": null,
            "grid_template_areas": null,
            "grid_template_columns": null,
            "grid_template_rows": null,
            "height": null,
            "justify_content": null,
            "justify_items": null,
            "left": null,
            "margin": null,
            "max_height": null,
            "max_width": null,
            "min_height": null,
            "min_width": null,
            "object_fit": null,
            "object_position": null,
            "order": null,
            "overflow": null,
            "overflow_x": null,
            "overflow_y": null,
            "padding": null,
            "right": null,
            "top": null,
            "visibility": null,
            "width": null
          }
        },
        "ea8c58b3d815400bbc38cc3e363943b6": {
          "model_module": "@jupyter-widgets/controls",
          "model_name": "ProgressStyleModel",
          "model_module_version": "1.5.0",
          "state": {
            "_model_module": "@jupyter-widgets/controls",
            "_model_module_version": "1.5.0",
            "_model_name": "ProgressStyleModel",
            "_view_count": null,
            "_view_module": "@jupyter-widgets/base",
            "_view_module_version": "1.2.0",
            "_view_name": "StyleView",
            "bar_color": null,
            "description_width": ""
          }
        },
        "d70457fbfb464812aad71b7aaa551a86": {
          "model_module": "@jupyter-widgets/base",
          "model_name": "LayoutModel",
          "model_module_version": "1.2.0",
          "state": {
            "_model_module": "@jupyter-widgets/base",
            "_model_module_version": "1.2.0",
            "_model_name": "LayoutModel",
            "_view_count": null,
            "_view_module": "@jupyter-widgets/base",
            "_view_module_version": "1.2.0",
            "_view_name": "LayoutView",
            "align_content": null,
            "align_items": null,
            "align_self": null,
            "border": null,
            "bottom": null,
            "display": null,
            "flex": null,
            "flex_flow": null,
            "grid_area": null,
            "grid_auto_columns": null,
            "grid_auto_flow": null,
            "grid_auto_rows": null,
            "grid_column": null,
            "grid_gap": null,
            "grid_row": null,
            "grid_template_areas": null,
            "grid_template_columns": null,
            "grid_template_rows": null,
            "height": null,
            "justify_content": null,
            "justify_items": null,
            "left": null,
            "margin": null,
            "max_height": null,
            "max_width": null,
            "min_height": null,
            "min_width": null,
            "object_fit": null,
            "object_position": null,
            "order": null,
            "overflow": null,
            "overflow_x": null,
            "overflow_y": null,
            "padding": null,
            "right": null,
            "top": null,
            "visibility": null,
            "width": null
          }
        },
        "c70025b904b64a78b1e3f594447a571f": {
          "model_module": "@jupyter-widgets/controls",
          "model_name": "DescriptionStyleModel",
          "model_module_version": "1.5.0",
          "state": {
            "_model_module": "@jupyter-widgets/controls",
            "_model_module_version": "1.5.0",
            "_model_name": "DescriptionStyleModel",
            "_view_count": null,
            "_view_module": "@jupyter-widgets/base",
            "_view_module_version": "1.2.0",
            "_view_name": "StyleView",
            "description_width": ""
          }
        },
        "e2c2db03c28d4a6cb02245ea0c92f9e8": {
          "model_module": "@jupyter-widgets/controls",
          "model_name": "HBoxModel",
          "model_module_version": "1.5.0",
          "state": {
            "_dom_classes": [],
            "_model_module": "@jupyter-widgets/controls",
            "_model_module_version": "1.5.0",
            "_model_name": "HBoxModel",
            "_view_count": null,
            "_view_module": "@jupyter-widgets/controls",
            "_view_module_version": "1.5.0",
            "_view_name": "HBoxView",
            "box_style": "",
            "children": [
              "IPY_MODEL_9b27eb67a5e7401396ebdb59aabf66eb",
              "IPY_MODEL_1999aaef7a094155884c62618c07f9e2",
              "IPY_MODEL_99a56c3e513645f4858b5d8d3a4969d8"
            ],
            "layout": "IPY_MODEL_1ed923787e8e4bba8f053070fb803f32"
          }
        },
        "9b27eb67a5e7401396ebdb59aabf66eb": {
          "model_module": "@jupyter-widgets/controls",
          "model_name": "HTMLModel",
          "model_module_version": "1.5.0",
          "state": {
            "_dom_classes": [],
            "_model_module": "@jupyter-widgets/controls",
            "_model_module_version": "1.5.0",
            "_model_name": "HTMLModel",
            "_view_count": null,
            "_view_module": "@jupyter-widgets/controls",
            "_view_module_version": "1.5.0",
            "_view_name": "HTMLView",
            "description": "",
            "description_tooltip": null,
            "layout": "IPY_MODEL_928d958f9f544751ac31c39e5d4e4baf",
            "placeholder": "​",
            "style": "IPY_MODEL_7fd4126355854d84a4db30d9da79635c",
            "value": "Map:  96%"
          }
        },
        "1999aaef7a094155884c62618c07f9e2": {
          "model_module": "@jupyter-widgets/controls",
          "model_name": "FloatProgressModel",
          "model_module_version": "1.5.0",
          "state": {
            "_dom_classes": [],
            "_model_module": "@jupyter-widgets/controls",
            "_model_module_version": "1.5.0",
            "_model_name": "FloatProgressModel",
            "_view_count": null,
            "_view_module": "@jupyter-widgets/controls",
            "_view_module_version": "1.5.0",
            "_view_name": "ProgressView",
            "bar_style": "",
            "description": "",
            "description_tooltip": null,
            "layout": "IPY_MODEL_7f41adff9222420ba5d135de64a6bdf4",
            "max": 2198,
            "min": 0,
            "orientation": "horizontal",
            "style": "IPY_MODEL_6f831202ecba4adb86e2ec8e7a1782be",
            "value": 2198
          }
        },
        "99a56c3e513645f4858b5d8d3a4969d8": {
          "model_module": "@jupyter-widgets/controls",
          "model_name": "HTMLModel",
          "model_module_version": "1.5.0",
          "state": {
            "_dom_classes": [],
            "_model_module": "@jupyter-widgets/controls",
            "_model_module_version": "1.5.0",
            "_model_name": "HTMLModel",
            "_view_count": null,
            "_view_module": "@jupyter-widgets/controls",
            "_view_module_version": "1.5.0",
            "_view_name": "HTMLView",
            "description": "",
            "description_tooltip": null,
            "layout": "IPY_MODEL_646197a62b5f405498eff84bcbb20c7b",
            "placeholder": "​",
            "style": "IPY_MODEL_c2427a597bbe4acca35a5d4063ffece0",
            "value": " 2115/2198 [00:01&lt;00:00, 867.32 examples/s]"
          }
        },
        "1ed923787e8e4bba8f053070fb803f32": {
          "model_module": "@jupyter-widgets/base",
          "model_name": "LayoutModel",
          "model_module_version": "1.2.0",
          "state": {
            "_model_module": "@jupyter-widgets/base",
            "_model_module_version": "1.2.0",
            "_model_name": "LayoutModel",
            "_view_count": null,
            "_view_module": "@jupyter-widgets/base",
            "_view_module_version": "1.2.0",
            "_view_name": "LayoutView",
            "align_content": null,
            "align_items": null,
            "align_self": null,
            "border": null,
            "bottom": null,
            "display": null,
            "flex": null,
            "flex_flow": null,
            "grid_area": null,
            "grid_auto_columns": null,
            "grid_auto_flow": null,
            "grid_auto_rows": null,
            "grid_column": null,
            "grid_gap": null,
            "grid_row": null,
            "grid_template_areas": null,
            "grid_template_columns": null,
            "grid_template_rows": null,
            "height": null,
            "justify_content": null,
            "justify_items": null,
            "left": null,
            "margin": null,
            "max_height": null,
            "max_width": null,
            "min_height": null,
            "min_width": null,
            "object_fit": null,
            "object_position": null,
            "order": null,
            "overflow": null,
            "overflow_x": null,
            "overflow_y": null,
            "padding": null,
            "right": null,
            "top": null,
            "visibility": "hidden",
            "width": null
          }
        },
        "928d958f9f544751ac31c39e5d4e4baf": {
          "model_module": "@jupyter-widgets/base",
          "model_name": "LayoutModel",
          "model_module_version": "1.2.0",
          "state": {
            "_model_module": "@jupyter-widgets/base",
            "_model_module_version": "1.2.0",
            "_model_name": "LayoutModel",
            "_view_count": null,
            "_view_module": "@jupyter-widgets/base",
            "_view_module_version": "1.2.0",
            "_view_name": "LayoutView",
            "align_content": null,
            "align_items": null,
            "align_self": null,
            "border": null,
            "bottom": null,
            "display": null,
            "flex": null,
            "flex_flow": null,
            "grid_area": null,
            "grid_auto_columns": null,
            "grid_auto_flow": null,
            "grid_auto_rows": null,
            "grid_column": null,
            "grid_gap": null,
            "grid_row": null,
            "grid_template_areas": null,
            "grid_template_columns": null,
            "grid_template_rows": null,
            "height": null,
            "justify_content": null,
            "justify_items": null,
            "left": null,
            "margin": null,
            "max_height": null,
            "max_width": null,
            "min_height": null,
            "min_width": null,
            "object_fit": null,
            "object_position": null,
            "order": null,
            "overflow": null,
            "overflow_x": null,
            "overflow_y": null,
            "padding": null,
            "right": null,
            "top": null,
            "visibility": null,
            "width": null
          }
        },
        "7fd4126355854d84a4db30d9da79635c": {
          "model_module": "@jupyter-widgets/controls",
          "model_name": "DescriptionStyleModel",
          "model_module_version": "1.5.0",
          "state": {
            "_model_module": "@jupyter-widgets/controls",
            "_model_module_version": "1.5.0",
            "_model_name": "DescriptionStyleModel",
            "_view_count": null,
            "_view_module": "@jupyter-widgets/base",
            "_view_module_version": "1.2.0",
            "_view_name": "StyleView",
            "description_width": ""
          }
        },
        "7f41adff9222420ba5d135de64a6bdf4": {
          "model_module": "@jupyter-widgets/base",
          "model_name": "LayoutModel",
          "model_module_version": "1.2.0",
          "state": {
            "_model_module": "@jupyter-widgets/base",
            "_model_module_version": "1.2.0",
            "_model_name": "LayoutModel",
            "_view_count": null,
            "_view_module": "@jupyter-widgets/base",
            "_view_module_version": "1.2.0",
            "_view_name": "LayoutView",
            "align_content": null,
            "align_items": null,
            "align_self": null,
            "border": null,
            "bottom": null,
            "display": null,
            "flex": null,
            "flex_flow": null,
            "grid_area": null,
            "grid_auto_columns": null,
            "grid_auto_flow": null,
            "grid_auto_rows": null,
            "grid_column": null,
            "grid_gap": null,
            "grid_row": null,
            "grid_template_areas": null,
            "grid_template_columns": null,
            "grid_template_rows": null,
            "height": null,
            "justify_content": null,
            "justify_items": null,
            "left": null,
            "margin": null,
            "max_height": null,
            "max_width": null,
            "min_height": null,
            "min_width": null,
            "object_fit": null,
            "object_position": null,
            "order": null,
            "overflow": null,
            "overflow_x": null,
            "overflow_y": null,
            "padding": null,
            "right": null,
            "top": null,
            "visibility": null,
            "width": null
          }
        },
        "6f831202ecba4adb86e2ec8e7a1782be": {
          "model_module": "@jupyter-widgets/controls",
          "model_name": "ProgressStyleModel",
          "model_module_version": "1.5.0",
          "state": {
            "_model_module": "@jupyter-widgets/controls",
            "_model_module_version": "1.5.0",
            "_model_name": "ProgressStyleModel",
            "_view_count": null,
            "_view_module": "@jupyter-widgets/base",
            "_view_module_version": "1.2.0",
            "_view_name": "StyleView",
            "bar_color": null,
            "description_width": ""
          }
        },
        "646197a62b5f405498eff84bcbb20c7b": {
          "model_module": "@jupyter-widgets/base",
          "model_name": "LayoutModel",
          "model_module_version": "1.2.0",
          "state": {
            "_model_module": "@jupyter-widgets/base",
            "_model_module_version": "1.2.0",
            "_model_name": "LayoutModel",
            "_view_count": null,
            "_view_module": "@jupyter-widgets/base",
            "_view_module_version": "1.2.0",
            "_view_name": "LayoutView",
            "align_content": null,
            "align_items": null,
            "align_self": null,
            "border": null,
            "bottom": null,
            "display": null,
            "flex": null,
            "flex_flow": null,
            "grid_area": null,
            "grid_auto_columns": null,
            "grid_auto_flow": null,
            "grid_auto_rows": null,
            "grid_column": null,
            "grid_gap": null,
            "grid_row": null,
            "grid_template_areas": null,
            "grid_template_columns": null,
            "grid_template_rows": null,
            "height": null,
            "justify_content": null,
            "justify_items": null,
            "left": null,
            "margin": null,
            "max_height": null,
            "max_width": null,
            "min_height": null,
            "min_width": null,
            "object_fit": null,
            "object_position": null,
            "order": null,
            "overflow": null,
            "overflow_x": null,
            "overflow_y": null,
            "padding": null,
            "right": null,
            "top": null,
            "visibility": null,
            "width": null
          }
        },
        "c2427a597bbe4acca35a5d4063ffece0": {
          "model_module": "@jupyter-widgets/controls",
          "model_name": "DescriptionStyleModel",
          "model_module_version": "1.5.0",
          "state": {
            "_model_module": "@jupyter-widgets/controls",
            "_model_module_version": "1.5.0",
            "_model_name": "DescriptionStyleModel",
            "_view_count": null,
            "_view_module": "@jupyter-widgets/base",
            "_view_module_version": "1.2.0",
            "_view_name": "StyleView",
            "description_width": ""
          }
        }
      }
    }
  },
  "cells": [
    {
      "cell_type": "markdown",
      "source": [
        "# PROJEKT ZUM NLP \n",
        "Autor: Mateusz Bednarek s18579"
      ],
      "metadata": {
        "id": "kEJCLJPDKLq1"
      }
    },
    {
      "cell_type": "markdown",
      "source": [
        "## Spis tresci\n",
        "<font color=green>Rekomendowane jest uzycie VSC, aby hiperlacza w tym spisie tresci dzialaly : )</font>\n",
        "- [Etap 1: Zbieranie Danych](#etap-1-zbieranie-danych)\n",
        "  - [1.1 Zbieranie danych](#11-zbieranie-danych)\n",
        "    - [1.1.1 Instalacja bibliotek](#111-instalacja-bibliotek)\n",
        "    - [1.1.2 Import blibliotek](#112-import-blibliotek)\n",
        "    - [1.1.3 Scraping](#113-scraping)\n",
        "    - [1.1.4 Zapis scrapowanych tweetow do csv](#114-zapis-scrapowanych-tweetow-do-csv)\n",
        "  - [1.2 Czyszczenie danych](#12-czyszczenie-danych)\n",
        "    - [1.2.1 Instalacja bibliotek](#121-instalacja-bibliotek)\n",
        "    - [1.2.2 Import bibliotek](#122-import-bibliotek)\n",
        "    - [1.2.3 Konfiguracja bibliotek](#123-konfiguracja-bibliotek)\n",
        "    - [1.2.4 Funkcje do czyszczenia danych](#124-funkcje-do-czyszczenia-danych)\n",
        "    - [1.2.5 Czyszczenie scrapowanych danych](#125-czyszczenie-scrapowanych-danych)\n",
        "  - [1.3 Analiza tonacji](#13-analiza-tonacji)\n",
        "    - [1.3.1 Instalacja bibliotek](#131-instalacja-bibliotek)\n",
        "    - [1.3.2 Importowanie bibliotek](#132-importowanie-bibliotek)\n",
        "    - [1.3.3 Zczytywanie danych](#133-zczytywanie-danych)\n",
        "    - [1.3.4 Uzycie Word2Vec modelu](#134-uzycie-word2vec-modelu)\n",
        "    - [1.3.5 Uzycie KMeans modelu](#135-uzycie-kmeans-modelu)\n",
        "    - [1.3.6 Etykietowanie danych](#136-etykietowanie-danych)\n",
        "    - [1.3.7 Sprawdzanie przykladowych danych](#137-sprawdzanie-przykladowych-danych)\n",
        "- [Etap 2: Classic ML](#etap-2-classic-ml)\n",
        "  - [2.1 Przygotowanie danych do modeli](#21-przygotowanie-danych-do-modeli)\n",
        "    - [2.1.1 Importowanie bibliotek](#211-importowanie-bibliotek)\n",
        "    - [2.1.2 Zaladowywanie danych](#212-zaladowywanie-danych)\n",
        "    - [2.1.3 Transformacja danych do modeli](#213-transformacja-danych-do-modeli)\n",
        "  - [2.2 Naiwny Bayes](#22-naiwny-bayes)\n",
        "    - [2.2.1 Trenowanie Modelu](#221-trenowanie-modelu)\n",
        "    - [2.2.2 Wizualizacja Modelu](#222-wizualizacja-modelu)\n",
        "  - [2.3 Regresja logistyczna](#23-regresja-logistyczna)\n",
        "    - [2.3.1 Trenowanie Modelu](#231-trenowanie-modelu)\n",
        "    - [2.3.2 Wizualizacja Modelu](#232-wizualizacja-modelu)\n",
        "  - [2.4 Drzewo decyzyjne](#24-drzewo-decyzyjne) \n",
        "    - [2.4.1 Trenowanie Modelu](#241-trenowanie-modelu)\n",
        "    - [2.4.2 Wizualizacja Modelu](#242-wizualizacja-modelu)\n",
        "- [Etap 3: Neural Model](#etap-3-neural-model) \n",
        "  - [3.1 Model BLSTM](#31-model-blstm) \n",
        "    - [3.1.1 Instalacja bibliotek](#311-instalacja-bibliotek) \n",
        "    - [3.1.2 Import bibliotek](#312-import-bibliotek) \n",
        "    - [3.1.3 Zczytywanie danych](#313-zczytywanie-danych) \n",
        "    - [3.1.4 Przygotowywanie danych](#314-przygotowywanie-danych) \n",
        "    - [3.1.5 Uczenie modelu](#315-uczenie-modelu) \n",
        "    - [3.1.6 Wizualizacja](#316-wizualizacja) \n",
        "    - [3.1.7 Test modelu](#317-test-modelu) \n",
        "- [Etap 4: Language Model](#etap-4-language-model) \n",
        "  - [4.1 DistilBERT model](#41-distilbert-model) \n",
        "    - [4.1.1 Instalacja bibliotek](#411-instalacja-bibliotek) \n",
        "    - [4.1.2 Importowanie bibliotek](#412-importowanie-bibliotek) \n",
        "    - [4.1.3 Zczytywanie danych](#413-zczytywanie-danych) \n",
        "    - [4.1.4 Przygotowywanie danych](#414-przygotowywanie-danych) \n",
        "    - [4.1.5 Uczenie modelu](#415-uczenie-modelu) \n",
        "    - [4.1.6 Testowanie modelu](#416-testowanie-modelu) "
      ],
      "metadata": {
        "id": "ds9yhXrHYFv1"
      }
    },
    {
      "cell_type": "markdown",
      "source": [
        "## Etap 1: Zbieranie Danych\n"
      ],
      "metadata": {
        "id": "5-8Pv1nK1vjF"
      }
    },
    {
      "cell_type": "markdown",
      "source": [
        "### 1.1 Zbieranie danych"
      ],
      "metadata": {
        "id": "YGXb00nBZ5uB"
      }
    },
    {
      "cell_type": "markdown",
      "source": [
        "#### 1.1.1 Instalacja bibliotek"
      ],
      "metadata": {
        "id": "Xz8amBTFmxuk"
      }
    },
    {
      "cell_type": "code",
      "source": [
        "!pip3 install git+https://github.com/JustAnotherArchivist/snscrape.git"
      ],
      "metadata": {
        "colab": {
          "base_uri": "https://localhost:8080/"
        },
        "id": "boV7enCd3WvT",
        "outputId": "8b5148e8-9e2c-4d4b-905e-f749d44b10c8"
      },
      "execution_count": null,
      "outputs": [
        {
          "output_type": "stream",
          "name": "stdout",
          "text": [
            "Looking in indexes: https://pypi.org/simple, https://us-python.pkg.dev/colab-wheels/public/simple/\n",
            "Collecting git+https://github.com/JustAnotherArchivist/snscrape.git\n",
            "  Cloning https://github.com/JustAnotherArchivist/snscrape.git to /tmp/pip-req-build-gwew7i_o\n",
            "  Running command git clone --filter=blob:none --quiet https://github.com/JustAnotherArchivist/snscrape.git /tmp/pip-req-build-gwew7i_o\n",
            "  Resolved https://github.com/JustAnotherArchivist/snscrape.git to commit 786815dd05681e2421cd03aa9acf5ab5c773bce9\n",
            "  Installing build dependencies ... \u001b[?25l\u001b[?25hdone\n",
            "  Getting requirements to build wheel ... \u001b[?25l\u001b[?25hdone\n",
            "  Installing backend dependencies ... \u001b[?25l\u001b[?25hdone\n",
            "  Preparing metadata (pyproject.toml) ... \u001b[?25l\u001b[?25hdone\n",
            "Requirement already satisfied: requests[socks] in /usr/local/lib/python3.10/dist-packages (from snscrape==0.6.2.20230321.dev13+g786815d) (2.27.1)\n",
            "Requirement already satisfied: lxml in /usr/local/lib/python3.10/dist-packages (from snscrape==0.6.2.20230321.dev13+g786815d) (4.9.2)\n",
            "Requirement already satisfied: beautifulsoup4 in /usr/local/lib/python3.10/dist-packages (from snscrape==0.6.2.20230321.dev13+g786815d) (4.11.2)\n",
            "Requirement already satisfied: filelock in /usr/local/lib/python3.10/dist-packages (from snscrape==0.6.2.20230321.dev13+g786815d) (3.12.0)\n",
            "Requirement already satisfied: soupsieve>1.2 in /usr/local/lib/python3.10/dist-packages (from beautifulsoup4->snscrape==0.6.2.20230321.dev13+g786815d) (2.4.1)\n",
            "Requirement already satisfied: urllib3<1.27,>=1.21.1 in /usr/local/lib/python3.10/dist-packages (from requests[socks]->snscrape==0.6.2.20230321.dev13+g786815d) (1.26.15)\n",
            "Requirement already satisfied: certifi>=2017.4.17 in /usr/local/lib/python3.10/dist-packages (from requests[socks]->snscrape==0.6.2.20230321.dev13+g786815d) (2022.12.7)\n",
            "Requirement already satisfied: charset-normalizer~=2.0.0 in /usr/local/lib/python3.10/dist-packages (from requests[socks]->snscrape==0.6.2.20230321.dev13+g786815d) (2.0.12)\n",
            "Requirement already satisfied: idna<4,>=2.5 in /usr/local/lib/python3.10/dist-packages (from requests[socks]->snscrape==0.6.2.20230321.dev13+g786815d) (3.4)\n",
            "Requirement already satisfied: PySocks!=1.5.7,>=1.5.6 in /usr/local/lib/python3.10/dist-packages (from requests[socks]->snscrape==0.6.2.20230321.dev13+g786815d) (1.7.1)\n"
          ]
        }
      ]
    },
    {
      "cell_type": "markdown",
      "source": [
        "#### 1.1.2 Import blibliotek"
      ],
      "metadata": {
        "id": "LANpRza4m6pO"
      }
    },
    {
      "cell_type": "code",
      "execution_count": null,
      "metadata": {
        "id": "1QxJaO_CdVs4"
      },
      "outputs": [],
      "source": [
        "import snscrape.modules.twitter as sntwitter\n",
        "import pandas as pd\n",
        "from datetime import date\n",
        "from dateutil import rrule\n",
        "from dateutil.relativedelta import relativedelta"
      ]
    },
    {
      "cell_type": "markdown",
      "source": [
        "#### 1.1.3 Scraping"
      ],
      "metadata": {
        "id": "FITUdj-nnB7n"
      }
    },
    {
      "cell_type": "code",
      "source": [
        "posts = []\n",
        "\n",
        "date_range = [date(2022,9,1), date(2023,5,21)]\n",
        "language = 'lang:en'\n",
        "filter = '-filter:retweets'\n",
        "\n",
        "tweet_limit = 2500\n",
        "\n",
        "\n",
        "for month_start in rrule.rrule(rrule.MONTHLY, dtstart=date_range[0], until=date_range[1]):\n",
        "  since_date = f'{month_start+relativedelta(day=2):%Y-%m-%d}'\n",
        "  until_date = f'{(month_start+relativedelta(months=1)):%Y-%m-%d}'\n",
        "\n",
        "  print(f\"Scrapping data range: {since_date} - {until_date}\")\n",
        "  query = f'#KingCharles {language} {filter} since:{since_date} until:{until_date}'\n",
        "  scraper = sntwitter.TwitterSearchScraper(query)\n",
        "  for i, post in enumerate(scraper.get_items()):\n",
        "    if i >= tweet_limit: break\n",
        "    posts.append([post.date,post.content])\n"
      ],
      "metadata": {
        "id": "iXN2SrVTFOi7"
      },
      "execution_count": null,
      "outputs": []
    },
    {
      "cell_type": "markdown",
      "source": [
        "#### 1.1.4 Zapis scrapowanych tweetow do csv"
      ],
      "metadata": {
        "id": "xCXb0d-_nGy9"
      }
    },
    {
      "cell_type": "code",
      "source": [
        "posts_df = pd.DataFrame(posts)\n",
        "posts_df.to_csv('scrapped_posts.csv')"
      ],
      "metadata": {
        "id": "r9GJDa35WEae"
      },
      "execution_count": null,
      "outputs": []
    },
    {
      "cell_type": "markdown",
      "source": [
        "### 1.2 Czyszczenie danych"
      ],
      "metadata": {
        "id": "0AHw_KiQaCiw"
      }
    },
    {
      "cell_type": "markdown",
      "source": [
        "#### 1.2.1 Instalacja bibliotek"
      ],
      "metadata": {
        "id": "GUQd0JFanNV6"
      }
    },
    {
      "cell_type": "code",
      "source": [
        "!pip install demoji\n",
        "!pip install -U spacy\n",
        "!python -m spacy download en_core_web_md"
      ],
      "metadata": {
        "colab": {
          "base_uri": "https://localhost:8080/"
        },
        "id": "Hcj-Wb67eBTD",
        "outputId": "d8f00179-5eab-499d-dabc-94260f8b1dff"
      },
      "execution_count": 1,
      "outputs": [
        {
          "output_type": "stream",
          "name": "stdout",
          "text": [
            "Looking in indexes: https://pypi.org/simple, https://us-python.pkg.dev/colab-wheels/public/simple/\n",
            "Requirement already satisfied: demoji in /usr/local/lib/python3.10/dist-packages (1.1.0)\n",
            "Looking in indexes: https://pypi.org/simple, https://us-python.pkg.dev/colab-wheels/public/simple/\n",
            "Requirement already satisfied: spacy in /usr/local/lib/python3.10/dist-packages (3.5.3)\n",
            "Requirement already satisfied: spacy-legacy<3.1.0,>=3.0.11 in /usr/local/lib/python3.10/dist-packages (from spacy) (3.0.12)\n",
            "Requirement already satisfied: spacy-loggers<2.0.0,>=1.0.0 in /usr/local/lib/python3.10/dist-packages (from spacy) (1.0.4)\n",
            "Requirement already satisfied: murmurhash<1.1.0,>=0.28.0 in /usr/local/lib/python3.10/dist-packages (from spacy) (1.0.9)\n",
            "Requirement already satisfied: cymem<2.1.0,>=2.0.2 in /usr/local/lib/python3.10/dist-packages (from spacy) (2.0.7)\n",
            "Requirement already satisfied: preshed<3.1.0,>=3.0.2 in /usr/local/lib/python3.10/dist-packages (from spacy) (3.0.8)\n",
            "Requirement already satisfied: thinc<8.2.0,>=8.1.8 in /usr/local/lib/python3.10/dist-packages (from spacy) (8.1.9)\n",
            "Requirement already satisfied: wasabi<1.2.0,>=0.9.1 in /usr/local/lib/python3.10/dist-packages (from spacy) (1.1.1)\n",
            "Requirement already satisfied: srsly<3.0.0,>=2.4.3 in /usr/local/lib/python3.10/dist-packages (from spacy) (2.4.6)\n",
            "Requirement already satisfied: catalogue<2.1.0,>=2.0.6 in /usr/local/lib/python3.10/dist-packages (from spacy) (2.0.8)\n",
            "Requirement already satisfied: typer<0.8.0,>=0.3.0 in /usr/local/lib/python3.10/dist-packages (from spacy) (0.7.0)\n",
            "Requirement already satisfied: pathy>=0.10.0 in /usr/local/lib/python3.10/dist-packages (from spacy) (0.10.1)\n",
            "Requirement already satisfied: smart-open<7.0.0,>=5.2.1 in /usr/local/lib/python3.10/dist-packages (from spacy) (6.3.0)\n",
            "Requirement already satisfied: tqdm<5.0.0,>=4.38.0 in /usr/local/lib/python3.10/dist-packages (from spacy) (4.65.0)\n",
            "Requirement already satisfied: numpy>=1.15.0 in /usr/local/lib/python3.10/dist-packages (from spacy) (1.22.4)\n",
            "Requirement already satisfied: requests<3.0.0,>=2.13.0 in /usr/local/lib/python3.10/dist-packages (from spacy) (2.27.1)\n",
            "Requirement already satisfied: pydantic!=1.8,!=1.8.1,<1.11.0,>=1.7.4 in /usr/local/lib/python3.10/dist-packages (from spacy) (1.10.7)\n",
            "Requirement already satisfied: jinja2 in /usr/local/lib/python3.10/dist-packages (from spacy) (3.1.2)\n",
            "Requirement already satisfied: setuptools in /usr/local/lib/python3.10/dist-packages (from spacy) (67.7.2)\n",
            "Requirement already satisfied: packaging>=20.0 in /usr/local/lib/python3.10/dist-packages (from spacy) (23.1)\n",
            "Requirement already satisfied: langcodes<4.0.0,>=3.2.0 in /usr/local/lib/python3.10/dist-packages (from spacy) (3.3.0)\n",
            "Requirement already satisfied: typing-extensions>=4.2.0 in /usr/local/lib/python3.10/dist-packages (from pydantic!=1.8,!=1.8.1,<1.11.0,>=1.7.4->spacy) (4.5.0)\n",
            "Requirement already satisfied: urllib3<1.27,>=1.21.1 in /usr/local/lib/python3.10/dist-packages (from requests<3.0.0,>=2.13.0->spacy) (1.26.15)\n",
            "Requirement already satisfied: certifi>=2017.4.17 in /usr/local/lib/python3.10/dist-packages (from requests<3.0.0,>=2.13.0->spacy) (2022.12.7)\n",
            "Requirement already satisfied: charset-normalizer~=2.0.0 in /usr/local/lib/python3.10/dist-packages (from requests<3.0.0,>=2.13.0->spacy) (2.0.12)\n",
            "Requirement already satisfied: idna<4,>=2.5 in /usr/local/lib/python3.10/dist-packages (from requests<3.0.0,>=2.13.0->spacy) (3.4)\n",
            "Requirement already satisfied: blis<0.8.0,>=0.7.8 in /usr/local/lib/python3.10/dist-packages (from thinc<8.2.0,>=8.1.8->spacy) (0.7.9)\n",
            "Requirement already satisfied: confection<1.0.0,>=0.0.1 in /usr/local/lib/python3.10/dist-packages (from thinc<8.2.0,>=8.1.8->spacy) (0.0.4)\n",
            "Requirement already satisfied: click<9.0.0,>=7.1.1 in /usr/local/lib/python3.10/dist-packages (from typer<0.8.0,>=0.3.0->spacy) (8.1.3)\n",
            "Requirement already satisfied: MarkupSafe>=2.0 in /usr/local/lib/python3.10/dist-packages (from jinja2->spacy) (2.1.2)\n",
            "2023-05-24 12:23:20.059054: I tensorflow/core/platform/cpu_feature_guard.cc:182] This TensorFlow binary is optimized to use available CPU instructions in performance-critical operations.\n",
            "To enable the following instructions: AVX2 FMA, in other operations, rebuild TensorFlow with the appropriate compiler flags.\n",
            "2023-05-24 12:23:23.315701: W tensorflow/compiler/tf2tensorrt/utils/py_utils.cc:38] TF-TRT Warning: Could not find TensorRT\n",
            "2023-05-24 12:23:27.491252: I tensorflow/compiler/xla/stream_executor/cuda/cuda_gpu_executor.cc:996] successful NUMA node read from SysFS had negative value (-1), but there must be at least one NUMA node, so returning NUMA node zero. See more at https://github.com/torvalds/linux/blob/v6.0/Documentation/ABI/testing/sysfs-bus-pci#L344-L355\n",
            "2023-05-24 12:23:27.491872: I tensorflow/compiler/xla/stream_executor/cuda/cuda_gpu_executor.cc:996] successful NUMA node read from SysFS had negative value (-1), but there must be at least one NUMA node, so returning NUMA node zero. See more at https://github.com/torvalds/linux/blob/v6.0/Documentation/ABI/testing/sysfs-bus-pci#L344-L355\n",
            "2023-05-24 12:23:27.492118: I tensorflow/compiler/xla/stream_executor/cuda/cuda_gpu_executor.cc:996] successful NUMA node read from SysFS had negative value (-1), but there must be at least one NUMA node, so returning NUMA node zero. See more at https://github.com/torvalds/linux/blob/v6.0/Documentation/ABI/testing/sysfs-bus-pci#L344-L355\n",
            "Looking in indexes: https://pypi.org/simple, https://us-python.pkg.dev/colab-wheels/public/simple/\n",
            "Collecting en-core-web-md==3.5.0\n",
            "  Downloading https://github.com/explosion/spacy-models/releases/download/en_core_web_md-3.5.0/en_core_web_md-3.5.0-py3-none-any.whl (42.8 MB)\n",
            "\u001b[2K     \u001b[90m━━━━━━━━━━━━━━━━━━━━━━━━━━━━━━━━━━━━━━━━\u001b[0m \u001b[32m42.8/42.8 MB\u001b[0m \u001b[31m17.9 MB/s\u001b[0m eta \u001b[36m0:00:00\u001b[0m\n",
            "\u001b[?25hRequirement already satisfied: spacy<3.6.0,>=3.5.0 in /usr/local/lib/python3.10/dist-packages (from en-core-web-md==3.5.0) (3.5.3)\n",
            "Requirement already satisfied: spacy-legacy<3.1.0,>=3.0.11 in /usr/local/lib/python3.10/dist-packages (from spacy<3.6.0,>=3.5.0->en-core-web-md==3.5.0) (3.0.12)\n",
            "Requirement already satisfied: spacy-loggers<2.0.0,>=1.0.0 in /usr/local/lib/python3.10/dist-packages (from spacy<3.6.0,>=3.5.0->en-core-web-md==3.5.0) (1.0.4)\n",
            "Requirement already satisfied: murmurhash<1.1.0,>=0.28.0 in /usr/local/lib/python3.10/dist-packages (from spacy<3.6.0,>=3.5.0->en-core-web-md==3.5.0) (1.0.9)\n",
            "Requirement already satisfied: cymem<2.1.0,>=2.0.2 in /usr/local/lib/python3.10/dist-packages (from spacy<3.6.0,>=3.5.0->en-core-web-md==3.5.0) (2.0.7)\n",
            "Requirement already satisfied: preshed<3.1.0,>=3.0.2 in /usr/local/lib/python3.10/dist-packages (from spacy<3.6.0,>=3.5.0->en-core-web-md==3.5.0) (3.0.8)\n",
            "Requirement already satisfied: thinc<8.2.0,>=8.1.8 in /usr/local/lib/python3.10/dist-packages (from spacy<3.6.0,>=3.5.0->en-core-web-md==3.5.0) (8.1.9)\n",
            "Requirement already satisfied: wasabi<1.2.0,>=0.9.1 in /usr/local/lib/python3.10/dist-packages (from spacy<3.6.0,>=3.5.0->en-core-web-md==3.5.0) (1.1.1)\n",
            "Requirement already satisfied: srsly<3.0.0,>=2.4.3 in /usr/local/lib/python3.10/dist-packages (from spacy<3.6.0,>=3.5.0->en-core-web-md==3.5.0) (2.4.6)\n",
            "Requirement already satisfied: catalogue<2.1.0,>=2.0.6 in /usr/local/lib/python3.10/dist-packages (from spacy<3.6.0,>=3.5.0->en-core-web-md==3.5.0) (2.0.8)\n",
            "Requirement already satisfied: typer<0.8.0,>=0.3.0 in /usr/local/lib/python3.10/dist-packages (from spacy<3.6.0,>=3.5.0->en-core-web-md==3.5.0) (0.7.0)\n",
            "Requirement already satisfied: pathy>=0.10.0 in /usr/local/lib/python3.10/dist-packages (from spacy<3.6.0,>=3.5.0->en-core-web-md==3.5.0) (0.10.1)\n",
            "Requirement already satisfied: smart-open<7.0.0,>=5.2.1 in /usr/local/lib/python3.10/dist-packages (from spacy<3.6.0,>=3.5.0->en-core-web-md==3.5.0) (6.3.0)\n",
            "Requirement already satisfied: tqdm<5.0.0,>=4.38.0 in /usr/local/lib/python3.10/dist-packages (from spacy<3.6.0,>=3.5.0->en-core-web-md==3.5.0) (4.65.0)\n",
            "Requirement already satisfied: numpy>=1.15.0 in /usr/local/lib/python3.10/dist-packages (from spacy<3.6.0,>=3.5.0->en-core-web-md==3.5.0) (1.22.4)\n",
            "Requirement already satisfied: requests<3.0.0,>=2.13.0 in /usr/local/lib/python3.10/dist-packages (from spacy<3.6.0,>=3.5.0->en-core-web-md==3.5.0) (2.27.1)\n",
            "Requirement already satisfied: pydantic!=1.8,!=1.8.1,<1.11.0,>=1.7.4 in /usr/local/lib/python3.10/dist-packages (from spacy<3.6.0,>=3.5.0->en-core-web-md==3.5.0) (1.10.7)\n",
            "Requirement already satisfied: jinja2 in /usr/local/lib/python3.10/dist-packages (from spacy<3.6.0,>=3.5.0->en-core-web-md==3.5.0) (3.1.2)\n",
            "Requirement already satisfied: setuptools in /usr/local/lib/python3.10/dist-packages (from spacy<3.6.0,>=3.5.0->en-core-web-md==3.5.0) (67.7.2)\n",
            "Requirement already satisfied: packaging>=20.0 in /usr/local/lib/python3.10/dist-packages (from spacy<3.6.0,>=3.5.0->en-core-web-md==3.5.0) (23.1)\n",
            "Requirement already satisfied: langcodes<4.0.0,>=3.2.0 in /usr/local/lib/python3.10/dist-packages (from spacy<3.6.0,>=3.5.0->en-core-web-md==3.5.0) (3.3.0)\n",
            "Requirement already satisfied: typing-extensions>=4.2.0 in /usr/local/lib/python3.10/dist-packages (from pydantic!=1.8,!=1.8.1,<1.11.0,>=1.7.4->spacy<3.6.0,>=3.5.0->en-core-web-md==3.5.0) (4.5.0)\n",
            "Requirement already satisfied: urllib3<1.27,>=1.21.1 in /usr/local/lib/python3.10/dist-packages (from requests<3.0.0,>=2.13.0->spacy<3.6.0,>=3.5.0->en-core-web-md==3.5.0) (1.26.15)\n",
            "Requirement already satisfied: certifi>=2017.4.17 in /usr/local/lib/python3.10/dist-packages (from requests<3.0.0,>=2.13.0->spacy<3.6.0,>=3.5.0->en-core-web-md==3.5.0) (2022.12.7)\n",
            "Requirement already satisfied: charset-normalizer~=2.0.0 in /usr/local/lib/python3.10/dist-packages (from requests<3.0.0,>=2.13.0->spacy<3.6.0,>=3.5.0->en-core-web-md==3.5.0) (2.0.12)\n",
            "Requirement already satisfied: idna<4,>=2.5 in /usr/local/lib/python3.10/dist-packages (from requests<3.0.0,>=2.13.0->spacy<3.6.0,>=3.5.0->en-core-web-md==3.5.0) (3.4)\n",
            "Requirement already satisfied: blis<0.8.0,>=0.7.8 in /usr/local/lib/python3.10/dist-packages (from thinc<8.2.0,>=8.1.8->spacy<3.6.0,>=3.5.0->en-core-web-md==3.5.0) (0.7.9)\n",
            "Requirement already satisfied: confection<1.0.0,>=0.0.1 in /usr/local/lib/python3.10/dist-packages (from thinc<8.2.0,>=8.1.8->spacy<3.6.0,>=3.5.0->en-core-web-md==3.5.0) (0.0.4)\n",
            "Requirement already satisfied: click<9.0.0,>=7.1.1 in /usr/local/lib/python3.10/dist-packages (from typer<0.8.0,>=0.3.0->spacy<3.6.0,>=3.5.0->en-core-web-md==3.5.0) (8.1.3)\n",
            "Requirement already satisfied: MarkupSafe>=2.0 in /usr/local/lib/python3.10/dist-packages (from jinja2->spacy<3.6.0,>=3.5.0->en-core-web-md==3.5.0) (2.1.2)\n",
            "\u001b[38;5;2m✔ Download and installation successful\u001b[0m\n",
            "You can now load the package via spacy.load('en_core_web_md')\n"
          ]
        }
      ]
    },
    {
      "cell_type": "markdown",
      "source": [
        "#### 1.2.2 Import  bibliotek"
      ],
      "metadata": {
        "id": "JlzbGRwvnVvK"
      }
    },
    {
      "cell_type": "code",
      "source": [
        "import re\n",
        "import demoji\n",
        "import spacy\n",
        "import numpy\n",
        "import pandas as pd\n",
        "from tqdm import tqdm"
      ],
      "metadata": {
        "id": "1l8cOR5cd0q3"
      },
      "execution_count": 2,
      "outputs": []
    },
    {
      "cell_type": "markdown",
      "source": [
        "#### 1.2.3 Konfiguracja bibliotek"
      ],
      "metadata": {
        "id": "d9BtsccgnaVy"
      }
    },
    {
      "cell_type": "code",
      "source": [
        "tqdm.pandas()\n",
        "demoji.download_codes()\n",
        "nlp = spacy.load(\"en_core_web_md\", disable=['ner', 'parser'])\n",
        "nlp.add_pipe('sentencizer')"
      ],
      "metadata": {
        "colab": {
          "base_uri": "https://localhost:8080/"
        },
        "id": "Kd2O6mvtd1Ly",
        "outputId": "2a45d93c-bb69-4f34-eac4-2e53a4962053"
      },
      "execution_count": 3,
      "outputs": [
        {
          "output_type": "stream",
          "name": "stderr",
          "text": [
            "<ipython-input-3-68aa388a43e4>:2: FutureWarning: The demoji.download_codes attribute is deprecated and will be removed from demoji in a future version. It is an unused attribute as emoji codes are now distributed directly with the demoji package.\n",
            "  demoji.download_codes()\n"
          ]
        },
        {
          "output_type": "execute_result",
          "data": {
            "text/plain": [
              "<spacy.pipeline.sentencizer.Sentencizer at 0x7f1189b6e080>"
            ]
          },
          "metadata": {},
          "execution_count": 3
        }
      ]
    },
    {
      "cell_type": "markdown",
      "source": [
        "#### 1.2.4 Funkcje do czyszczenia danych"
      ],
      "metadata": {
        "id": "TogEmo3mnd0S"
      }
    },
    {
      "cell_type": "code",
      "source": [
        "def remove_stopwords(text):\n",
        "  return ' '.join(filter(lambda x:x not in nlp.Defaults.stop_words, text.split()))\n",
        "\n",
        "def lemm(text):\n",
        "  return ' '.join([x.lemma_ for x in nlp(text)])\n",
        "\n",
        "def replace_emoji(post):\n",
        "  demoji_post = demoji.findall(post)\n",
        "  new_post = post\n",
        "  for emoji, meaning in demoji_post.items(): new_post = new_post.replace(emoji, meaning)\n",
        "  return new_post\n",
        "\n",
        "def drop_small_tweets(post):\n",
        "  if len(post.split()) > 2: return post\n",
        "  else: return ''"
      ],
      "metadata": {
        "id": "y3-YoRQNi8Y2"
      },
      "execution_count": 4,
      "outputs": []
    },
    {
      "cell_type": "code",
      "source": [
        "def clean_posts(df):\n",
        "  # 1. Duplikaty\n",
        "  df.drop_duplicates(subset=['text'],inplace=True)\n",
        "\n",
        "  # # 2. Emoji\n",
        "  df['text'] = df['text'].apply(replace_emoji)\n",
        "\n",
        "  # 3. Wzmianki\n",
        "  re_at = re.compile(r'\\@\\w+')\n",
        "  df['text'] = df['text'].apply(lambda x: re_at.sub('',x))\n",
        "\n",
        "  # 4. Hashtagi\n",
        "  re_hash = re.compile(r'\\#\\w+')\n",
        "  df['text'] = df['text'].apply(lambda x: re_hash.sub('',x))\n",
        "\n",
        "  # 5. URL\n",
        "  re_url = re.compile(r'((www.[^\\s]+)|(https?://[^\\s]+))')\n",
        "  df['text'] = df['text'].apply(lambda x: re_url.sub('',x))\n",
        "\n",
        "  # 6. Wyrazenia regularne\n",
        "  re_chars = re.compile(r\"[^a-zA-Z\\s']\")\n",
        "  df['text'] = df['text'].apply(lambda x: re_chars.sub('',x))\n",
        "\n",
        "  re_suffixes = re.compile(r\"\\'[a-zA-Z]*\")\n",
        "  df['text'] = df['text'].apply(lambda x: re_suffixes.sub('',x))\n",
        "\n",
        "  re_plus = re.compile(r\",\")\n",
        "  df['text'] = df['text'].apply(lambda x: re_plus.sub(' ',x))\n",
        "\n",
        "  re_dot = re.compile(r\"\\.\")\n",
        "  df['text'] = df['text'].apply(lambda x: re_dot.sub(' ',x))\n",
        "\n",
        "  re_ex = re.compile(r\"!\")\n",
        "  df['text'] = df['text'].apply(lambda x: re_ex.sub(' ! ',x))\n",
        "\n",
        "  re_que = re.compile(r\"\\?\")\n",
        "  df['text'] = df['text'].apply(lambda x: re_que.sub(' ? ',x))\n",
        "\n",
        "  re_kek = re.compile(r\"'\")\n",
        "  df['text'] = df['text'].apply(lambda x: re_kek.sub(' ',x))\n",
        "\n",
        "  # 7. Zmniejszenie\n",
        "  df['text'] = df['text'].apply(lambda x: x.lower())\n",
        "\n",
        "  # 8. Stopwords\n",
        "  df['text'] = df['text'].apply(remove_stopwords)\n",
        "\n",
        "  # 9. Lemmatyzacja\n",
        "  df['text'] = df['text'].progress_apply(lemm)\n",
        "\n",
        "  # 10. Male tweety\n",
        "  df['text']= df['text'].apply(drop_small_tweets)\n",
        "\n",
        "  re_kekw = re.compile(r\"\\bve\\b\")\n",
        "  df['text'] = df['text'].apply(lambda x: re_kekw.sub(' ',x))\n",
        "  re_i = re.compile(r\"\\b[Ii]\\b\")\n",
        "  df['text'] = df['text'].apply(lambda x: re_i.sub(' ',x))\n",
        "\n",
        "  # 11. Null\n",
        "  df['text'].replace('', numpy.nan, inplace=True) \n",
        "  df.dropna(subset=['text'], inplace=True)\n",
        "\n",
        "  \n",
        "\n",
        "  df.to_csv(\"clean_posts.csv\")\n",
        "  return df"
      ],
      "metadata": {
        "id": "4NzznBYRcGrb"
      },
      "execution_count": 5,
      "outputs": []
    },
    {
      "cell_type": "markdown",
      "source": [
        "#### 1.2.5 Czyszczenie scrapowanych danych"
      ],
      "metadata": {
        "id": "-g2GvlSVnwqQ"
      }
    },
    {
      "cell_type": "code",
      "source": [
        "posts_df = pd.read_csv('scrapped_posts.csv')\n",
        "posts_df = posts_df.set_axis(['id','date','text'], axis = 1)\n",
        "\n",
        "print(f'Dataframe shape: {posts_df.shape}')\n",
        "posts_df.head(10)"
      ],
      "metadata": {
        "id": "WRolLOXdCGGK"
      },
      "execution_count": null,
      "outputs": []
    },
    {
      "cell_type": "code",
      "source": [
        "clean_df = clean_posts(posts_df)\n",
        "clean_df.head(100)"
      ],
      "metadata": {
        "colab": {
          "base_uri": "https://localhost:8080/",
          "height": 441
        },
        "id": "GZzk45ADkoA8",
        "outputId": "89104be4-8032-4142-91cf-d117ee613284"
      },
      "execution_count": 7,
      "outputs": [
        {
          "output_type": "stream",
          "name": "stderr",
          "text": [
            "100%|██████████| 22327/22327 [01:27<00:00, 254.60it/s]\n"
          ]
        },
        {
          "output_type": "execute_result",
          "data": {
            "text/plain": [
              "    id                       date  \\\n",
              "0    0  2022-09-30 23:59:50+00:00   \n",
              "1    1  2022-09-30 23:58:47+00:00   \n",
              "2    2  2022-09-30 23:58:03+00:00   \n",
              "3    3  2022-09-30 23:57:45+00:00   \n",
              "4    4  2022-09-30 23:55:27+00:00   \n",
              "..  ..                        ...   \n",
              "95  95  2022-09-30 22:33:32+00:00   \n",
              "96  96  2022-09-30 22:32:55+00:00   \n",
              "97  97  2022-09-30 22:32:43+00:00   \n",
              "98  98  2022-09-30 22:31:30+00:00   \n",
              "99  99  2022-09-30 22:30:31+00:00   \n",
              "\n",
              "                                                 text  \n",
              "0   prince harry blindsided king charle camilla qu...  \n",
              "1   king charle iii coin portrait unveil uk royal ...  \n",
              "2   overhear girl think king charles kill girl lik...  \n",
              "3   choose believe god infinite mercy church heave...  \n",
              "4   ban people support canada country trouble mobi...  \n",
              "..                                                ...  \n",
              "95  britain royal mint reveal coin feature image k...  \n",
              "96  baloney king charle strip princess beatrice pr...  \n",
              "97  meghan tell truth doesn know real truth reason...  \n",
              "98  princessss beatrice eugenie descendant monarch...  \n",
              "99  imagine prefer die granny queen hate harry dia...  \n",
              "\n",
              "[100 rows x 3 columns]"
            ],
            "text/html": [
              "\n",
              "  <div id=\"df-6131bbbe-0db7-45e8-8b22-79d4b5b9eaf5\">\n",
              "    <div class=\"colab-df-container\">\n",
              "      <div>\n",
              "<style scoped>\n",
              "    .dataframe tbody tr th:only-of-type {\n",
              "        vertical-align: middle;\n",
              "    }\n",
              "\n",
              "    .dataframe tbody tr th {\n",
              "        vertical-align: top;\n",
              "    }\n",
              "\n",
              "    .dataframe thead th {\n",
              "        text-align: right;\n",
              "    }\n",
              "</style>\n",
              "<table border=\"1\" class=\"dataframe\">\n",
              "  <thead>\n",
              "    <tr style=\"text-align: right;\">\n",
              "      <th></th>\n",
              "      <th>id</th>\n",
              "      <th>date</th>\n",
              "      <th>text</th>\n",
              "    </tr>\n",
              "  </thead>\n",
              "  <tbody>\n",
              "    <tr>\n",
              "      <th>0</th>\n",
              "      <td>0</td>\n",
              "      <td>2022-09-30 23:59:50+00:00</td>\n",
              "      <td>prince harry blindsided king charle camilla qu...</td>\n",
              "    </tr>\n",
              "    <tr>\n",
              "      <th>1</th>\n",
              "      <td>1</td>\n",
              "      <td>2022-09-30 23:58:47+00:00</td>\n",
              "      <td>king charle iii coin portrait unveil uk royal ...</td>\n",
              "    </tr>\n",
              "    <tr>\n",
              "      <th>2</th>\n",
              "      <td>2</td>\n",
              "      <td>2022-09-30 23:58:03+00:00</td>\n",
              "      <td>overhear girl think king charles kill girl lik...</td>\n",
              "    </tr>\n",
              "    <tr>\n",
              "      <th>3</th>\n",
              "      <td>3</td>\n",
              "      <td>2022-09-30 23:57:45+00:00</td>\n",
              "      <td>choose believe god infinite mercy church heave...</td>\n",
              "    </tr>\n",
              "    <tr>\n",
              "      <th>4</th>\n",
              "      <td>4</td>\n",
              "      <td>2022-09-30 23:55:27+00:00</td>\n",
              "      <td>ban people support canada country trouble mobi...</td>\n",
              "    </tr>\n",
              "    <tr>\n",
              "      <th>...</th>\n",
              "      <td>...</td>\n",
              "      <td>...</td>\n",
              "      <td>...</td>\n",
              "    </tr>\n",
              "    <tr>\n",
              "      <th>95</th>\n",
              "      <td>95</td>\n",
              "      <td>2022-09-30 22:33:32+00:00</td>\n",
              "      <td>britain royal mint reveal coin feature image k...</td>\n",
              "    </tr>\n",
              "    <tr>\n",
              "      <th>96</th>\n",
              "      <td>96</td>\n",
              "      <td>2022-09-30 22:32:55+00:00</td>\n",
              "      <td>baloney king charle strip princess beatrice pr...</td>\n",
              "    </tr>\n",
              "    <tr>\n",
              "      <th>97</th>\n",
              "      <td>97</td>\n",
              "      <td>2022-09-30 22:32:43+00:00</td>\n",
              "      <td>meghan tell truth doesn know real truth reason...</td>\n",
              "    </tr>\n",
              "    <tr>\n",
              "      <th>98</th>\n",
              "      <td>98</td>\n",
              "      <td>2022-09-30 22:31:30+00:00</td>\n",
              "      <td>princessss beatrice eugenie descendant monarch...</td>\n",
              "    </tr>\n",
              "    <tr>\n",
              "      <th>99</th>\n",
              "      <td>99</td>\n",
              "      <td>2022-09-30 22:30:31+00:00</td>\n",
              "      <td>imagine prefer die granny queen hate harry dia...</td>\n",
              "    </tr>\n",
              "  </tbody>\n",
              "</table>\n",
              "<p>100 rows × 3 columns</p>\n",
              "</div>\n",
              "      <button class=\"colab-df-convert\" onclick=\"convertToInteractive('df-6131bbbe-0db7-45e8-8b22-79d4b5b9eaf5')\"\n",
              "              title=\"Convert this dataframe to an interactive table.\"\n",
              "              style=\"display:none;\">\n",
              "        \n",
              "  <svg xmlns=\"http://www.w3.org/2000/svg\" height=\"24px\"viewBox=\"0 0 24 24\"\n",
              "       width=\"24px\">\n",
              "    <path d=\"M0 0h24v24H0V0z\" fill=\"none\"/>\n",
              "    <path d=\"M18.56 5.44l.94 2.06.94-2.06 2.06-.94-2.06-.94-.94-2.06-.94 2.06-2.06.94zm-11 1L8.5 8.5l.94-2.06 2.06-.94-2.06-.94L8.5 2.5l-.94 2.06-2.06.94zm10 10l.94 2.06.94-2.06 2.06-.94-2.06-.94-.94-2.06-.94 2.06-2.06.94z\"/><path d=\"M17.41 7.96l-1.37-1.37c-.4-.4-.92-.59-1.43-.59-.52 0-1.04.2-1.43.59L10.3 9.45l-7.72 7.72c-.78.78-.78 2.05 0 2.83L4 21.41c.39.39.9.59 1.41.59.51 0 1.02-.2 1.41-.59l7.78-7.78 2.81-2.81c.8-.78.8-2.07 0-2.86zM5.41 20L4 18.59l7.72-7.72 1.47 1.35L5.41 20z\"/>\n",
              "  </svg>\n",
              "      </button>\n",
              "      \n",
              "  <style>\n",
              "    .colab-df-container {\n",
              "      display:flex;\n",
              "      flex-wrap:wrap;\n",
              "      gap: 12px;\n",
              "    }\n",
              "\n",
              "    .colab-df-convert {\n",
              "      background-color: #E8F0FE;\n",
              "      border: none;\n",
              "      border-radius: 50%;\n",
              "      cursor: pointer;\n",
              "      display: none;\n",
              "      fill: #1967D2;\n",
              "      height: 32px;\n",
              "      padding: 0 0 0 0;\n",
              "      width: 32px;\n",
              "    }\n",
              "\n",
              "    .colab-df-convert:hover {\n",
              "      background-color: #E2EBFA;\n",
              "      box-shadow: 0px 1px 2px rgba(60, 64, 67, 0.3), 0px 1px 3px 1px rgba(60, 64, 67, 0.15);\n",
              "      fill: #174EA6;\n",
              "    }\n",
              "\n",
              "    [theme=dark] .colab-df-convert {\n",
              "      background-color: #3B4455;\n",
              "      fill: #D2E3FC;\n",
              "    }\n",
              "\n",
              "    [theme=dark] .colab-df-convert:hover {\n",
              "      background-color: #434B5C;\n",
              "      box-shadow: 0px 1px 3px 1px rgba(0, 0, 0, 0.15);\n",
              "      filter: drop-shadow(0px 1px 2px rgba(0, 0, 0, 0.3));\n",
              "      fill: #FFFFFF;\n",
              "    }\n",
              "  </style>\n",
              "\n",
              "      <script>\n",
              "        const buttonEl =\n",
              "          document.querySelector('#df-6131bbbe-0db7-45e8-8b22-79d4b5b9eaf5 button.colab-df-convert');\n",
              "        buttonEl.style.display =\n",
              "          google.colab.kernel.accessAllowed ? 'block' : 'none';\n",
              "\n",
              "        async function convertToInteractive(key) {\n",
              "          const element = document.querySelector('#df-6131bbbe-0db7-45e8-8b22-79d4b5b9eaf5');\n",
              "          const dataTable =\n",
              "            await google.colab.kernel.invokeFunction('convertToInteractive',\n",
              "                                                     [key], {});\n",
              "          if (!dataTable) return;\n",
              "\n",
              "          const docLinkHtml = 'Like what you see? Visit the ' +\n",
              "            '<a target=\"_blank\" href=https://colab.research.google.com/notebooks/data_table.ipynb>data table notebook</a>'\n",
              "            + ' to learn more about interactive tables.';\n",
              "          element.innerHTML = '';\n",
              "          dataTable['output_type'] = 'display_data';\n",
              "          await google.colab.output.renderOutput(dataTable, element);\n",
              "          const docLink = document.createElement('div');\n",
              "          docLink.innerHTML = docLinkHtml;\n",
              "          element.appendChild(docLink);\n",
              "        }\n",
              "      </script>\n",
              "    </div>\n",
              "  </div>\n",
              "  "
            ]
          },
          "metadata": {},
          "execution_count": 7
        }
      ]
    },
    {
      "cell_type": "code",
      "source": [
        "print(f'Dataframe shape: {clean_df.shape}')"
      ],
      "metadata": {
        "colab": {
          "base_uri": "https://localhost:8080/"
        },
        "id": "aIuqKD-_spBr",
        "outputId": "ae3eb19c-b169-4981-b7ea-e7018d7c33bb"
      },
      "execution_count": 8,
      "outputs": [
        {
          "output_type": "stream",
          "name": "stdout",
          "text": [
            "Dataframe shape: (21978, 3)\n"
          ]
        }
      ]
    },
    {
      "cell_type": "markdown",
      "source": [
        "### 1.3 Analiza tonacji"
      ],
      "metadata": {
        "id": "W_mkuM0YxTH8"
      }
    },
    {
      "cell_type": "markdown",
      "source": [
        "#### 1.3.1 Instalacja bibliotek"
      ],
      "metadata": {
        "id": "xuBht5l9oZEw"
      }
    },
    {
      "cell_type": "code",
      "source": [
        "!pip install unidecode -q\n",
        "!pip install gensim==4.3.1 -q"
      ],
      "metadata": {
        "id": "IEZKVZfyyL7o",
        "colab": {
          "base_uri": "https://localhost:8080/"
        },
        "outputId": "c161aaab-dd2b-4c28-a808-d56e1c62a09d"
      },
      "execution_count": 1,
      "outputs": [
        {
          "output_type": "stream",
          "name": "stdout",
          "text": [
            "\u001b[?25l     \u001b[90m━━━━━━━━━━━━━━━━━━━━━━━━━━━━━━━━━━━━━━━━\u001b[0m \u001b[32m0.0/235.9 kB\u001b[0m \u001b[31m?\u001b[0m eta \u001b[36m-:--:--\u001b[0m\r\u001b[2K     \u001b[90m━━━━━━━━━━━━━━━━━━━━━━━━━━━━━━━━━━━━━━\u001b[0m \u001b[32m235.9/235.9 kB\u001b[0m \u001b[31m17.5 MB/s\u001b[0m eta \u001b[36m0:00:00\u001b[0m\n",
            "\u001b[?25h"
          ]
        }
      ]
    },
    {
      "cell_type": "markdown",
      "source": [
        "#### 1.3.2 Importowanie bibliotek"
      ],
      "metadata": {
        "id": "H_CRYbc5ociE"
      }
    },
    {
      "cell_type": "code",
      "source": [
        "import re\n",
        "import logging\n",
        "import numpy as np\n",
        "import pandas as pd\n",
        "import multiprocessing\n",
        "\n",
        "from re import sub\n",
        "from time import time \n",
        "from unidecode import unidecode\n",
        "from gensim.models import Word2Vec\n",
        "from collections import defaultdict\n",
        "from gensim.models import KeyedVectors\n",
        "from gensim.test.utils import get_tmpfile\n",
        "from gensim.models.phrases import Phrases, Phraser\n",
        "\n",
        "logging.basicConfig(format=\"%(levelname)s - %(asctime)s: %(message)s\", datefmt= '%H:%M:%S', level=logging.INFO)"
      ],
      "metadata": {
        "id": "X09iyLEWIAYN"
      },
      "execution_count": 2,
      "outputs": []
    },
    {
      "cell_type": "markdown",
      "source": [
        "#### 1.3.3 Zczytywanie danych"
      ],
      "metadata": {
        "id": "AFAVtoZJogtg"
      }
    },
    {
      "cell_type": "code",
      "source": [
        "clean_df = pd.read_csv('clean_posts.csv', index_col=[0])\n",
        "clean_df.sample(10)"
      ],
      "metadata": {
        "colab": {
          "base_uri": "https://localhost:8080/",
          "height": 0
        },
        "id": "UVeE4fkKyPH_",
        "outputId": "2cd65a85-4d2e-40b4-ce27-ed4fd81e7a9d"
      },
      "execution_count": 3,
      "outputs": [
        {
          "output_type": "execute_result",
          "data": {
            "text/plain": [
              "          id                       date  \\\n",
              "9800    9800  2022-12-30 10:02:46+00:00   \n",
              "20551  20551  2023-05-23 09:20:23+00:00   \n",
              "19682  19682  2023-04-30 16:28:09+00:00   \n",
              "6441    6441  2022-11-29 23:10:32+00:00   \n",
              "19501  19501  2023-04-30 17:00:38+00:00   \n",
              "10232  10232  2023-01-31 19:49:14+00:00   \n",
              "1251    1251  2022-09-30 13:17:59+00:00   \n",
              "6067    6067  2022-11-30 10:30:16+00:00   \n",
              "4256    4256  2022-10-30 20:43:39+00:00   \n",
              "10527  10527  2023-01-31 15:24:52+00:00   \n",
              "\n",
              "                                                    text  \n",
              "9800   king charles iii christmas address pay tribute...  \n",
              "20551  oh hospital daty thailand cost k imagine cost ...  \n",
              "19682                        coronation king charles iii  \n",
              "6441   contrary king charles heir pull harry meghan a...  \n",
              "19501  guess vote leaflet say x say king charles nonc...  \n",
              "10232  lady susan hussey attend church king charle month  \n",
              "1251   diana get pass affair yell racism be not go ki...  \n",
              "6067   king charle iii reveal royal monogram top tudo...  \n",
              "4256   king charle wait scrap scrap son get dirty sit...  \n",
              "10527  do not love bit sparkle fun filming segment cr...  "
            ],
            "text/html": [
              "\n",
              "  <div id=\"df-1f41aea1-ff99-4cc6-b95f-4c2b0fcdbd6a\">\n",
              "    <div class=\"colab-df-container\">\n",
              "      <div>\n",
              "<style scoped>\n",
              "    .dataframe tbody tr th:only-of-type {\n",
              "        vertical-align: middle;\n",
              "    }\n",
              "\n",
              "    .dataframe tbody tr th {\n",
              "        vertical-align: top;\n",
              "    }\n",
              "\n",
              "    .dataframe thead th {\n",
              "        text-align: right;\n",
              "    }\n",
              "</style>\n",
              "<table border=\"1\" class=\"dataframe\">\n",
              "  <thead>\n",
              "    <tr style=\"text-align: right;\">\n",
              "      <th></th>\n",
              "      <th>id</th>\n",
              "      <th>date</th>\n",
              "      <th>text</th>\n",
              "    </tr>\n",
              "  </thead>\n",
              "  <tbody>\n",
              "    <tr>\n",
              "      <th>9800</th>\n",
              "      <td>9800</td>\n",
              "      <td>2022-12-30 10:02:46+00:00</td>\n",
              "      <td>king charles iii christmas address pay tribute...</td>\n",
              "    </tr>\n",
              "    <tr>\n",
              "      <th>20551</th>\n",
              "      <td>20551</td>\n",
              "      <td>2023-05-23 09:20:23+00:00</td>\n",
              "      <td>oh hospital daty thailand cost k imagine cost ...</td>\n",
              "    </tr>\n",
              "    <tr>\n",
              "      <th>19682</th>\n",
              "      <td>19682</td>\n",
              "      <td>2023-04-30 16:28:09+00:00</td>\n",
              "      <td>coronation king charles iii</td>\n",
              "    </tr>\n",
              "    <tr>\n",
              "      <th>6441</th>\n",
              "      <td>6441</td>\n",
              "      <td>2022-11-29 23:10:32+00:00</td>\n",
              "      <td>contrary king charles heir pull harry meghan a...</td>\n",
              "    </tr>\n",
              "    <tr>\n",
              "      <th>19501</th>\n",
              "      <td>19501</td>\n",
              "      <td>2023-04-30 17:00:38+00:00</td>\n",
              "      <td>guess vote leaflet say x say king charles nonc...</td>\n",
              "    </tr>\n",
              "    <tr>\n",
              "      <th>10232</th>\n",
              "      <td>10232</td>\n",
              "      <td>2023-01-31 19:49:14+00:00</td>\n",
              "      <td>lady susan hussey attend church king charle month</td>\n",
              "    </tr>\n",
              "    <tr>\n",
              "      <th>1251</th>\n",
              "      <td>1251</td>\n",
              "      <td>2022-09-30 13:17:59+00:00</td>\n",
              "      <td>diana get pass affair yell racism be not go ki...</td>\n",
              "    </tr>\n",
              "    <tr>\n",
              "      <th>6067</th>\n",
              "      <td>6067</td>\n",
              "      <td>2022-11-30 10:30:16+00:00</td>\n",
              "      <td>king charle iii reveal royal monogram top tudo...</td>\n",
              "    </tr>\n",
              "    <tr>\n",
              "      <th>4256</th>\n",
              "      <td>4256</td>\n",
              "      <td>2022-10-30 20:43:39+00:00</td>\n",
              "      <td>king charle wait scrap scrap son get dirty sit...</td>\n",
              "    </tr>\n",
              "    <tr>\n",
              "      <th>10527</th>\n",
              "      <td>10527</td>\n",
              "      <td>2023-01-31 15:24:52+00:00</td>\n",
              "      <td>do not love bit sparkle fun filming segment cr...</td>\n",
              "    </tr>\n",
              "  </tbody>\n",
              "</table>\n",
              "</div>\n",
              "      <button class=\"colab-df-convert\" onclick=\"convertToInteractive('df-1f41aea1-ff99-4cc6-b95f-4c2b0fcdbd6a')\"\n",
              "              title=\"Convert this dataframe to an interactive table.\"\n",
              "              style=\"display:none;\">\n",
              "        \n",
              "  <svg xmlns=\"http://www.w3.org/2000/svg\" height=\"24px\"viewBox=\"0 0 24 24\"\n",
              "       width=\"24px\">\n",
              "    <path d=\"M0 0h24v24H0V0z\" fill=\"none\"/>\n",
              "    <path d=\"M18.56 5.44l.94 2.06.94-2.06 2.06-.94-2.06-.94-.94-2.06-.94 2.06-2.06.94zm-11 1L8.5 8.5l.94-2.06 2.06-.94-2.06-.94L8.5 2.5l-.94 2.06-2.06.94zm10 10l.94 2.06.94-2.06 2.06-.94-2.06-.94-.94-2.06-.94 2.06-2.06.94z\"/><path d=\"M17.41 7.96l-1.37-1.37c-.4-.4-.92-.59-1.43-.59-.52 0-1.04.2-1.43.59L10.3 9.45l-7.72 7.72c-.78.78-.78 2.05 0 2.83L4 21.41c.39.39.9.59 1.41.59.51 0 1.02-.2 1.41-.59l7.78-7.78 2.81-2.81c.8-.78.8-2.07 0-2.86zM5.41 20L4 18.59l7.72-7.72 1.47 1.35L5.41 20z\"/>\n",
              "  </svg>\n",
              "      </button>\n",
              "      \n",
              "  <style>\n",
              "    .colab-df-container {\n",
              "      display:flex;\n",
              "      flex-wrap:wrap;\n",
              "      gap: 12px;\n",
              "    }\n",
              "\n",
              "    .colab-df-convert {\n",
              "      background-color: #E8F0FE;\n",
              "      border: none;\n",
              "      border-radius: 50%;\n",
              "      cursor: pointer;\n",
              "      display: none;\n",
              "      fill: #1967D2;\n",
              "      height: 32px;\n",
              "      padding: 0 0 0 0;\n",
              "      width: 32px;\n",
              "    }\n",
              "\n",
              "    .colab-df-convert:hover {\n",
              "      background-color: #E2EBFA;\n",
              "      box-shadow: 0px 1px 2px rgba(60, 64, 67, 0.3), 0px 1px 3px 1px rgba(60, 64, 67, 0.15);\n",
              "      fill: #174EA6;\n",
              "    }\n",
              "\n",
              "    [theme=dark] .colab-df-convert {\n",
              "      background-color: #3B4455;\n",
              "      fill: #D2E3FC;\n",
              "    }\n",
              "\n",
              "    [theme=dark] .colab-df-convert:hover {\n",
              "      background-color: #434B5C;\n",
              "      box-shadow: 0px 1px 3px 1px rgba(0, 0, 0, 0.15);\n",
              "      filter: drop-shadow(0px 1px 2px rgba(0, 0, 0, 0.3));\n",
              "      fill: #FFFFFF;\n",
              "    }\n",
              "  </style>\n",
              "\n",
              "      <script>\n",
              "        const buttonEl =\n",
              "          document.querySelector('#df-1f41aea1-ff99-4cc6-b95f-4c2b0fcdbd6a button.colab-df-convert');\n",
              "        buttonEl.style.display =\n",
              "          google.colab.kernel.accessAllowed ? 'block' : 'none';\n",
              "\n",
              "        async function convertToInteractive(key) {\n",
              "          const element = document.querySelector('#df-1f41aea1-ff99-4cc6-b95f-4c2b0fcdbd6a');\n",
              "          const dataTable =\n",
              "            await google.colab.kernel.invokeFunction('convertToInteractive',\n",
              "                                                     [key], {});\n",
              "          if (!dataTable) return;\n",
              "\n",
              "          const docLinkHtml = 'Like what you see? Visit the ' +\n",
              "            '<a target=\"_blank\" href=https://colab.research.google.com/notebooks/data_table.ipynb>data table notebook</a>'\n",
              "            + ' to learn more about interactive tables.';\n",
              "          element.innerHTML = '';\n",
              "          dataTable['output_type'] = 'display_data';\n",
              "          await google.colab.output.renderOutput(dataTable, element);\n",
              "          const docLink = document.createElement('div');\n",
              "          docLink.innerHTML = docLinkHtml;\n",
              "          element.appendChild(docLink);\n",
              "        }\n",
              "      </script>\n",
              "    </div>\n",
              "  </div>\n",
              "  "
            ]
          },
          "metadata": {},
          "execution_count": 3
        }
      ]
    },
    {
      "cell_type": "code",
      "source": [
        "clean_df.drop(columns=['id'], inplace=True)\n",
        "clean_df.drop(columns=['date'], inplace=True)\n",
        "clean_df.sample(10)\n"
      ],
      "metadata": {
        "colab": {
          "base_uri": "https://localhost:8080/",
          "height": 0
        },
        "id": "6ljotyQXyuTi",
        "outputId": "05d9e81b-656d-49ec-aacc-5d03f535eeca"
      },
      "execution_count": 4,
      "outputs": [
        {
          "output_type": "execute_result",
          "data": {
            "text/plain": [
              "                                                    text\n",
              "20793                            king charles iii invite\n",
              "3904                          king charles go queen wish\n",
              "10758                            sacred ceremony private\n",
              "2858   superb king charles praise planning cop amid r...\n",
              "4670                                    king charle seat\n",
              "2866   king charles feel betray meghan markle intervi...\n",
              "10329  can not multiple british royal prince princess...\n",
              "1221     coin feature king charles iii unveil royal mint\n",
              "19231  mrs nichol post beautifully design write card ...\n",
              "2711   king charles can not say that s fine ill host ..."
            ],
            "text/html": [
              "\n",
              "  <div id=\"df-46b74b12-a62f-434c-9907-960b5dd397d8\">\n",
              "    <div class=\"colab-df-container\">\n",
              "      <div>\n",
              "<style scoped>\n",
              "    .dataframe tbody tr th:only-of-type {\n",
              "        vertical-align: middle;\n",
              "    }\n",
              "\n",
              "    .dataframe tbody tr th {\n",
              "        vertical-align: top;\n",
              "    }\n",
              "\n",
              "    .dataframe thead th {\n",
              "        text-align: right;\n",
              "    }\n",
              "</style>\n",
              "<table border=\"1\" class=\"dataframe\">\n",
              "  <thead>\n",
              "    <tr style=\"text-align: right;\">\n",
              "      <th></th>\n",
              "      <th>text</th>\n",
              "    </tr>\n",
              "  </thead>\n",
              "  <tbody>\n",
              "    <tr>\n",
              "      <th>20793</th>\n",
              "      <td>king charles iii invite</td>\n",
              "    </tr>\n",
              "    <tr>\n",
              "      <th>3904</th>\n",
              "      <td>king charles go queen wish</td>\n",
              "    </tr>\n",
              "    <tr>\n",
              "      <th>10758</th>\n",
              "      <td>sacred ceremony private</td>\n",
              "    </tr>\n",
              "    <tr>\n",
              "      <th>2858</th>\n",
              "      <td>superb king charles praise planning cop amid r...</td>\n",
              "    </tr>\n",
              "    <tr>\n",
              "      <th>4670</th>\n",
              "      <td>king charle seat</td>\n",
              "    </tr>\n",
              "    <tr>\n",
              "      <th>2866</th>\n",
              "      <td>king charles feel betray meghan markle intervi...</td>\n",
              "    </tr>\n",
              "    <tr>\n",
              "      <th>10329</th>\n",
              "      <td>can not multiple british royal prince princess...</td>\n",
              "    </tr>\n",
              "    <tr>\n",
              "      <th>1221</th>\n",
              "      <td>coin feature king charles iii unveil royal mint</td>\n",
              "    </tr>\n",
              "    <tr>\n",
              "      <th>19231</th>\n",
              "      <td>mrs nichol post beautifully design write card ...</td>\n",
              "    </tr>\n",
              "    <tr>\n",
              "      <th>2711</th>\n",
              "      <td>king charles can not say that s fine ill host ...</td>\n",
              "    </tr>\n",
              "  </tbody>\n",
              "</table>\n",
              "</div>\n",
              "      <button class=\"colab-df-convert\" onclick=\"convertToInteractive('df-46b74b12-a62f-434c-9907-960b5dd397d8')\"\n",
              "              title=\"Convert this dataframe to an interactive table.\"\n",
              "              style=\"display:none;\">\n",
              "        \n",
              "  <svg xmlns=\"http://www.w3.org/2000/svg\" height=\"24px\"viewBox=\"0 0 24 24\"\n",
              "       width=\"24px\">\n",
              "    <path d=\"M0 0h24v24H0V0z\" fill=\"none\"/>\n",
              "    <path d=\"M18.56 5.44l.94 2.06.94-2.06 2.06-.94-2.06-.94-.94-2.06-.94 2.06-2.06.94zm-11 1L8.5 8.5l.94-2.06 2.06-.94-2.06-.94L8.5 2.5l-.94 2.06-2.06.94zm10 10l.94 2.06.94-2.06 2.06-.94-2.06-.94-.94-2.06-.94 2.06-2.06.94z\"/><path d=\"M17.41 7.96l-1.37-1.37c-.4-.4-.92-.59-1.43-.59-.52 0-1.04.2-1.43.59L10.3 9.45l-7.72 7.72c-.78.78-.78 2.05 0 2.83L4 21.41c.39.39.9.59 1.41.59.51 0 1.02-.2 1.41-.59l7.78-7.78 2.81-2.81c.8-.78.8-2.07 0-2.86zM5.41 20L4 18.59l7.72-7.72 1.47 1.35L5.41 20z\"/>\n",
              "  </svg>\n",
              "      </button>\n",
              "      \n",
              "  <style>\n",
              "    .colab-df-container {\n",
              "      display:flex;\n",
              "      flex-wrap:wrap;\n",
              "      gap: 12px;\n",
              "    }\n",
              "\n",
              "    .colab-df-convert {\n",
              "      background-color: #E8F0FE;\n",
              "      border: none;\n",
              "      border-radius: 50%;\n",
              "      cursor: pointer;\n",
              "      display: none;\n",
              "      fill: #1967D2;\n",
              "      height: 32px;\n",
              "      padding: 0 0 0 0;\n",
              "      width: 32px;\n",
              "    }\n",
              "\n",
              "    .colab-df-convert:hover {\n",
              "      background-color: #E2EBFA;\n",
              "      box-shadow: 0px 1px 2px rgba(60, 64, 67, 0.3), 0px 1px 3px 1px rgba(60, 64, 67, 0.15);\n",
              "      fill: #174EA6;\n",
              "    }\n",
              "\n",
              "    [theme=dark] .colab-df-convert {\n",
              "      background-color: #3B4455;\n",
              "      fill: #D2E3FC;\n",
              "    }\n",
              "\n",
              "    [theme=dark] .colab-df-convert:hover {\n",
              "      background-color: #434B5C;\n",
              "      box-shadow: 0px 1px 3px 1px rgba(0, 0, 0, 0.15);\n",
              "      filter: drop-shadow(0px 1px 2px rgba(0, 0, 0, 0.3));\n",
              "      fill: #FFFFFF;\n",
              "    }\n",
              "  </style>\n",
              "\n",
              "      <script>\n",
              "        const buttonEl =\n",
              "          document.querySelector('#df-46b74b12-a62f-434c-9907-960b5dd397d8 button.colab-df-convert');\n",
              "        buttonEl.style.display =\n",
              "          google.colab.kernel.accessAllowed ? 'block' : 'none';\n",
              "\n",
              "        async function convertToInteractive(key) {\n",
              "          const element = document.querySelector('#df-46b74b12-a62f-434c-9907-960b5dd397d8');\n",
              "          const dataTable =\n",
              "            await google.colab.kernel.invokeFunction('convertToInteractive',\n",
              "                                                     [key], {});\n",
              "          if (!dataTable) return;\n",
              "\n",
              "          const docLinkHtml = 'Like what you see? Visit the ' +\n",
              "            '<a target=\"_blank\" href=https://colab.research.google.com/notebooks/data_table.ipynb>data table notebook</a>'\n",
              "            + ' to learn more about interactive tables.';\n",
              "          element.innerHTML = '';\n",
              "          dataTable['output_type'] = 'display_data';\n",
              "          await google.colab.output.renderOutput(dataTable, element);\n",
              "          const docLink = document.createElement('div');\n",
              "          docLink.innerHTML = docLinkHtml;\n",
              "          element.appendChild(docLink);\n",
              "        }\n",
              "      </script>\n",
              "    </div>\n",
              "  </div>\n",
              "  "
            ]
          },
          "metadata": {},
          "execution_count": 4
        }
      ]
    },
    {
      "cell_type": "markdown",
      "source": [
        "#### 1.3.4 Uzycie Word2Vec modelu"
      ],
      "metadata": {
        "id": "x2AHl0saotVS"
      }
    },
    {
      "cell_type": "code",
      "source": [
        "file_model = clean_df.copy()\n",
        "file_model[\"text\"] = file_model[\"text\"].apply(lambda x: x.split())\n",
        "file_model[\"text\"] = file_model[file_model[\"text\"].str.len() > 1]\n",
        "file_model.reset_index(inplace=True)"
      ],
      "metadata": {
        "id": "VXQTCF8RMGYo"
      },
      "execution_count": 5,
      "outputs": []
    },
    {
      "cell_type": "code",
      "source": [
        "sent = [row for row in file_model.text]\n",
        "phrases = Phrases(sent, min_count=1, progress_per=50000)\n",
        "bigram = Phraser(phrases)\n",
        "sentences = bigram[sent]\n",
        "sentences[1]"
      ],
      "metadata": {
        "colab": {
          "base_uri": "https://localhost:8080/"
        },
        "id": "PcrSLoPdJA04",
        "outputId": "a78ef3e7-3065-40ed-b301-13dcd2dbae84"
      },
      "execution_count": 6,
      "outputs": [
        {
          "output_type": "execute_result",
          "data": {
            "text/plain": [
              "['king', 'charle', 'iii', 'coin_portrait', 'unveil', 'uk', 'royal_mint']"
            ]
          },
          "metadata": {},
          "execution_count": 6
        }
      ]
    },
    {
      "cell_type": "code",
      "source": [
        "w2v_model = Word2Vec(min_count=3,\n",
        "                     window=2,\n",
        "                     vector_size=500,\n",
        "                     sample=1e-5, \n",
        "                     alpha=0.03, \n",
        "                     min_alpha=0.0007, \n",
        "                     negative=20,\n",
        "                     workers=multiprocessing.cpu_count()-1)\n",
        "\n",
        "w2v_model.build_vocab(sentences, progress_per=50000)\n"
      ],
      "metadata": {
        "id": "Rmk-j-z3Mfn1"
      },
      "execution_count": 7,
      "outputs": []
    },
    {
      "cell_type": "code",
      "source": [
        "w2v_model.train(sentences,\n",
        "                total_examples=w2v_model.corpus_count,\n",
        "                epochs=200,\n",
        "                report_delay=1)\n",
        "w2v_model.init_sims(replace=True)\n",
        "w2v_model.save('word2vec.model')"
      ],
      "metadata": {
        "colab": {
          "base_uri": "https://localhost:8080/"
        },
        "id": "j8iKF-moMnL9",
        "outputId": "1634c72d-1380-4259-90e1-52269f8e6c7c"
      },
      "execution_count": 8,
      "outputs": [
        {
          "output_type": "stream",
          "name": "stderr",
          "text": [
            "<ipython-input-8-e085b59d00af>:5: DeprecationWarning: Call to deprecated `init_sims` (Gensim 4.0.0 implemented internal optimizations that make calls to init_sims() unnecessary. init_sims() is now obsoleted and will be completely removed in future versions. See https://github.com/RaRe-Technologies/gensim/wiki/Migrating-from-Gensim-3.x-to-4).\n",
            "  w2v_model.init_sims(replace=True)\n",
            "WARNING:gensim.models.keyedvectors:destructive init_sims(replace=True) deprecated & no longer required for space-efficiency\n"
          ]
        }
      ]
    },
    {
      "cell_type": "code",
      "source": [
        "file_export = file_model.copy()\n",
        "file_export[\"old_text\"] = file_export[\"text\"]\n",
        "file_export[\"old_text\"] = file_export[\"old_text\"].str.join(' ')\n",
        "file_export[\"text\"] = file_export[\"text\"].apply(lambda x: ' '.join(bigram[x]))\n",
        "file_export[\"text\"].to_csv('cleaned_dataset.csv', index=False)"
      ],
      "metadata": {
        "id": "N8DAO-GwNK4D"
      },
      "execution_count": 9,
      "outputs": []
    },
    {
      "cell_type": "markdown",
      "source": [
        "#### 1.3.5 Uzycie KMeans modelu"
      ],
      "metadata": {
        "id": "PHpCOj9YN4HL"
      }
    },
    {
      "cell_type": "code",
      "source": [
        "from sklearn.cluster import KMeans\n",
        "word_vectors = Word2Vec.load(\"word2vec.model\").wv\n",
        "\n",
        "model = KMeans(n_clusters=2,\n",
        "               max_iter=10000,\n",
        "               random_state=True,\n",
        "               n_init=50)\n",
        "model.fit(X=word_vectors.vectors.astype('double'))"
      ],
      "metadata": {
        "colab": {
          "base_uri": "https://localhost:8080/",
          "height": 0
        },
        "id": "lbf--fMpN63j",
        "outputId": "4acfdfc3-319b-40f3-dfff-6e1b5cf8b7ff"
      },
      "execution_count": 10,
      "outputs": [
        {
          "output_type": "execute_result",
          "data": {
            "text/plain": [
              "KMeans(max_iter=10000, n_clusters=2, n_init=50, random_state=True)"
            ],
            "text/html": [
              "<style>#sk-container-id-1 {color: black;background-color: white;}#sk-container-id-1 pre{padding: 0;}#sk-container-id-1 div.sk-toggleable {background-color: white;}#sk-container-id-1 label.sk-toggleable__label {cursor: pointer;display: block;width: 100%;margin-bottom: 0;padding: 0.3em;box-sizing: border-box;text-align: center;}#sk-container-id-1 label.sk-toggleable__label-arrow:before {content: \"▸\";float: left;margin-right: 0.25em;color: #696969;}#sk-container-id-1 label.sk-toggleable__label-arrow:hover:before {color: black;}#sk-container-id-1 div.sk-estimator:hover label.sk-toggleable__label-arrow:before {color: black;}#sk-container-id-1 div.sk-toggleable__content {max-height: 0;max-width: 0;overflow: hidden;text-align: left;background-color: #f0f8ff;}#sk-container-id-1 div.sk-toggleable__content pre {margin: 0.2em;color: black;border-radius: 0.25em;background-color: #f0f8ff;}#sk-container-id-1 input.sk-toggleable__control:checked~div.sk-toggleable__content {max-height: 200px;max-width: 100%;overflow: auto;}#sk-container-id-1 input.sk-toggleable__control:checked~label.sk-toggleable__label-arrow:before {content: \"▾\";}#sk-container-id-1 div.sk-estimator input.sk-toggleable__control:checked~label.sk-toggleable__label {background-color: #d4ebff;}#sk-container-id-1 div.sk-label input.sk-toggleable__control:checked~label.sk-toggleable__label {background-color: #d4ebff;}#sk-container-id-1 input.sk-hidden--visually {border: 0;clip: rect(1px 1px 1px 1px);clip: rect(1px, 1px, 1px, 1px);height: 1px;margin: -1px;overflow: hidden;padding: 0;position: absolute;width: 1px;}#sk-container-id-1 div.sk-estimator {font-family: monospace;background-color: #f0f8ff;border: 1px dotted black;border-radius: 0.25em;box-sizing: border-box;margin-bottom: 0.5em;}#sk-container-id-1 div.sk-estimator:hover {background-color: #d4ebff;}#sk-container-id-1 div.sk-parallel-item::after {content: \"\";width: 100%;border-bottom: 1px solid gray;flex-grow: 1;}#sk-container-id-1 div.sk-label:hover label.sk-toggleable__label {background-color: #d4ebff;}#sk-container-id-1 div.sk-serial::before {content: \"\";position: absolute;border-left: 1px solid gray;box-sizing: border-box;top: 0;bottom: 0;left: 50%;z-index: 0;}#sk-container-id-1 div.sk-serial {display: flex;flex-direction: column;align-items: center;background-color: white;padding-right: 0.2em;padding-left: 0.2em;position: relative;}#sk-container-id-1 div.sk-item {position: relative;z-index: 1;}#sk-container-id-1 div.sk-parallel {display: flex;align-items: stretch;justify-content: center;background-color: white;position: relative;}#sk-container-id-1 div.sk-item::before, #sk-container-id-1 div.sk-parallel-item::before {content: \"\";position: absolute;border-left: 1px solid gray;box-sizing: border-box;top: 0;bottom: 0;left: 50%;z-index: -1;}#sk-container-id-1 div.sk-parallel-item {display: flex;flex-direction: column;z-index: 1;position: relative;background-color: white;}#sk-container-id-1 div.sk-parallel-item:first-child::after {align-self: flex-end;width: 50%;}#sk-container-id-1 div.sk-parallel-item:last-child::after {align-self: flex-start;width: 50%;}#sk-container-id-1 div.sk-parallel-item:only-child::after {width: 0;}#sk-container-id-1 div.sk-dashed-wrapped {border: 1px dashed gray;margin: 0 0.4em 0.5em 0.4em;box-sizing: border-box;padding-bottom: 0.4em;background-color: white;}#sk-container-id-1 div.sk-label label {font-family: monospace;font-weight: bold;display: inline-block;line-height: 1.2em;}#sk-container-id-1 div.sk-label-container {text-align: center;}#sk-container-id-1 div.sk-container {/* jupyter's `normalize.less` sets `[hidden] { display: none; }` but bootstrap.min.css set `[hidden] { display: none !important; }` so we also need the `!important` here to be able to override the default hidden behavior on the sphinx rendered scikit-learn.org. See: https://github.com/scikit-learn/scikit-learn/issues/21755 */display: inline-block !important;position: relative;}#sk-container-id-1 div.sk-text-repr-fallback {display: none;}</style><div id=\"sk-container-id-1\" class=\"sk-top-container\"><div class=\"sk-text-repr-fallback\"><pre>KMeans(max_iter=10000, n_clusters=2, n_init=50, random_state=True)</pre><b>In a Jupyter environment, please rerun this cell to show the HTML representation or trust the notebook. <br />On GitHub, the HTML representation is unable to render, please try loading this page with nbviewer.org.</b></div><div class=\"sk-container\" hidden><div class=\"sk-item\"><div class=\"sk-estimator sk-toggleable\"><input class=\"sk-toggleable__control sk-hidden--visually\" id=\"sk-estimator-id-1\" type=\"checkbox\" checked><label for=\"sk-estimator-id-1\" class=\"sk-toggleable__label sk-toggleable__label-arrow\">KMeans</label><div class=\"sk-toggleable__content\"><pre>KMeans(max_iter=10000, n_clusters=2, n_init=50, random_state=True)</pre></div></div></div></div></div>"
            ]
          },
          "metadata": {},
          "execution_count": 10
        }
      ]
    },
    {
      "cell_type": "code",
      "source": [
        "words = pd.DataFrame(word_vectors.index_to_key)\n",
        "words.columns = ['words']\n",
        "words['vectors'] = words.words.apply(lambda x: word_vectors[f'{x}'])\n",
        "words['cluster'] = words.vectors.apply(lambda x: model.predict([np.array(x)]))\n",
        "words.cluster = words.cluster.apply(lambda x: x[0])\n",
        "words['cluster_value'] = [1 if i == 1 else -1 for i in words.cluster]\n",
        "words['closeness_score'] = words.apply(lambda x: 1 / (model.transform([x.vectors]).min()), axis=1)\n",
        "words['sentiment_coeff'] = words.closeness_score * words.cluster_value\n",
        "words[['words', 'sentiment_coeff']].to_csv('sentiment_dictionary.csv', index=False)\n"
      ],
      "metadata": {
        "id": "RscSuGppOgqp"
      },
      "execution_count": 11,
      "outputs": []
    },
    {
      "cell_type": "markdown",
      "source": [
        "#### 1.3.6 Etykietowanie danych"
      ],
      "metadata": {
        "id": "gUbGsXX5PrsG"
      }
    },
    {
      "cell_type": "code",
      "source": [
        "from sklearn.feature_extraction.text import TfidfVectorizer\n",
        "from sklearn.metrics import accuracy_score, confusion_matrix, precision_score, recall_score, f1_score"
      ],
      "metadata": {
        "id": "yE0PRssiP-KZ"
      },
      "execution_count": 12,
      "outputs": []
    },
    {
      "cell_type": "code",
      "source": [
        "def create_tfidf_dictionary(x, transformed_file, features):\n",
        "    vector_coo = transformed_file[x.name].tocoo()\n",
        "    vector_coo.col = features.iloc[vector_coo.col].values\n",
        "    dict_from_coo = dict(zip(vector_coo.col, vector_coo.data))\n",
        "    return dict_from_coo\n",
        "\n",
        "def replace_tfidf_words(x, transformed_file, features):\n",
        "    dictionary = create_tfidf_dictionary(x, transformed_file, features)\n",
        "\n",
        "    return list(map(lambda y: dictionary[f'{y}'], x.text.split()))\n",
        "\n",
        "\n",
        "def replace_sentiment_words(word, sentiment_dict):\n",
        "    try:\n",
        "        out = sentiment_dict[word]\n",
        "    except KeyError:\n",
        "        out = 0\n",
        "    return out"
      ],
      "metadata": {
        "id": "fpwuDbMAQIwv"
      },
      "execution_count": 13,
      "outputs": []
    },
    {
      "cell_type": "code",
      "source": [
        "final_file = pd.read_csv('cleaned_dataset.csv')\n",
        "sentiment_map = pd.read_csv('sentiment_dictionary.csv')\n",
        "sentiment_dict = dict(zip(sentiment_map.words.values, sentiment_map.sentiment_coeff.values))"
      ],
      "metadata": {
        "id": "g4IvmUzQPveP"
      },
      "execution_count": 14,
      "outputs": []
    },
    {
      "cell_type": "code",
      "source": [
        "file_weighting = final_file.copy()\n",
        "tfidf = TfidfVectorizer(tokenizer=lambda y: y.split(), norm=None)\n",
        "tfidf.fit(file_weighting.text)\n",
        "features = pd.Series(tfidf.get_feature_names_out())\n",
        "transformed = tfidf.transform(file_weighting.text)"
      ],
      "metadata": {
        "colab": {
          "base_uri": "https://localhost:8080/"
        },
        "id": "IP7Eut7nP585",
        "outputId": "7e67e777-96f2-4312-a4bc-bc218e318e4b"
      },
      "execution_count": 15,
      "outputs": [
        {
          "output_type": "stream",
          "name": "stderr",
          "text": [
            "/usr/local/lib/python3.10/dist-packages/sklearn/feature_extraction/text.py:528: UserWarning: The parameter 'token_pattern' will not be used since 'tokenizer' is not None'\n",
            "  warnings.warn(\n"
          ]
        }
      ]
    },
    {
      "cell_type": "code",
      "source": [
        "replaced_tfidf_scores = file_weighting.apply(lambda x: replace_tfidf_words(x, transformed, features), axis=1)\n"
      ],
      "metadata": {
        "id": "Fl3K60SSQTPG"
      },
      "execution_count": 16,
      "outputs": []
    },
    {
      "cell_type": "code",
      "source": [
        "replaced_closeness_scores = file_weighting.text.apply(lambda x: list(map(lambda y: replace_sentiment_words(y, sentiment_dict), x.split())))"
      ],
      "metadata": {
        "id": "ZQSpkDU1TEMJ"
      },
      "execution_count": 17,
      "outputs": []
    },
    {
      "cell_type": "code",
      "source": [
        "replacement_df = pd.DataFrame(data=[replaced_closeness_scores, replaced_tfidf_scores, file_weighting.text]).T\n",
        "replacement_df.columns = ['sentiment_coeff', 'tfidf_scores', 'text']\n",
        "replacement_df['sentiment_rate'] = replacement_df.apply( lambda x: np.array(x.loc['sentiment_coeff']) @ np.array(x.loc['tfidf_scores']), axis=1)\n",
        "replacement_df['prediction'] = (replacement_df.sentiment_rate > 0).astype('int8')\n",
        "\n",
        "print(replacement_df.groupby(['prediction']).count())\n",
        "replacement_df[[\"text\", \"sentiment_rate\", \"prediction\"]].to_csv(\"labeled_data.csv\")"
      ],
      "metadata": {
        "colab": {
          "base_uri": "https://localhost:8080/"
        },
        "id": "lXfPaK_10Rul",
        "outputId": "23563ba5-7d2c-494e-c1e1-d1066c303b38"
      },
      "execution_count": 18,
      "outputs": [
        {
          "output_type": "stream",
          "name": "stdout",
          "text": [
            "            sentiment_coeff  tfidf_scores   text  sentiment_rate\n",
            "prediction                                                      \n",
            "0                      8021          8021   8021            8021\n",
            "1                     13957         13957  13957           13957\n"
          ]
        }
      ]
    },
    {
      "cell_type": "markdown",
      "source": [
        "#### 1.3.7 Sprawdzanie przykladowych danych"
      ],
      "metadata": {
        "id": "vz4zhoOuo6C7"
      }
    },
    {
      "cell_type": "code",
      "source": [
        "replacement_df[replacement_df['prediction'] == 0].sample(20)"
      ],
      "metadata": {
        "colab": {
          "base_uri": "https://localhost:8080/",
          "height": 0
        },
        "id": "ehtU3h0Azk8S",
        "outputId": "328ab593-7933-4f7d-8b38-bbf9a1c4f76a"
      },
      "execution_count": 19,
      "outputs": [
        {
          "output_type": "execute_result",
          "data": {
            "text/plain": [
              "                                         sentiment_coeff  \\\n",
              "15577  [1.0948387957328694, -1.039169655350456, -1.07...   \n",
              "1042   [1.0914187023896162, -1.165300975283335, -1.21...   \n",
              "19797  [-1.0315412264992698, 1.0106192145357895, -1.1...   \n",
              "20665  [-1.0917550230365904, -1.1164399627847024, 1.0...   \n",
              "1033   [-1.2251285229336548, -1.183188590982993, -1.0...   \n",
              "1055   [-1.2406275633745774, -1.2788291689886977, -1....   \n",
              "13405  [1.048232768944727, -1.1346789732248934, -1.15...   \n",
              "5844   [-1.161189001496431, -1.0315412264992698, -1.0...   \n",
              "12971  [-1.0315412264992698, 1.010753930120002, -1.01...   \n",
              "4747   [1.1141271248576976, 0, -1.0772219277357875, 1...   \n",
              "892    [-1.067220063267884, -1.169501306269462, -1.03...   \n",
              "20350  [-1.0315412264992698, 1.010753930120002, -1.04...   \n",
              "1639   [-1.2406275633745774, -1.24686389249578, -1.24...   \n",
              "2064   [-1.0617144252574493, 0, -1.076817024541546, -...   \n",
              "8016   [1.0106192145357895, -1.103498684944883, 0, -1...   \n",
              "13086  [-1.0315412264992698, -1.037033137174325, 0, 1...   \n",
              "16806  [-1.0904729142588363, -1.0848972095204452, 1.0...   \n",
              "18159  [0, -1.0315412264992698, 1.010753930120002, 1....   \n",
              "11845  [-1.1207310818040348, -1.2326160830913908, -1....   \n",
              "136    [-1.2406275633745774, -1.2808335624839942, -1....   \n",
              "\n",
              "                                            tfidf_scores  \\\n",
              "15577  [5.8679440160942, 6.793150111626308, 11.480694...   \n",
              "1042   [4.9719767571919595, 7.126641720109383, 5.5089...   \n",
              "19797  [1.0695162351342271, 1.9275693479382094, 9.388...   \n",
              "20665  [8.800618153681054, 9.611548369897383, 8.05340...   \n",
              "1033   [7.260173112733906, 6.778335025841167, 1.06951...   \n",
              "1055   [4.98168557131892, 6.56702593217396, 5.6507352...   \n",
              "13405  [5.388370935832314, 8.599947458218903, 6.10000...   \n",
              "5844   [8.289792529915065, 1.0695162351342271, 2.9645...   \n",
              "12971  [1.0695162351342271, 1.9353065538094854, 3.258...   \n",
              "4747   [5.513045797526619, 10.304695550457328, 6.9547...   \n",
              "892    [4.395254838827937, 5.735152542112388, 1.06951...   \n",
              "20350  [1.0695162351342271, 1.9353065538094854, 5.441...   \n",
              "1639   [4.98168557131892, 7.778966906149073, 7.906800...   \n",
              "2064   [7.862348515088124, 10.304695550457328, 7.9533...   \n",
              "8016   [1.9275693479382094, 5.452665286537711, 9.8992...   \n",
              "13086  [1.0695162351342271, 2.964508715137213, 10.304...   \n",
              "16806  [8.512936081229274, 8.512936081229274, 5.43332...   \n",
              "18159  [10.304695550457328, 1.0695162351342271, 3.870...   \n",
              "11845  [6.778335025841167, 9.388404818583174, 1.06951...   \n",
              "136    [4.98168557131892, 8.918401189337438, 6.363113...   \n",
              "\n",
              "                                                    text  sentiment_rate  \\\n",
              "15577  feel proud flag_united kingdomflag_united king...      -49.455269   \n",
              "1042   look new_p coin_feature king charles_iii spot_...      -16.632154   \n",
              "19797  king charles hold_audience buckingham_palace n...       -5.932140   \n",
              "20665                      phil jackson ruin melo career      -12.927502   \n",
              "1033   official_coin effigy king charles_iii unveil_r...      -35.503524   \n",
              "1055     royal_mint unveil_coin feature king charles_iii      -25.383842   \n",
              "13405  watch music_act reportedly_decline perform cor...      -20.122684   \n",
              "5844                   tm king charles_iii queen_camilla      -19.249236   \n",
              "12971  king charle coronation guest_list take shape c...      -21.334864   \n",
              "4747   don nuisancewho knighted david onyemaizushey n...       -5.360276   \n",
              "892    new portrait king charles_iii p unveil_royal m...      -11.445229   \n",
              "20350                                king charle britain       -4.823444   \n",
              "1639   royal_mint unveil_official coin_effigy king ch...      -29.905071   \n",
              "2064   hi supra thanks message press_release publish ...      -40.874987   \n",
              "8016   charles honour bully_liar bird feather flock k...      -21.426738   \n",
              "13086  king charles_iii involve_negotiation affect ki...       -2.014114   \n",
              "16806  red_circle watch_video live king charles arriv...      -43.138390   \n",
              "18159  granpa king charle superior charle smile_face ...      -13.913035   \n",
              "11845  spice_girl rumour_reunion king charle iiis_cor...      -42.471027   \n",
              "136    royal_mint release_official photo new king cha...      -31.005366   \n",
              "\n",
              "       prediction  \n",
              "15577           0  \n",
              "1042            0  \n",
              "19797           0  \n",
              "20665           0  \n",
              "1033            0  \n",
              "1055            0  \n",
              "13405           0  \n",
              "5844            0  \n",
              "12971           0  \n",
              "4747            0  \n",
              "892             0  \n",
              "20350           0  \n",
              "1639            0  \n",
              "2064            0  \n",
              "8016            0  \n",
              "13086           0  \n",
              "16806           0  \n",
              "18159           0  \n",
              "11845           0  \n",
              "136             0  "
            ],
            "text/html": [
              "\n",
              "  <div id=\"df-17588f1c-ff6d-45bb-bd28-3cab52d6287f\">\n",
              "    <div class=\"colab-df-container\">\n",
              "      <div>\n",
              "<style scoped>\n",
              "    .dataframe tbody tr th:only-of-type {\n",
              "        vertical-align: middle;\n",
              "    }\n",
              "\n",
              "    .dataframe tbody tr th {\n",
              "        vertical-align: top;\n",
              "    }\n",
              "\n",
              "    .dataframe thead th {\n",
              "        text-align: right;\n",
              "    }\n",
              "</style>\n",
              "<table border=\"1\" class=\"dataframe\">\n",
              "  <thead>\n",
              "    <tr style=\"text-align: right;\">\n",
              "      <th></th>\n",
              "      <th>sentiment_coeff</th>\n",
              "      <th>tfidf_scores</th>\n",
              "      <th>text</th>\n",
              "      <th>sentiment_rate</th>\n",
              "      <th>prediction</th>\n",
              "    </tr>\n",
              "  </thead>\n",
              "  <tbody>\n",
              "    <tr>\n",
              "      <th>15577</th>\n",
              "      <td>[1.0948387957328694, -1.039169655350456, -1.07...</td>\n",
              "      <td>[5.8679440160942, 6.793150111626308, 11.480694...</td>\n",
              "      <td>feel proud flag_united kingdomflag_united king...</td>\n",
              "      <td>-49.455269</td>\n",
              "      <td>0</td>\n",
              "    </tr>\n",
              "    <tr>\n",
              "      <th>1042</th>\n",
              "      <td>[1.0914187023896162, -1.165300975283335, -1.21...</td>\n",
              "      <td>[4.9719767571919595, 7.126641720109383, 5.5089...</td>\n",
              "      <td>look new_p coin_feature king charles_iii spot_...</td>\n",
              "      <td>-16.632154</td>\n",
              "      <td>0</td>\n",
              "    </tr>\n",
              "    <tr>\n",
              "      <th>19797</th>\n",
              "      <td>[-1.0315412264992698, 1.0106192145357895, -1.1...</td>\n",
              "      <td>[1.0695162351342271, 1.9275693479382094, 9.388...</td>\n",
              "      <td>king charles hold_audience buckingham_palace n...</td>\n",
              "      <td>-5.932140</td>\n",
              "      <td>0</td>\n",
              "    </tr>\n",
              "    <tr>\n",
              "      <th>20665</th>\n",
              "      <td>[-1.0917550230365904, -1.1164399627847024, 1.0...</td>\n",
              "      <td>[8.800618153681054, 9.611548369897383, 8.05340...</td>\n",
              "      <td>phil jackson ruin melo career</td>\n",
              "      <td>-12.927502</td>\n",
              "      <td>0</td>\n",
              "    </tr>\n",
              "    <tr>\n",
              "      <th>1033</th>\n",
              "      <td>[-1.2251285229336548, -1.183188590982993, -1.0...</td>\n",
              "      <td>[7.260173112733906, 6.778335025841167, 1.06951...</td>\n",
              "      <td>official_coin effigy king charles_iii unveil_r...</td>\n",
              "      <td>-35.503524</td>\n",
              "      <td>0</td>\n",
              "    </tr>\n",
              "    <tr>\n",
              "      <th>1055</th>\n",
              "      <td>[-1.2406275633745774, -1.2788291689886977, -1....</td>\n",
              "      <td>[4.98168557131892, 6.56702593217396, 5.6507352...</td>\n",
              "      <td>royal_mint unveil_coin feature king charles_iii</td>\n",
              "      <td>-25.383842</td>\n",
              "      <td>0</td>\n",
              "    </tr>\n",
              "    <tr>\n",
              "      <th>13405</th>\n",
              "      <td>[1.048232768944727, -1.1346789732248934, -1.15...</td>\n",
              "      <td>[5.388370935832314, 8.599947458218903, 6.10000...</td>\n",
              "      <td>watch music_act reportedly_decline perform cor...</td>\n",
              "      <td>-20.122684</td>\n",
              "      <td>0</td>\n",
              "    </tr>\n",
              "    <tr>\n",
              "      <th>5844</th>\n",
              "      <td>[-1.161189001496431, -1.0315412264992698, -1.0...</td>\n",
              "      <td>[8.289792529915065, 1.0695162351342271, 2.9645...</td>\n",
              "      <td>tm king charles_iii queen_camilla</td>\n",
              "      <td>-19.249236</td>\n",
              "      <td>0</td>\n",
              "    </tr>\n",
              "    <tr>\n",
              "      <th>12971</th>\n",
              "      <td>[-1.0315412264992698, 1.010753930120002, -1.01...</td>\n",
              "      <td>[1.0695162351342271, 1.9353065538094854, 3.258...</td>\n",
              "      <td>king charle coronation guest_list take shape c...</td>\n",
              "      <td>-21.334864</td>\n",
              "      <td>0</td>\n",
              "    </tr>\n",
              "    <tr>\n",
              "      <th>4747</th>\n",
              "      <td>[1.1141271248576976, 0, -1.0772219277357875, 1...</td>\n",
              "      <td>[5.513045797526619, 10.304695550457328, 6.9547...</td>\n",
              "      <td>don nuisancewho knighted david onyemaizushey n...</td>\n",
              "      <td>-5.360276</td>\n",
              "      <td>0</td>\n",
              "    </tr>\n",
              "    <tr>\n",
              "      <th>892</th>\n",
              "      <td>[-1.067220063267884, -1.169501306269462, -1.03...</td>\n",
              "      <td>[4.395254838827937, 5.735152542112388, 1.06951...</td>\n",
              "      <td>new portrait king charles_iii p unveil_royal m...</td>\n",
              "      <td>-11.445229</td>\n",
              "      <td>0</td>\n",
              "    </tr>\n",
              "    <tr>\n",
              "      <th>20350</th>\n",
              "      <td>[-1.0315412264992698, 1.010753930120002, -1.04...</td>\n",
              "      <td>[1.0695162351342271, 1.9353065538094854, 5.441...</td>\n",
              "      <td>king charle britain</td>\n",
              "      <td>-4.823444</td>\n",
              "      <td>0</td>\n",
              "    </tr>\n",
              "    <tr>\n",
              "      <th>1639</th>\n",
              "      <td>[-1.2406275633745774, -1.24686389249578, -1.24...</td>\n",
              "      <td>[4.98168557131892, 7.778966906149073, 7.906800...</td>\n",
              "      <td>royal_mint unveil_official coin_effigy king ch...</td>\n",
              "      <td>-29.905071</td>\n",
              "      <td>0</td>\n",
              "    </tr>\n",
              "    <tr>\n",
              "      <th>2064</th>\n",
              "      <td>[-1.0617144252574493, 0, -1.076817024541546, -...</td>\n",
              "      <td>[7.862348515088124, 10.304695550457328, 7.9533...</td>\n",
              "      <td>hi supra thanks message press_release publish ...</td>\n",
              "      <td>-40.874987</td>\n",
              "      <td>0</td>\n",
              "    </tr>\n",
              "    <tr>\n",
              "      <th>8016</th>\n",
              "      <td>[1.0106192145357895, -1.103498684944883, 0, -1...</td>\n",
              "      <td>[1.9275693479382094, 5.452665286537711, 9.8992...</td>\n",
              "      <td>charles honour bully_liar bird feather flock k...</td>\n",
              "      <td>-21.426738</td>\n",
              "      <td>0</td>\n",
              "    </tr>\n",
              "    <tr>\n",
              "      <th>13086</th>\n",
              "      <td>[-1.0315412264992698, -1.037033137174325, 0, 1...</td>\n",
              "      <td>[1.0695162351342271, 2.964508715137213, 10.304...</td>\n",
              "      <td>king charles_iii involve_negotiation affect ki...</td>\n",
              "      <td>-2.014114</td>\n",
              "      <td>0</td>\n",
              "    </tr>\n",
              "    <tr>\n",
              "      <th>16806</th>\n",
              "      <td>[-1.0904729142588363, -1.0848972095204452, 1.0...</td>\n",
              "      <td>[8.512936081229274, 8.512936081229274, 5.43332...</td>\n",
              "      <td>red_circle watch_video live king charles arriv...</td>\n",
              "      <td>-43.138390</td>\n",
              "      <td>0</td>\n",
              "    </tr>\n",
              "    <tr>\n",
              "      <th>18159</th>\n",
              "      <td>[0, -1.0315412264992698, 1.010753930120002, 1....</td>\n",
              "      <td>[10.304695550457328, 1.0695162351342271, 3.870...</td>\n",
              "      <td>granpa king charle superior charle smile_face ...</td>\n",
              "      <td>-13.913035</td>\n",
              "      <td>0</td>\n",
              "    </tr>\n",
              "    <tr>\n",
              "      <th>11845</th>\n",
              "      <td>[-1.1207310818040348, -1.2326160830913908, -1....</td>\n",
              "      <td>[6.778335025841167, 9.388404818583174, 1.06951...</td>\n",
              "      <td>spice_girl rumour_reunion king charle iiis_cor...</td>\n",
              "      <td>-42.471027</td>\n",
              "      <td>0</td>\n",
              "    </tr>\n",
              "    <tr>\n",
              "      <th>136</th>\n",
              "      <td>[-1.2406275633745774, -1.2808335624839942, -1....</td>\n",
              "      <td>[4.98168557131892, 8.918401189337438, 6.363113...</td>\n",
              "      <td>royal_mint release_official photo new king cha...</td>\n",
              "      <td>-31.005366</td>\n",
              "      <td>0</td>\n",
              "    </tr>\n",
              "  </tbody>\n",
              "</table>\n",
              "</div>\n",
              "      <button class=\"colab-df-convert\" onclick=\"convertToInteractive('df-17588f1c-ff6d-45bb-bd28-3cab52d6287f')\"\n",
              "              title=\"Convert this dataframe to an interactive table.\"\n",
              "              style=\"display:none;\">\n",
              "        \n",
              "  <svg xmlns=\"http://www.w3.org/2000/svg\" height=\"24px\"viewBox=\"0 0 24 24\"\n",
              "       width=\"24px\">\n",
              "    <path d=\"M0 0h24v24H0V0z\" fill=\"none\"/>\n",
              "    <path d=\"M18.56 5.44l.94 2.06.94-2.06 2.06-.94-2.06-.94-.94-2.06-.94 2.06-2.06.94zm-11 1L8.5 8.5l.94-2.06 2.06-.94-2.06-.94L8.5 2.5l-.94 2.06-2.06.94zm10 10l.94 2.06.94-2.06 2.06-.94-2.06-.94-.94-2.06-.94 2.06-2.06.94z\"/><path d=\"M17.41 7.96l-1.37-1.37c-.4-.4-.92-.59-1.43-.59-.52 0-1.04.2-1.43.59L10.3 9.45l-7.72 7.72c-.78.78-.78 2.05 0 2.83L4 21.41c.39.39.9.59 1.41.59.51 0 1.02-.2 1.41-.59l7.78-7.78 2.81-2.81c.8-.78.8-2.07 0-2.86zM5.41 20L4 18.59l7.72-7.72 1.47 1.35L5.41 20z\"/>\n",
              "  </svg>\n",
              "      </button>\n",
              "      \n",
              "  <style>\n",
              "    .colab-df-container {\n",
              "      display:flex;\n",
              "      flex-wrap:wrap;\n",
              "      gap: 12px;\n",
              "    }\n",
              "\n",
              "    .colab-df-convert {\n",
              "      background-color: #E8F0FE;\n",
              "      border: none;\n",
              "      border-radius: 50%;\n",
              "      cursor: pointer;\n",
              "      display: none;\n",
              "      fill: #1967D2;\n",
              "      height: 32px;\n",
              "      padding: 0 0 0 0;\n",
              "      width: 32px;\n",
              "    }\n",
              "\n",
              "    .colab-df-convert:hover {\n",
              "      background-color: #E2EBFA;\n",
              "      box-shadow: 0px 1px 2px rgba(60, 64, 67, 0.3), 0px 1px 3px 1px rgba(60, 64, 67, 0.15);\n",
              "      fill: #174EA6;\n",
              "    }\n",
              "\n",
              "    [theme=dark] .colab-df-convert {\n",
              "      background-color: #3B4455;\n",
              "      fill: #D2E3FC;\n",
              "    }\n",
              "\n",
              "    [theme=dark] .colab-df-convert:hover {\n",
              "      background-color: #434B5C;\n",
              "      box-shadow: 0px 1px 3px 1px rgba(0, 0, 0, 0.15);\n",
              "      filter: drop-shadow(0px 1px 2px rgba(0, 0, 0, 0.3));\n",
              "      fill: #FFFFFF;\n",
              "    }\n",
              "  </style>\n",
              "\n",
              "      <script>\n",
              "        const buttonEl =\n",
              "          document.querySelector('#df-17588f1c-ff6d-45bb-bd28-3cab52d6287f button.colab-df-convert');\n",
              "        buttonEl.style.display =\n",
              "          google.colab.kernel.accessAllowed ? 'block' : 'none';\n",
              "\n",
              "        async function convertToInteractive(key) {\n",
              "          const element = document.querySelector('#df-17588f1c-ff6d-45bb-bd28-3cab52d6287f');\n",
              "          const dataTable =\n",
              "            await google.colab.kernel.invokeFunction('convertToInteractive',\n",
              "                                                     [key], {});\n",
              "          if (!dataTable) return;\n",
              "\n",
              "          const docLinkHtml = 'Like what you see? Visit the ' +\n",
              "            '<a target=\"_blank\" href=https://colab.research.google.com/notebooks/data_table.ipynb>data table notebook</a>'\n",
              "            + ' to learn more about interactive tables.';\n",
              "          element.innerHTML = '';\n",
              "          dataTable['output_type'] = 'display_data';\n",
              "          await google.colab.output.renderOutput(dataTable, element);\n",
              "          const docLink = document.createElement('div');\n",
              "          docLink.innerHTML = docLinkHtml;\n",
              "          element.appendChild(docLink);\n",
              "        }\n",
              "      </script>\n",
              "    </div>\n",
              "  </div>\n",
              "  "
            ]
          },
          "metadata": {},
          "execution_count": 19
        }
      ]
    },
    {
      "cell_type": "code",
      "source": [
        "replacement_df[replacement_df['prediction'] == 1].sample(20)"
      ],
      "metadata": {
        "colab": {
          "base_uri": "https://localhost:8080/",
          "height": 0
        },
        "id": "ghJQ2d6U1Njn",
        "outputId": "3092c0d8-b512-45fd-a8c5-d868700cf014"
      },
      "execution_count": 20,
      "outputs": [
        {
          "output_type": "execute_result",
          "data": {
            "text/plain": [
              "                                         sentiment_coeff  \\\n",
              "10789  [1.1023422811373127, -1.0315412264992698, 1.01...   \n",
              "16326  [1.0888357023212054, 1.0989821863215916, 1.048...   \n",
              "17203  [-1.0315412264992698, 1.010753930120002, -1.01...   \n",
              "883    [1.1401119136997322, 1.0989821863215916, 0, -1...   \n",
              "6055   [1.1073813672492734, 1.086604111445375, 1.1190...   \n",
              "5348   [1.1013604216589838, -1.0315412264992698, 1.01...   \n",
              "11397  [1.0557740520552354, 1.0460204691816175, 1.058...   \n",
              "19000  [0, -1.2189200414111705, -1.0315412264992698, ...   \n",
              "19107  [0, 1.1369410254396075, 0, 1.0990967842826855,...   \n",
              "7507   [-1.0315412264992698, 1.0106192145357895, 1.05...   \n",
              "12070  [0, 1.0876860848746626, 1.1237479780343291, 1....   \n",
              "3277   [1.0816815521631755, 1.0383621261835203, 1.143...   \n",
              "13054  [1.036636660538816, 1.0935292814469288, 1.0559...   \n",
              "21620  [1.1377550773737717, 1.080845832661791, 1.1003...   \n",
              "20145  [1.079378443385326, 0, -1.0315412264992698, 1....   \n",
              "12948  [-1.0315412264992698, 1.010753930120002, 1.064...   \n",
              "2857   [1.0830226602588702, 1.0735011848371725, 1.109...   \n",
              "6997   [-1.1566531937163058, -1.1788299889587586, -1....   \n",
              "16082  [1.048232768944727, 1.066828169734851, -1.0315...   \n",
              "10949  [1.0466673044189794, 1.0855347663485788, 0, -1...   \n",
              "\n",
              "                                            tfidf_scores  \\\n",
              "10789  [6.392672545029182, 1.0695162351342271, 1.9275...   \n",
              "16326  [7.596645349355119, 4.319500616362942, 4.30700...   \n",
              "17203  [1.0695162351342271, 1.9353065538094854, 3.258...   \n",
              "883    [4.691567444069259, 4.319500616362942, 10.3046...   \n",
              "6055   [6.823455461121637, 4.857958178791018, 5.15429...   \n",
              "5348   [4.893049498602288, 1.0695162351342271, 1.9353...   \n",
              "11397  [5.745569302970644, 4.671693257862175, 9.05193...   \n",
              "19000  [10.304695550457328, 6.145812467097657, 1.0695...   \n",
              "19107  [10.304695550457328, 9.05193258196196, 10.3046...   \n",
              "7507   [1.0695162351342271, 1.9275693479382094, 5.534...   \n",
              "12070  [9.899230442349165, 11.18134191911431, 5.19270...   \n",
              "3277   [5.421893627870958, 6.0705890458600695, 5.5382...   \n",
              "13054  [7.414323792561164, 5.674832751878865, 5.51304...   \n",
              "21620  [8.800618153681054, 7.778966906149073, 8.05340...   \n",
              "20145  [8.289792529915065, 10.304695550457328, 1.0695...   \n",
              "12948  [1.0695162351342271, 1.9353065538094854, 7.778...   \n",
              "2857   [4.815757824300642, 6.6158160963433925, 7.6656...   \n",
              "6997   [6.218719237905744, 6.392672545029182, 6.99050...   \n",
              "16082  [5.388370935832314, 5.43332232369458, 1.069516...   \n",
              "10949  [5.198750076556748, 7.862348515088124, 9.89923...   \n",
              "\n",
              "                                                    text  sentiment_rate  \\\n",
              "10789  respect king charles spaniel canine variety wa...       15.875239   \n",
              "16326  personally like uk leave un_nato sunak blair s...       92.737839   \n",
              "17203            king charle coronation live late_update        3.355992   \n",
              "883    do_not like coinsnote king charles feel free p...       25.629046   \n",
              "6055   shame good monarchy princess_diana follow son ...       83.455514   \n",
              "5348   love king charle moneymouth faceface vomitingm...       61.492178   \n",
              "11397  big year humble machin stamp royal_mail announ...        7.995832   \n",
              "19000  legoland unveil king charles coronation scene ...       10.589183   \n",
              "19107  noreformamp slim downyes abolish nocromwell tr...       27.082744   \n",
              "7507          king charles make christmas_speech monarch        2.470870   \n",
              "12070  father_bonded father son father come discuss t...       42.575126   \n",
              "3277                take member mean need interest_heart       34.193346   \n",
              "13054  large help hand come king charle canny marketi...       88.313208   \n",
              "21620  lmao disrespect contract offer say good wiggs ...       49.926006   \n",
              "20145  dark cairngorm king charle countryside hero pa...      129.342198   \n",
              "12948                                    king charle ffs        9.130153   \n",
              "2857   royal_family deserve harkle doingharry refuse ...      103.918251   \n",
              "6997   emma_raducanu receive_mbe service_tennis king ...        8.095107   \n",
              "16082  watch live king charles meet german_eurovision...       10.226978   \n",
              "10949  monarch afford tonedeaf king charles_iii act d...       90.777449   \n",
              "\n",
              "       prediction  \n",
              "10789           1  \n",
              "16326           1  \n",
              "17203           1  \n",
              "883             1  \n",
              "6055            1  \n",
              "5348            1  \n",
              "11397           1  \n",
              "19000           1  \n",
              "19107           1  \n",
              "7507            1  \n",
              "12070           1  \n",
              "3277            1  \n",
              "13054           1  \n",
              "21620           1  \n",
              "20145           1  \n",
              "12948           1  \n",
              "2857            1  \n",
              "6997            1  \n",
              "16082           1  \n",
              "10949           1  "
            ],
            "text/html": [
              "\n",
              "  <div id=\"df-6b9dd4f6-187e-4eea-a788-d1da5abbd9d9\">\n",
              "    <div class=\"colab-df-container\">\n",
              "      <div>\n",
              "<style scoped>\n",
              "    .dataframe tbody tr th:only-of-type {\n",
              "        vertical-align: middle;\n",
              "    }\n",
              "\n",
              "    .dataframe tbody tr th {\n",
              "        vertical-align: top;\n",
              "    }\n",
              "\n",
              "    .dataframe thead th {\n",
              "        text-align: right;\n",
              "    }\n",
              "</style>\n",
              "<table border=\"1\" class=\"dataframe\">\n",
              "  <thead>\n",
              "    <tr style=\"text-align: right;\">\n",
              "      <th></th>\n",
              "      <th>sentiment_coeff</th>\n",
              "      <th>tfidf_scores</th>\n",
              "      <th>text</th>\n",
              "      <th>sentiment_rate</th>\n",
              "      <th>prediction</th>\n",
              "    </tr>\n",
              "  </thead>\n",
              "  <tbody>\n",
              "    <tr>\n",
              "      <th>10789</th>\n",
              "      <td>[1.1023422811373127, -1.0315412264992698, 1.01...</td>\n",
              "      <td>[6.392672545029182, 1.0695162351342271, 1.9275...</td>\n",
              "      <td>respect king charles spaniel canine variety wa...</td>\n",
              "      <td>15.875239</td>\n",
              "      <td>1</td>\n",
              "    </tr>\n",
              "    <tr>\n",
              "      <th>16326</th>\n",
              "      <td>[1.0888357023212054, 1.0989821863215916, 1.048...</td>\n",
              "      <td>[7.596645349355119, 4.319500616362942, 4.30700...</td>\n",
              "      <td>personally like uk leave un_nato sunak blair s...</td>\n",
              "      <td>92.737839</td>\n",
              "      <td>1</td>\n",
              "    </tr>\n",
              "    <tr>\n",
              "      <th>17203</th>\n",
              "      <td>[-1.0315412264992698, 1.010753930120002, -1.01...</td>\n",
              "      <td>[1.0695162351342271, 1.9353065538094854, 3.258...</td>\n",
              "      <td>king charle coronation live late_update</td>\n",
              "      <td>3.355992</td>\n",
              "      <td>1</td>\n",
              "    </tr>\n",
              "    <tr>\n",
              "      <th>883</th>\n",
              "      <td>[1.1401119136997322, 1.0989821863215916, 0, -1...</td>\n",
              "      <td>[4.691567444069259, 4.319500616362942, 10.3046...</td>\n",
              "      <td>do_not like coinsnote king charles feel free p...</td>\n",
              "      <td>25.629046</td>\n",
              "      <td>1</td>\n",
              "    </tr>\n",
              "    <tr>\n",
              "      <th>6055</th>\n",
              "      <td>[1.1073813672492734, 1.086604111445375, 1.1190...</td>\n",
              "      <td>[6.823455461121637, 4.857958178791018, 5.15429...</td>\n",
              "      <td>shame good monarchy princess_diana follow son ...</td>\n",
              "      <td>83.455514</td>\n",
              "      <td>1</td>\n",
              "    </tr>\n",
              "    <tr>\n",
              "      <th>5348</th>\n",
              "      <td>[1.1013604216589838, -1.0315412264992698, 1.01...</td>\n",
              "      <td>[4.893049498602288, 1.0695162351342271, 1.9353...</td>\n",
              "      <td>love king charle moneymouth faceface vomitingm...</td>\n",
              "      <td>61.492178</td>\n",
              "      <td>1</td>\n",
              "    </tr>\n",
              "    <tr>\n",
              "      <th>11397</th>\n",
              "      <td>[1.0557740520552354, 1.0460204691816175, 1.058...</td>\n",
              "      <td>[5.745569302970644, 4.671693257862175, 9.05193...</td>\n",
              "      <td>big year humble machin stamp royal_mail announ...</td>\n",
              "      <td>7.995832</td>\n",
              "      <td>1</td>\n",
              "    </tr>\n",
              "    <tr>\n",
              "      <th>19000</th>\n",
              "      <td>[0, -1.2189200414111705, -1.0315412264992698, ...</td>\n",
              "      <td>[10.304695550457328, 6.145812467097657, 1.0695...</td>\n",
              "      <td>legoland unveil king charles coronation scene ...</td>\n",
              "      <td>10.589183</td>\n",
              "      <td>1</td>\n",
              "    </tr>\n",
              "    <tr>\n",
              "      <th>19107</th>\n",
              "      <td>[0, 1.1369410254396075, 0, 1.0990967842826855,...</td>\n",
              "      <td>[10.304695550457328, 9.05193258196196, 10.3046...</td>\n",
              "      <td>noreformamp slim downyes abolish nocromwell tr...</td>\n",
              "      <td>27.082744</td>\n",
              "      <td>1</td>\n",
              "    </tr>\n",
              "    <tr>\n",
              "      <th>7507</th>\n",
              "      <td>[-1.0315412264992698, 1.0106192145357895, 1.05...</td>\n",
              "      <td>[1.0695162351342271, 1.9275693479382094, 5.534...</td>\n",
              "      <td>king charles make christmas_speech monarch</td>\n",
              "      <td>2.470870</td>\n",
              "      <td>1</td>\n",
              "    </tr>\n",
              "    <tr>\n",
              "      <th>12070</th>\n",
              "      <td>[0, 1.0876860848746626, 1.1237479780343291, 1....</td>\n",
              "      <td>[9.899230442349165, 11.18134191911431, 5.19270...</td>\n",
              "      <td>father_bonded father son father come discuss t...</td>\n",
              "      <td>42.575126</td>\n",
              "      <td>1</td>\n",
              "    </tr>\n",
              "    <tr>\n",
              "      <th>3277</th>\n",
              "      <td>[1.0816815521631755, 1.0383621261835203, 1.143...</td>\n",
              "      <td>[5.421893627870958, 6.0705890458600695, 5.5382...</td>\n",
              "      <td>take member mean need interest_heart</td>\n",
              "      <td>34.193346</td>\n",
              "      <td>1</td>\n",
              "    </tr>\n",
              "    <tr>\n",
              "      <th>13054</th>\n",
              "      <td>[1.036636660538816, 1.0935292814469288, 1.0559...</td>\n",
              "      <td>[7.414323792561164, 5.674832751878865, 5.51304...</td>\n",
              "      <td>large help hand come king charle canny marketi...</td>\n",
              "      <td>88.313208</td>\n",
              "      <td>1</td>\n",
              "    </tr>\n",
              "    <tr>\n",
              "      <th>21620</th>\n",
              "      <td>[1.1377550773737717, 1.080845832661791, 1.1003...</td>\n",
              "      <td>[8.800618153681054, 7.778966906149073, 8.05340...</td>\n",
              "      <td>lmao disrespect contract offer say good wiggs ...</td>\n",
              "      <td>49.926006</td>\n",
              "      <td>1</td>\n",
              "    </tr>\n",
              "    <tr>\n",
              "      <th>20145</th>\n",
              "      <td>[1.079378443385326, 0, -1.0315412264992698, 1....</td>\n",
              "      <td>[8.289792529915065, 10.304695550457328, 1.0695...</td>\n",
              "      <td>dark cairngorm king charle countryside hero pa...</td>\n",
              "      <td>129.342198</td>\n",
              "      <td>1</td>\n",
              "    </tr>\n",
              "    <tr>\n",
              "      <th>12948</th>\n",
              "      <td>[-1.0315412264992698, 1.010753930120002, 1.064...</td>\n",
              "      <td>[1.0695162351342271, 1.9353065538094854, 7.778...</td>\n",
              "      <td>king charle ffs</td>\n",
              "      <td>9.130153</td>\n",
              "      <td>1</td>\n",
              "    </tr>\n",
              "    <tr>\n",
              "      <th>2857</th>\n",
              "      <td>[1.0830226602588702, 1.0735011848371725, 1.109...</td>\n",
              "      <td>[4.815757824300642, 6.6158160963433925, 7.6656...</td>\n",
              "      <td>royal_family deserve harkle doingharry refuse ...</td>\n",
              "      <td>103.918251</td>\n",
              "      <td>1</td>\n",
              "    </tr>\n",
              "    <tr>\n",
              "      <th>6997</th>\n",
              "      <td>[-1.1566531937163058, -1.1788299889587586, -1....</td>\n",
              "      <td>[6.218719237905744, 6.392672545029182, 6.99050...</td>\n",
              "      <td>emma_raducanu receive_mbe service_tennis king ...</td>\n",
              "      <td>8.095107</td>\n",
              "      <td>1</td>\n",
              "    </tr>\n",
              "    <tr>\n",
              "      <th>16082</th>\n",
              "      <td>[1.048232768944727, 1.066828169734851, -1.0315...</td>\n",
              "      <td>[5.388370935832314, 5.43332232369458, 1.069516...</td>\n",
              "      <td>watch live king charles meet german_eurovision...</td>\n",
              "      <td>10.226978</td>\n",
              "      <td>1</td>\n",
              "    </tr>\n",
              "    <tr>\n",
              "      <th>10949</th>\n",
              "      <td>[1.0466673044189794, 1.0855347663485788, 0, -1...</td>\n",
              "      <td>[5.198750076556748, 7.862348515088124, 9.89923...</td>\n",
              "      <td>monarch afford tonedeaf king charles_iii act d...</td>\n",
              "      <td>90.777449</td>\n",
              "      <td>1</td>\n",
              "    </tr>\n",
              "  </tbody>\n",
              "</table>\n",
              "</div>\n",
              "      <button class=\"colab-df-convert\" onclick=\"convertToInteractive('df-6b9dd4f6-187e-4eea-a788-d1da5abbd9d9')\"\n",
              "              title=\"Convert this dataframe to an interactive table.\"\n",
              "              style=\"display:none;\">\n",
              "        \n",
              "  <svg xmlns=\"http://www.w3.org/2000/svg\" height=\"24px\"viewBox=\"0 0 24 24\"\n",
              "       width=\"24px\">\n",
              "    <path d=\"M0 0h24v24H0V0z\" fill=\"none\"/>\n",
              "    <path d=\"M18.56 5.44l.94 2.06.94-2.06 2.06-.94-2.06-.94-.94-2.06-.94 2.06-2.06.94zm-11 1L8.5 8.5l.94-2.06 2.06-.94-2.06-.94L8.5 2.5l-.94 2.06-2.06.94zm10 10l.94 2.06.94-2.06 2.06-.94-2.06-.94-.94-2.06-.94 2.06-2.06.94z\"/><path d=\"M17.41 7.96l-1.37-1.37c-.4-.4-.92-.59-1.43-.59-.52 0-1.04.2-1.43.59L10.3 9.45l-7.72 7.72c-.78.78-.78 2.05 0 2.83L4 21.41c.39.39.9.59 1.41.59.51 0 1.02-.2 1.41-.59l7.78-7.78 2.81-2.81c.8-.78.8-2.07 0-2.86zM5.41 20L4 18.59l7.72-7.72 1.47 1.35L5.41 20z\"/>\n",
              "  </svg>\n",
              "      </button>\n",
              "      \n",
              "  <style>\n",
              "    .colab-df-container {\n",
              "      display:flex;\n",
              "      flex-wrap:wrap;\n",
              "      gap: 12px;\n",
              "    }\n",
              "\n",
              "    .colab-df-convert {\n",
              "      background-color: #E8F0FE;\n",
              "      border: none;\n",
              "      border-radius: 50%;\n",
              "      cursor: pointer;\n",
              "      display: none;\n",
              "      fill: #1967D2;\n",
              "      height: 32px;\n",
              "      padding: 0 0 0 0;\n",
              "      width: 32px;\n",
              "    }\n",
              "\n",
              "    .colab-df-convert:hover {\n",
              "      background-color: #E2EBFA;\n",
              "      box-shadow: 0px 1px 2px rgba(60, 64, 67, 0.3), 0px 1px 3px 1px rgba(60, 64, 67, 0.15);\n",
              "      fill: #174EA6;\n",
              "    }\n",
              "\n",
              "    [theme=dark] .colab-df-convert {\n",
              "      background-color: #3B4455;\n",
              "      fill: #D2E3FC;\n",
              "    }\n",
              "\n",
              "    [theme=dark] .colab-df-convert:hover {\n",
              "      background-color: #434B5C;\n",
              "      box-shadow: 0px 1px 3px 1px rgba(0, 0, 0, 0.15);\n",
              "      filter: drop-shadow(0px 1px 2px rgba(0, 0, 0, 0.3));\n",
              "      fill: #FFFFFF;\n",
              "    }\n",
              "  </style>\n",
              "\n",
              "      <script>\n",
              "        const buttonEl =\n",
              "          document.querySelector('#df-6b9dd4f6-187e-4eea-a788-d1da5abbd9d9 button.colab-df-convert');\n",
              "        buttonEl.style.display =\n",
              "          google.colab.kernel.accessAllowed ? 'block' : 'none';\n",
              "\n",
              "        async function convertToInteractive(key) {\n",
              "          const element = document.querySelector('#df-6b9dd4f6-187e-4eea-a788-d1da5abbd9d9');\n",
              "          const dataTable =\n",
              "            await google.colab.kernel.invokeFunction('convertToInteractive',\n",
              "                                                     [key], {});\n",
              "          if (!dataTable) return;\n",
              "\n",
              "          const docLinkHtml = 'Like what you see? Visit the ' +\n",
              "            '<a target=\"_blank\" href=https://colab.research.google.com/notebooks/data_table.ipynb>data table notebook</a>'\n",
              "            + ' to learn more about interactive tables.';\n",
              "          element.innerHTML = '';\n",
              "          dataTable['output_type'] = 'display_data';\n",
              "          await google.colab.output.renderOutput(dataTable, element);\n",
              "          const docLink = document.createElement('div');\n",
              "          docLink.innerHTML = docLinkHtml;\n",
              "          element.appendChild(docLink);\n",
              "        }\n",
              "      </script>\n",
              "    </div>\n",
              "  </div>\n",
              "  "
            ]
          },
          "metadata": {},
          "execution_count": 20
        }
      ]
    },
    {
      "cell_type": "markdown",
      "source": [
        "## Etap 2: Classic ML"
      ],
      "metadata": {
        "id": "mQket0kPOALn"
      }
    },
    {
      "cell_type": "markdown",
      "source": [
        "### 2.1 Przygotowanie danych do modeli"
      ],
      "metadata": {
        "id": "KyBWgtpxPvnW"
      }
    },
    {
      "cell_type": "markdown",
      "source": [
        "#### 2.1.1 Importowanie bibliotek"
      ],
      "metadata": {
        "id": "uTIwxijMXXQX"
      }
    },
    {
      "cell_type": "code",
      "source": [
        "import pandas as pd\n",
        "import sklearn\n",
        "import matplotlib.pyplot as plt\n",
        "from sklearn.model_selection import train_test_split\n",
        "from sklearn.feature_extraction.text import TfidfVectorizer\n",
        "from sklearn.linear_model import LogisticRegression\n",
        "from sklearn.naive_bayes import BernoulliNB\n",
        "from sklearn import metrics, tree\n",
        "from sklearn.metrics import accuracy_score, auc"
      ],
      "metadata": {
        "id": "7QpSptwQQP9H"
      },
      "execution_count": 48,
      "outputs": []
    },
    {
      "cell_type": "markdown",
      "source": [
        "#### 2.1.2 Zaladowywanie danych"
      ],
      "metadata": {
        "id": "WN6wB4erXbMf"
      }
    },
    {
      "cell_type": "code",
      "source": [
        "df_labeled = pd.read_csv(\"labeled_data.csv\", index_col=0) \n",
        "df_labeled.rename(columns={\"prediction\":\"label\"}, inplace=True)\n",
        "df_labeled = df_labeled.drop(\"sentiment_rate\",axis = 1)\n",
        "\n",
        "df_labeled.sample(5)"
      ],
      "metadata": {
        "colab": {
          "base_uri": "https://localhost:8080/",
          "height": 206
        },
        "id": "yhx3L64-PsLy",
        "outputId": "2edf8ede-e3f4-4991-9f4b-6c8694bc023b"
      },
      "execution_count": 11,
      "outputs": [
        {
          "output_type": "execute_result",
          "data": {
            "text/plain": [
              "                                                    text  label\n",
              "21517  prove king charles protect diana year los need...      1\n",
              "9196   know reign george queen monarch custody grandc...      1\n",
              "427                         king charle sort right quick      1\n",
              "17768  lose_shit pledge_allegiance like actually mean...      1\n",
              "835    man_claim king charles love child reveal_bombs...      0"
            ],
            "text/html": [
              "\n",
              "  <div id=\"df-1777ac05-7c92-445c-97ad-7fe413cb00e2\">\n",
              "    <div class=\"colab-df-container\">\n",
              "      <div>\n",
              "<style scoped>\n",
              "    .dataframe tbody tr th:only-of-type {\n",
              "        vertical-align: middle;\n",
              "    }\n",
              "\n",
              "    .dataframe tbody tr th {\n",
              "        vertical-align: top;\n",
              "    }\n",
              "\n",
              "    .dataframe thead th {\n",
              "        text-align: right;\n",
              "    }\n",
              "</style>\n",
              "<table border=\"1\" class=\"dataframe\">\n",
              "  <thead>\n",
              "    <tr style=\"text-align: right;\">\n",
              "      <th></th>\n",
              "      <th>text</th>\n",
              "      <th>label</th>\n",
              "    </tr>\n",
              "  </thead>\n",
              "  <tbody>\n",
              "    <tr>\n",
              "      <th>21517</th>\n",
              "      <td>prove king charles protect diana year los need...</td>\n",
              "      <td>1</td>\n",
              "    </tr>\n",
              "    <tr>\n",
              "      <th>9196</th>\n",
              "      <td>know reign george queen monarch custody grandc...</td>\n",
              "      <td>1</td>\n",
              "    </tr>\n",
              "    <tr>\n",
              "      <th>427</th>\n",
              "      <td>king charle sort right quick</td>\n",
              "      <td>1</td>\n",
              "    </tr>\n",
              "    <tr>\n",
              "      <th>17768</th>\n",
              "      <td>lose_shit pledge_allegiance like actually mean...</td>\n",
              "      <td>1</td>\n",
              "    </tr>\n",
              "    <tr>\n",
              "      <th>835</th>\n",
              "      <td>man_claim king charles love child reveal_bombs...</td>\n",
              "      <td>0</td>\n",
              "    </tr>\n",
              "  </tbody>\n",
              "</table>\n",
              "</div>\n",
              "      <button class=\"colab-df-convert\" onclick=\"convertToInteractive('df-1777ac05-7c92-445c-97ad-7fe413cb00e2')\"\n",
              "              title=\"Convert this dataframe to an interactive table.\"\n",
              "              style=\"display:none;\">\n",
              "        \n",
              "  <svg xmlns=\"http://www.w3.org/2000/svg\" height=\"24px\"viewBox=\"0 0 24 24\"\n",
              "       width=\"24px\">\n",
              "    <path d=\"M0 0h24v24H0V0z\" fill=\"none\"/>\n",
              "    <path d=\"M18.56 5.44l.94 2.06.94-2.06 2.06-.94-2.06-.94-.94-2.06-.94 2.06-2.06.94zm-11 1L8.5 8.5l.94-2.06 2.06-.94-2.06-.94L8.5 2.5l-.94 2.06-2.06.94zm10 10l.94 2.06.94-2.06 2.06-.94-2.06-.94-.94-2.06-.94 2.06-2.06.94z\"/><path d=\"M17.41 7.96l-1.37-1.37c-.4-.4-.92-.59-1.43-.59-.52 0-1.04.2-1.43.59L10.3 9.45l-7.72 7.72c-.78.78-.78 2.05 0 2.83L4 21.41c.39.39.9.59 1.41.59.51 0 1.02-.2 1.41-.59l7.78-7.78 2.81-2.81c.8-.78.8-2.07 0-2.86zM5.41 20L4 18.59l7.72-7.72 1.47 1.35L5.41 20z\"/>\n",
              "  </svg>\n",
              "      </button>\n",
              "      \n",
              "  <style>\n",
              "    .colab-df-container {\n",
              "      display:flex;\n",
              "      flex-wrap:wrap;\n",
              "      gap: 12px;\n",
              "    }\n",
              "\n",
              "    .colab-df-convert {\n",
              "      background-color: #E8F0FE;\n",
              "      border: none;\n",
              "      border-radius: 50%;\n",
              "      cursor: pointer;\n",
              "      display: none;\n",
              "      fill: #1967D2;\n",
              "      height: 32px;\n",
              "      padding: 0 0 0 0;\n",
              "      width: 32px;\n",
              "    }\n",
              "\n",
              "    .colab-df-convert:hover {\n",
              "      background-color: #E2EBFA;\n",
              "      box-shadow: 0px 1px 2px rgba(60, 64, 67, 0.3), 0px 1px 3px 1px rgba(60, 64, 67, 0.15);\n",
              "      fill: #174EA6;\n",
              "    }\n",
              "\n",
              "    [theme=dark] .colab-df-convert {\n",
              "      background-color: #3B4455;\n",
              "      fill: #D2E3FC;\n",
              "    }\n",
              "\n",
              "    [theme=dark] .colab-df-convert:hover {\n",
              "      background-color: #434B5C;\n",
              "      box-shadow: 0px 1px 3px 1px rgba(0, 0, 0, 0.15);\n",
              "      filter: drop-shadow(0px 1px 2px rgba(0, 0, 0, 0.3));\n",
              "      fill: #FFFFFF;\n",
              "    }\n",
              "  </style>\n",
              "\n",
              "      <script>\n",
              "        const buttonEl =\n",
              "          document.querySelector('#df-1777ac05-7c92-445c-97ad-7fe413cb00e2 button.colab-df-convert');\n",
              "        buttonEl.style.display =\n",
              "          google.colab.kernel.accessAllowed ? 'block' : 'none';\n",
              "\n",
              "        async function convertToInteractive(key) {\n",
              "          const element = document.querySelector('#df-1777ac05-7c92-445c-97ad-7fe413cb00e2');\n",
              "          const dataTable =\n",
              "            await google.colab.kernel.invokeFunction('convertToInteractive',\n",
              "                                                     [key], {});\n",
              "          if (!dataTable) return;\n",
              "\n",
              "          const docLinkHtml = 'Like what you see? Visit the ' +\n",
              "            '<a target=\"_blank\" href=https://colab.research.google.com/notebooks/data_table.ipynb>data table notebook</a>'\n",
              "            + ' to learn more about interactive tables.';\n",
              "          element.innerHTML = '';\n",
              "          dataTable['output_type'] = 'display_data';\n",
              "          await google.colab.output.renderOutput(dataTable, element);\n",
              "          const docLink = document.createElement('div');\n",
              "          docLink.innerHTML = docLinkHtml;\n",
              "          element.appendChild(docLink);\n",
              "        }\n",
              "      </script>\n",
              "    </div>\n",
              "  </div>\n",
              "  "
            ]
          },
          "metadata": {},
          "execution_count": 11
        }
      ]
    },
    {
      "cell_type": "markdown",
      "source": [
        "#### 2.1.3 Transformacja danych do modeli"
      ],
      "metadata": {
        "id": "UjliPgllXepO"
      }
    },
    {
      "cell_type": "code",
      "source": [
        "X_train, X_test, y_train, y_test = train_test_split(df_labeled[\"text\"], df_labeled[\"label\"], test_size=0.1, stratify=df_labeled[\"label\"], random_state=42)\n",
        "vectorizer = TfidfVectorizer(ngram_range=(1,2), max_features=500000)\n",
        "vectorizer.fit(X_train)\n",
        "X_train = vectorizer.transform(X_train)\n",
        "X_test = vectorizer.transform(X_test)"
      ],
      "metadata": {
        "id": "37hzPNcUQ2J2"
      },
      "execution_count": 12,
      "outputs": []
    },
    {
      "cell_type": "markdown",
      "source": [
        "### 2.2 Naiwny Bayes"
      ],
      "metadata": {
        "id": "wgHFb_xiMLvd"
      }
    },
    {
      "cell_type": "markdown",
      "source": [
        "#### 2.2.1 Trenowanie Modelu"
      ],
      "metadata": {
        "id": "33Y3qNSmXEcD"
      }
    },
    {
      "cell_type": "code",
      "source": [
        "BNB = BernoulliNB()\n",
        "BNB.fit(X_train,y_train)\n",
        "y_predict = BNB.predict(X_test)"
      ],
      "metadata": {
        "id": "8IVZrTvKRx3a"
      },
      "execution_count": 42,
      "outputs": []
    },
    {
      "cell_type": "markdown",
      "source": [
        "#### 2.2.2 Wizualizacja Modelu"
      ],
      "metadata": {
        "id": "E7gTHxhtXSyi"
      }
    },
    {
      "cell_type": "code",
      "source": [
        "confusion_matrix = metrics.confusion_matrix(y_test, y_predict)\n",
        "cm_display = metrics.ConfusionMatrixDisplay(confusion_matrix = confusion_matrix, display_labels = [False, True])\n",
        "cm_display.plot()\n",
        "plt.show()\n",
        "\n",
        "fpr, tpr, _ = metrics.roc_curve(y_test,  y_predict)\n",
        "plt.plot(fpr, tpr, color='red')\n",
        "plt.ylabel('True Rate')\n",
        "plt.xlabel('False Rate')\n",
        "plt.show()\n",
        "\n",
        "print(\"Naive Bayes accuracy: \", accuracy_score(y_test, y_predict))"
      ],
      "metadata": {
        "colab": {
          "base_uri": "https://localhost:8080/",
          "height": 898
        },
        "id": "ygxwiSF-U79J",
        "outputId": "81ea058c-8dad-46e2-f17a-a000ebce921d"
      },
      "execution_count": 43,
      "outputs": [
        {
          "output_type": "display_data",
          "data": {
            "text/plain": [
              "<Figure size 640x480 with 2 Axes>"
            ],
            "image/png": "[encoded data removed]"
          },
          "metadata": {}
        },
        {
          "output_type": "display_data",
          "data": {
            "text/plain": [
              "<Figure size 640x480 with 1 Axes>"
            ],
            "image/png": "[encoded data removed]"
          },
          "metadata": {}
        },
        {
          "output_type": "stream",
          "name": "stdout",
          "text": [
            "Naive Bayes accuracy:  0.8707916287534122\n"
          ]
        }
      ]
    },
    {
      "cell_type": "markdown",
      "source": [
        "### 2.3 Regresja logistyczna"
      ],
      "metadata": {
        "id": "rv0T9JmvMzg6"
      }
    },
    {
      "cell_type": "markdown",
      "source": [
        "#### 2.3.1 Trenowanie Modelu"
      ],
      "metadata": {
        "id": "GMVO9r6GW8yx"
      }
    },
    {
      "cell_type": "code",
      "source": [
        "lr = LogisticRegression().fit(X_train, y_train)\n",
        "lr_score = lr.score(X_test, y_test)\n",
        "y_predict = lr.predict(X_test)"
      ],
      "metadata": {
        "id": "_VdOuYyKUMbX"
      },
      "execution_count": 45,
      "outputs": []
    },
    {
      "cell_type": "markdown",
      "source": [
        "#### 2.3.2 Wizualizacja Modelu"
      ],
      "metadata": {
        "id": "NGFMlWYKW9_c"
      }
    },
    {
      "cell_type": "code",
      "source": [
        "confusion_matrix = metrics.confusion_matrix(y_test, y_predict)\n",
        "cm_display = metrics.ConfusionMatrixDisplay(confusion_matrix = confusion_matrix, display_labels = [False, True])\n",
        "cm_display.plot()\n",
        "plt.show()\n",
        "\n",
        "fpr, tpr, _ = metrics.roc_curve(y_test,  y_predict)\n",
        "plt.plot(fpr, tpr, color='green')\n",
        "plt.ylabel('True Rate')\n",
        "plt.xlabel('False Rate')\n",
        "plt.show()\n",
        "\n",
        "print('Logistic regression accuracy: ', lr_score)"
      ],
      "metadata": {
        "colab": {
          "base_uri": "https://localhost:8080/",
          "height": 898
        },
        "id": "zg6_inEuU97G",
        "outputId": "8811ab23-f330-4f99-e5a5-4eba28d3dcab"
      },
      "execution_count": 46,
      "outputs": [
        {
          "output_type": "display_data",
          "data": {
            "text/plain": [
              "<Figure size 640x480 with 2 Axes>"
            ],
            "image/png": "[encoded data removed]"
          },
          "metadata": {}
        },
        {
          "output_type": "display_data",
          "data": {
            "text/plain": [
              "<Figure size 640x480 with 1 Axes>"
            ],
            "image/png": "[encoded data removed]"
          },
          "metadata": {}
        },
        {
          "output_type": "stream",
          "name": "stdout",
          "text": [
            "Logistic regression accuracy:  0.8717015468607825\n"
          ]
        }
      ]
    },
    {
      "cell_type": "markdown",
      "source": [
        "### 2.4 Drzewo decyzyjne"
      ],
      "metadata": {
        "id": "RlyQxjCLPLQc"
      }
    },
    {
      "cell_type": "markdown",
      "source": [
        "#### 2.4.1 Trenowanie Modelu"
      ],
      "metadata": {
        "id": "4ectS2k1Wuum"
      }
    },
    {
      "cell_type": "code",
      "source": [
        "clf = tree.DecisionTreeClassifier().fit(X_train, y_train)\n",
        "clf_score = clf.score(X_test, y_test)\n",
        "y_predict = clf.predict(X_test)"
      ],
      "metadata": {
        "id": "HAvzYIgrVvQ1"
      },
      "execution_count": 51,
      "outputs": []
    },
    {
      "cell_type": "markdown",
      "source": [
        "#### 2.4.2 Wizualizacja Modelu"
      ],
      "metadata": {
        "id": "cBeIkJCOW0sT"
      }
    },
    {
      "cell_type": "code",
      "source": [
        "confusion_matrix = metrics.confusion_matrix(y_test, y_predict)\n",
        "cm_display = metrics.ConfusionMatrixDisplay(confusion_matrix = confusion_matrix, display_labels = [False, True])\n",
        "cm_display.plot()\n",
        "plt.show()\n",
        "\n",
        "fpr, tpr, _ = metrics.roc_curve(y_test,  y_predict)\n",
        "plt.plot(fpr, tpr, color='green')\n",
        "plt.ylabel('True Rate')\n",
        "plt.xlabel('False Rate')\n",
        "plt.show()\n",
        "\n",
        "print('Logistic regression accuracy: ', clf_score)"
      ],
      "metadata": {
        "colab": {
          "base_uri": "https://localhost:8080/",
          "height": 898
        },
        "id": "ObqfuAwWVvkh",
        "outputId": "11868a7d-1c56-45e4-d4f8-082000c215e0"
      },
      "execution_count": 52,
      "outputs": [
        {
          "output_type": "display_data",
          "data": {
            "text/plain": [
              "<Figure size 640x480 with 2 Axes>"
            ],
            "image/png": "[encoded data removed]"
          },
          "metadata": {}
        },
        {
          "output_type": "display_data",
          "data": {
            "text/plain": [
              "<Figure size 640x480 with 1 Axes>"
            ],
            "image/png": "[encoded data removed]"
          },
          "metadata": {}
        },
        {
          "output_type": "stream",
          "name": "stdout",
          "text": [
            "Logistic regression accuracy:  0.7898089171974523\n"
          ]
        }
      ]
    },
    {
      "cell_type": "markdown",
      "source": [
        "## Etap 3: Neural Model"
      ],
      "metadata": {
        "id": "4Mb6wmCEUTPk"
      }
    },
    {
      "cell_type": "markdown",
      "source": [
        "### 3.1 Model BLSTM"
      ],
      "metadata": {
        "id": "B48tyVc746h7"
      }
    },
    {
      "cell_type": "markdown",
      "source": [
        "#### 3.1.1 Instalacja bibliotek"
      ],
      "metadata": {
        "id": "pPvO9zMlHwRI"
      }
    },
    {
      "cell_type": "code",
      "source": [
        "!pip install plot_keras_history -q"
      ],
      "metadata": {
        "colab": {
          "base_uri": "https://localhost:8080/"
        },
        "id": "MXYLmHfn92o6",
        "outputId": "eed60b2c-7e63-4705-cec4-a82385c2d9af"
      },
      "execution_count": 33,
      "outputs": [
        {
          "output_type": "stream",
          "name": "stdout",
          "text": [
            "  Preparing metadata (setup.py) ... \u001b[?25l\u001b[?25hdone\n",
            "  Preparing metadata (setup.py) ... \u001b[?25l\u001b[?25hdone\n",
            "\u001b[2K     \u001b[90m━━━━━━━━━━━━━━━━━━━━━━━━━━━━━━━━━━━━━━\u001b[0m \u001b[32m322.1/322.1 kB\u001b[0m \u001b[31m20.3 MB/s\u001b[0m eta \u001b[36m0:00:00\u001b[0m\n",
            "\u001b[?25h  Preparing metadata (setup.py) ... \u001b[?25l\u001b[?25hdone\n",
            "  Preparing metadata (setup.py) ... \u001b[?25l\u001b[?25hdone\n",
            "  Building wheel for plot_keras_history (setup.py) ... \u001b[?25l\u001b[?25hdone\n",
            "  Building wheel for sanitize_ml_labels (setup.py) ... \u001b[?25l\u001b[?25hdone\n",
            "  Building wheel for support_developer (setup.py) ... \u001b[?25l\u001b[?25hdone\n",
            "  Building wheel for compress_json (setup.py) ... \u001b[?25l\u001b[?25hdone\n"
          ]
        }
      ]
    },
    {
      "cell_type": "markdown",
      "source": [
        "#### 3.1.2 Import bibliotek"
      ],
      "metadata": {
        "id": "AsTOgHLZ5J82"
      }
    },
    {
      "cell_type": "code",
      "source": [
        "import pandas as pd\n",
        "import tensorflow as tf\n",
        "import keras\n",
        "from keras.models import Sequential\n",
        "from keras import layers\n",
        "from tensorflow.keras.optimizers import RMSprop, Adam\n",
        "from keras.preprocessing.text import Tokenizer\n",
        "from keras import regularizers\n",
        "from keras import backend as K\n",
        "from keras.callbacks import ModelCheckpoint, EarlyStopping\n",
        "from keras.utils import pad_sequences, to_categorical\n",
        "from sklearn.model_selection import train_test_split"
      ],
      "metadata": {
        "id": "V7IIimIrUhcl"
      },
      "execution_count": 1,
      "outputs": []
    },
    {
      "cell_type": "markdown",
      "source": [
        "#### 3.1.3 Zczytywanie danych"
      ],
      "metadata": {
        "id": "LFOjjhjE5g0r"
      }
    },
    {
      "cell_type": "code",
      "source": [
        "df_labeled = pd.read_csv(\"labeled_data.csv\", index_col=0) \n",
        "df_labeled.rename(columns={\"prediction\":\"label\"}, inplace=True)\n",
        "df_labeled = df_labeled.drop(\"sentiment_rate\",axis = 1)\n",
        "\n",
        "df_labeled.sample(5)"
      ],
      "metadata": {
        "colab": {
          "base_uri": "https://localhost:8080/",
          "height": 206
        },
        "id": "gOq1ZFAq5cR6",
        "outputId": "dedcae42-839d-4d09-bed6-2539eb196b8e"
      },
      "execution_count": 2,
      "outputs": [
        {
          "output_type": "execute_result",
          "data": {
            "text/plain": [
              "                                                    text  label\n",
              "10304  listen little_girl work old copying dammmm spe...      1\n",
              "16368  huw_edwards nervous king charles coronation_tr...      0\n",
              "13874  king charle camilla sit new throne coronation ...      1\n",
              "1813   way look_like charles raise million watercolou...      1\n",
              "17648                       honor coronation king charle      0"
            ],
            "text/html": [
              "\n",
              "  <div id=\"df-7a5f8886-d86f-457d-aecb-e3c2cc6a4a9b\">\n",
              "    <div class=\"colab-df-container\">\n",
              "      <div>\n",
              "<style scoped>\n",
              "    .dataframe tbody tr th:only-of-type {\n",
              "        vertical-align: middle;\n",
              "    }\n",
              "\n",
              "    .dataframe tbody tr th {\n",
              "        vertical-align: top;\n",
              "    }\n",
              "\n",
              "    .dataframe thead th {\n",
              "        text-align: right;\n",
              "    }\n",
              "</style>\n",
              "<table border=\"1\" class=\"dataframe\">\n",
              "  <thead>\n",
              "    <tr style=\"text-align: right;\">\n",
              "      <th></th>\n",
              "      <th>text</th>\n",
              "      <th>label</th>\n",
              "    </tr>\n",
              "  </thead>\n",
              "  <tbody>\n",
              "    <tr>\n",
              "      <th>10304</th>\n",
              "      <td>listen little_girl work old copying dammmm spe...</td>\n",
              "      <td>1</td>\n",
              "    </tr>\n",
              "    <tr>\n",
              "      <th>16368</th>\n",
              "      <td>huw_edwards nervous king charles coronation_tr...</td>\n",
              "      <td>0</td>\n",
              "    </tr>\n",
              "    <tr>\n",
              "      <th>13874</th>\n",
              "      <td>king charle camilla sit new throne coronation ...</td>\n",
              "      <td>1</td>\n",
              "    </tr>\n",
              "    <tr>\n",
              "      <th>1813</th>\n",
              "      <td>way look_like charles raise million watercolou...</td>\n",
              "      <td>1</td>\n",
              "    </tr>\n",
              "    <tr>\n",
              "      <th>17648</th>\n",
              "      <td>honor coronation king charle</td>\n",
              "      <td>0</td>\n",
              "    </tr>\n",
              "  </tbody>\n",
              "</table>\n",
              "</div>\n",
              "      <button class=\"colab-df-convert\" onclick=\"convertToInteractive('df-7a5f8886-d86f-457d-aecb-e3c2cc6a4a9b')\"\n",
              "              title=\"Convert this dataframe to an interactive table.\"\n",
              "              style=\"display:none;\">\n",
              "        \n",
              "  <svg xmlns=\"http://www.w3.org/2000/svg\" height=\"24px\"viewBox=\"0 0 24 24\"\n",
              "       width=\"24px\">\n",
              "    <path d=\"M0 0h24v24H0V0z\" fill=\"none\"/>\n",
              "    <path d=\"M18.56 5.44l.94 2.06.94-2.06 2.06-.94-2.06-.94-.94-2.06-.94 2.06-2.06.94zm-11 1L8.5 8.5l.94-2.06 2.06-.94-2.06-.94L8.5 2.5l-.94 2.06-2.06.94zm10 10l.94 2.06.94-2.06 2.06-.94-2.06-.94-.94-2.06-.94 2.06-2.06.94z\"/><path d=\"M17.41 7.96l-1.37-1.37c-.4-.4-.92-.59-1.43-.59-.52 0-1.04.2-1.43.59L10.3 9.45l-7.72 7.72c-.78.78-.78 2.05 0 2.83L4 21.41c.39.39.9.59 1.41.59.51 0 1.02-.2 1.41-.59l7.78-7.78 2.81-2.81c.8-.78.8-2.07 0-2.86zM5.41 20L4 18.59l7.72-7.72 1.47 1.35L5.41 20z\"/>\n",
              "  </svg>\n",
              "      </button>\n",
              "      \n",
              "  <style>\n",
              "    .colab-df-container {\n",
              "      display:flex;\n",
              "      flex-wrap:wrap;\n",
              "      gap: 12px;\n",
              "    }\n",
              "\n",
              "    .colab-df-convert {\n",
              "      background-color: #E8F0FE;\n",
              "      border: none;\n",
              "      border-radius: 50%;\n",
              "      cursor: pointer;\n",
              "      display: none;\n",
              "      fill: #1967D2;\n",
              "      height: 32px;\n",
              "      padding: 0 0 0 0;\n",
              "      width: 32px;\n",
              "    }\n",
              "\n",
              "    .colab-df-convert:hover {\n",
              "      background-color: #E2EBFA;\n",
              "      box-shadow: 0px 1px 2px rgba(60, 64, 67, 0.3), 0px 1px 3px 1px rgba(60, 64, 67, 0.15);\n",
              "      fill: #174EA6;\n",
              "    }\n",
              "\n",
              "    [theme=dark] .colab-df-convert {\n",
              "      background-color: #3B4455;\n",
              "      fill: #D2E3FC;\n",
              "    }\n",
              "\n",
              "    [theme=dark] .colab-df-convert:hover {\n",
              "      background-color: #434B5C;\n",
              "      box-shadow: 0px 1px 3px 1px rgba(0, 0, 0, 0.15);\n",
              "      filter: drop-shadow(0px 1px 2px rgba(0, 0, 0, 0.3));\n",
              "      fill: #FFFFFF;\n",
              "    }\n",
              "  </style>\n",
              "\n",
              "      <script>\n",
              "        const buttonEl =\n",
              "          document.querySelector('#df-7a5f8886-d86f-457d-aecb-e3c2cc6a4a9b button.colab-df-convert');\n",
              "        buttonEl.style.display =\n",
              "          google.colab.kernel.accessAllowed ? 'block' : 'none';\n",
              "\n",
              "        async function convertToInteractive(key) {\n",
              "          const element = document.querySelector('#df-7a5f8886-d86f-457d-aecb-e3c2cc6a4a9b');\n",
              "          const dataTable =\n",
              "            await google.colab.kernel.invokeFunction('convertToInteractive',\n",
              "                                                     [key], {});\n",
              "          if (!dataTable) return;\n",
              "\n",
              "          const docLinkHtml = 'Like what you see? Visit the ' +\n",
              "            '<a target=\"_blank\" href=https://colab.research.google.com/notebooks/data_table.ipynb>data table notebook</a>'\n",
              "            + ' to learn more about interactive tables.';\n",
              "          element.innerHTML = '';\n",
              "          dataTable['output_type'] = 'display_data';\n",
              "          await google.colab.output.renderOutput(dataTable, element);\n",
              "          const docLink = document.createElement('div');\n",
              "          docLink.innerHTML = docLinkHtml;\n",
              "          element.appendChild(docLink);\n",
              "        }\n",
              "      </script>\n",
              "    </div>\n",
              "  </div>\n",
              "  "
            ]
          },
          "metadata": {},
          "execution_count": 2
        }
      ]
    },
    {
      "cell_type": "markdown",
      "source": [
        "#### 3.1.4 Przygotowywanie danych"
      ],
      "metadata": {
        "id": "cH-Vm-Rb5lDR"
      }
    },
    {
      "cell_type": "code",
      "source": [
        "max_words=5000\n",
        "max_len=200\n",
        "\n",
        "tokenizer = Tokenizer(num_words=max_words)\n",
        "tokenizer.fit_on_texts(df_labeled[\"text\"])\n",
        "sequences = tokenizer.texts_to_sequences(df_labeled[\"text\"])\n",
        "text = pad_sequences(sequences, maxlen=max_len)\n",
        "labels = to_categorical(df_labeled[\"label\"], num_classes=2)"
      ],
      "metadata": {
        "id": "fys34FVM5b06"
      },
      "execution_count": 3,
      "outputs": []
    },
    {
      "cell_type": "code",
      "source": [
        "X_train, X_test, y_train, y_test = train_test_split(text, labels, test_size=0.1, stratify=labels, random_state=42)"
      ],
      "metadata": {
        "id": "gRMFNK2_6Gd8"
      },
      "execution_count": 4,
      "outputs": []
    },
    {
      "cell_type": "markdown",
      "source": [
        "#### 3.1.5 Uczenie modelu"
      ],
      "metadata": {
        "id": "cbEhhx9p6QG9"
      }
    },
    {
      "cell_type": "code",
      "source": [
        "model = Sequential([\n",
        "    layers.Embedding(max_words, 40),\n",
        "    layers.Bidirectional(layers.LSTM(10, dropout=0.5, return_sequences=True)),\n",
        "    layers.LSTM(10, dropout=0.5),\n",
        "    layers.Dense(2, activation=\"softmax\")\n",
        "])\n",
        "model.compile(optimizer='rmsprop',loss='categorical_crossentropy', metrics=['accuracy'])\n",
        "\n",
        "es = EarlyStopping(monitor='val_loss', mode='min', patience=5, verbose=1)\n",
        "mc = ModelCheckpoint('best_model.h5', monitor='val_loss', mode='min', save_best_only=True, verbose=1)\n",
        "\n",
        "history = model.fit(X_train, y_train, epochs=50, validation_data=(X_test,y_test), callbacks=[es, mc])"
      ],
      "metadata": {
        "colab": {
          "base_uri": "https://localhost:8080/"
        },
        "id": "qIxLrmRC6R83",
        "outputId": "1920c9dd-b53f-43ac-d281-3cea1db5ea18"
      },
      "execution_count": 5,
      "outputs": [
        {
          "output_type": "stream",
          "name": "stdout",
          "text": [
            "Epoch 1/50\n",
            "619/619 [==============================] - ETA: 0s - loss: 0.4287 - accuracy: 0.7997\n",
            "Epoch 1: val_loss improved from inf to 0.33573, saving model to best_model.h5\n",
            "619/619 [==============================] - 43s 55ms/step - loss: 0.4287 - accuracy: 0.7997 - val_loss: 0.3357 - val_accuracy: 0.8585\n",
            "Epoch 2/50\n",
            "619/619 [==============================] - ETA: 0s - loss: 0.3120 - accuracy: 0.8702\n",
            "Epoch 2: val_loss improved from 0.33573 to 0.31050, saving model to best_model.h5\n",
            "619/619 [==============================] - 17s 27ms/step - loss: 0.3120 - accuracy: 0.8702 - val_loss: 0.3105 - val_accuracy: 0.8722\n",
            "Epoch 3/50\n",
            "619/619 [==============================] - ETA: 0s - loss: 0.2815 - accuracy: 0.8845\n",
            "Epoch 3: val_loss improved from 0.31050 to 0.29942, saving model to best_model.h5\n",
            "619/619 [==============================] - 15s 25ms/step - loss: 0.2815 - accuracy: 0.8845 - val_loss: 0.2994 - val_accuracy: 0.8794\n",
            "Epoch 4/50\n",
            "619/619 [==============================] - ETA: 0s - loss: 0.2633 - accuracy: 0.8920\n",
            "Epoch 4: val_loss improved from 0.29942 to 0.28892, saving model to best_model.h5\n",
            "619/619 [==============================] - 15s 23ms/step - loss: 0.2633 - accuracy: 0.8920 - val_loss: 0.2889 - val_accuracy: 0.8790\n",
            "Epoch 5/50\n",
            "619/619 [==============================] - ETA: 0s - loss: 0.2499 - accuracy: 0.8990\n",
            "Epoch 5: val_loss improved from 0.28892 to 0.28255, saving model to best_model.h5\n",
            "619/619 [==============================] - 15s 24ms/step - loss: 0.2499 - accuracy: 0.8990 - val_loss: 0.2826 - val_accuracy: 0.8831\n",
            "Epoch 6/50\n",
            "619/619 [==============================] - ETA: 0s - loss: 0.2415 - accuracy: 0.9043\n",
            "Epoch 6: val_loss did not improve from 0.28255\n",
            "619/619 [==============================] - 16s 25ms/step - loss: 0.2415 - accuracy: 0.9043 - val_loss: 0.2881 - val_accuracy: 0.8849\n",
            "Epoch 7/50\n",
            "619/619 [==============================] - ETA: 0s - loss: 0.2299 - accuracy: 0.9074\n",
            "Epoch 7: val_loss improved from 0.28255 to 0.28062, saving model to best_model.h5\n",
            "619/619 [==============================] - 15s 24ms/step - loss: 0.2299 - accuracy: 0.9074 - val_loss: 0.2806 - val_accuracy: 0.8849\n",
            "Epoch 8/50\n",
            "619/619 [==============================] - ETA: 0s - loss: 0.2228 - accuracy: 0.9089\n",
            "Epoch 8: val_loss improved from 0.28062 to 0.27160, saving model to best_model.h5\n",
            "619/619 [==============================] - 14s 23ms/step - loss: 0.2228 - accuracy: 0.9089 - val_loss: 0.2716 - val_accuracy: 0.8899\n",
            "Epoch 9/50\n",
            "619/619 [==============================] - ETA: 0s - loss: 0.2144 - accuracy: 0.9154\n",
            "Epoch 9: val_loss improved from 0.27160 to 0.26893, saving model to best_model.h5\n",
            "619/619 [==============================] - 14s 23ms/step - loss: 0.2144 - accuracy: 0.9154 - val_loss: 0.2689 - val_accuracy: 0.8894\n",
            "Epoch 10/50\n",
            "619/619 [==============================] - ETA: 0s - loss: 0.2095 - accuracy: 0.9195\n",
            "Epoch 10: val_loss did not improve from 0.26893\n",
            "619/619 [==============================] - 14s 23ms/step - loss: 0.2095 - accuracy: 0.9195 - val_loss: 0.2781 - val_accuracy: 0.8894\n",
            "Epoch 11/50\n",
            "619/619 [==============================] - ETA: 0s - loss: 0.2016 - accuracy: 0.9202\n",
            "Epoch 11: val_loss did not improve from 0.26893\n",
            "619/619 [==============================] - 14s 23ms/step - loss: 0.2016 - accuracy: 0.9202 - val_loss: 0.2710 - val_accuracy: 0.8867\n",
            "Epoch 12/50\n",
            "619/619 [==============================] - ETA: 0s - loss: 0.1962 - accuracy: 0.9229\n",
            "Epoch 12: val_loss did not improve from 0.26893\n",
            "619/619 [==============================] - 14s 23ms/step - loss: 0.1962 - accuracy: 0.9229 - val_loss: 0.2728 - val_accuracy: 0.8885\n",
            "Epoch 13/50\n",
            "619/619 [==============================] - ETA: 0s - loss: 0.1891 - accuracy: 0.9282\n",
            "Epoch 13: val_loss did not improve from 0.26893\n",
            "619/619 [==============================] - 14s 22ms/step - loss: 0.1891 - accuracy: 0.9282 - val_loss: 0.2788 - val_accuracy: 0.8894\n",
            "Epoch 14/50\n",
            "619/619 [==============================] - ETA: 0s - loss: 0.1854 - accuracy: 0.9284\n",
            "Epoch 14: val_loss did not improve from 0.26893\n",
            "619/619 [==============================] - 14s 23ms/step - loss: 0.1854 - accuracy: 0.9284 - val_loss: 0.2880 - val_accuracy: 0.8922\n",
            "Epoch 14: early stopping\n"
          ]
        }
      ]
    },
    {
      "cell_type": "markdown",
      "source": [
        "#### 3.1.6 Wizualizacja"
      ],
      "metadata": {
        "id": "WV6_-ZdTAKIH"
      }
    },
    {
      "cell_type": "code",
      "source": [
        "from plot_keras_history import show_history, plot_history\n",
        "import matplotlib.pyplot as plt\n",
        "\n",
        "show_history(history)\n",
        "plot_history(history)\n",
        "plt.close()"
      ],
      "metadata": {
        "colab": {
          "base_uri": "https://localhost:8080/",
          "height": 0
        },
        "id": "kwWV7hDb973c",
        "outputId": "05159181-c3cf-4e82-defb-29d888231127"
      },
      "execution_count": 6,
      "outputs": [
        {
          "output_type": "display_data",
          "data": {
            "text/plain": [
              "<Figure size 1000x500 with 2 Axes>"
            ],
            "image/png": "[encoded data removed]"
          },
          "metadata": {}
        }
      ]
    },
    {
      "cell_type": "markdown",
      "source": [
        "#### 3.1.7 Test modelu"
      ],
      "metadata": {
        "id": "_kRowd0LAL9v"
      }
    },
    {
      "cell_type": "code",
      "source": [
        "model = keras.models.load_model('best_model.h5')\n",
        "loss, accuracy = model.evaluate(X_test,y_test)\n",
        "print(\"Test accuracy:\", accuracy)"
      ],
      "metadata": {
        "colab": {
          "base_uri": "https://localhost:8080/"
        },
        "id": "GI_a1_XO_IMd",
        "outputId": "5ea406ef-366d-4f33-e080-869f8dfab85b"
      },
      "execution_count": 7,
      "outputs": [
        {
          "output_type": "stream",
          "name": "stdout",
          "text": [
            "69/69 [==============================] - 2s 10ms/step - loss: 0.2689 - accuracy: 0.8894\n",
            "Test accuracy: 0.8894449472427368\n"
          ]
        }
      ]
    },
    {
      "cell_type": "markdown",
      "source": [
        "## Etap 4: Language Model\n",
        "### <font color=red>UWAGA: Zmien srodowisko wykonawcze na GPU, jezeli tego jeszcze nie zrobiles/as </font> "
      ],
      "metadata": {
        "id": "PKnmOTmDUmhv"
      }
    },
    {
      "cell_type": "markdown",
      "source": [
        "### 4.1 DistilBERT model"
      ],
      "metadata": {
        "id": "log59N_Np4GI"
      }
    },
    {
      "cell_type": "markdown",
      "source": [
        "#### 4.1.1 Instalacja bibliotek"
      ],
      "metadata": {
        "id": "iKqIAwr7p9pX"
      }
    },
    {
      "cell_type": "code",
      "source": [
        "!pip install -U transformers\n",
        "!pip install -U datasets\n",
        "!pip install --upgrade accelerate"
      ],
      "metadata": {
        "colab": {
          "base_uri": "https://localhost:8080/"
        },
        "id": "aN65HR8nlkKy",
        "outputId": "599cc59b-e169-4e06-eae2-ee6f498cf30b"
      },
      "execution_count": 1,
      "outputs": [
        {
          "output_type": "stream",
          "name": "stdout",
          "text": [
            "Looking in indexes: https://pypi.org/simple, https://us-python.pkg.dev/colab-wheels/public/simple/\n",
            "Requirement already satisfied: transformers in /usr/local/lib/python3.10/dist-packages (4.29.2)\n",
            "Requirement already satisfied: filelock in /usr/local/lib/python3.10/dist-packages (from transformers) (3.12.0)\n",
            "Requirement already satisfied: huggingface-hub<1.0,>=0.14.1 in /usr/local/lib/python3.10/dist-packages (from transformers) (0.14.1)\n",
            "Requirement already satisfied: numpy>=1.17 in /usr/local/lib/python3.10/dist-packages (from transformers) (1.22.4)\n",
            "Requirement already satisfied: packaging>=20.0 in /usr/local/lib/python3.10/dist-packages (from transformers) (23.1)\n",
            "Requirement already satisfied: pyyaml>=5.1 in /usr/local/lib/python3.10/dist-packages (from transformers) (6.0)\n",
            "Requirement already satisfied: regex!=2019.12.17 in /usr/local/lib/python3.10/dist-packages (from transformers) (2022.10.31)\n",
            "Requirement already satisfied: requests in /usr/local/lib/python3.10/dist-packages (from transformers) (2.27.1)\n",
            "Requirement already satisfied: tokenizers!=0.11.3,<0.14,>=0.11.1 in /usr/local/lib/python3.10/dist-packages (from transformers) (0.13.3)\n",
            "Requirement already satisfied: tqdm>=4.27 in /usr/local/lib/python3.10/dist-packages (from transformers) (4.65.0)\n",
            "Requirement already satisfied: fsspec in /usr/local/lib/python3.10/dist-packages (from huggingface-hub<1.0,>=0.14.1->transformers) (2023.4.0)\n",
            "Requirement already satisfied: typing-extensions>=3.7.4.3 in /usr/local/lib/python3.10/dist-packages (from huggingface-hub<1.0,>=0.14.1->transformers) (4.5.0)\n",
            "Requirement already satisfied: urllib3<1.27,>=1.21.1 in /usr/local/lib/python3.10/dist-packages (from requests->transformers) (1.26.15)\n",
            "Requirement already satisfied: certifi>=2017.4.17 in /usr/local/lib/python3.10/dist-packages (from requests->transformers) (2022.12.7)\n",
            "Requirement already satisfied: charset-normalizer~=2.0.0 in /usr/local/lib/python3.10/dist-packages (from requests->transformers) (2.0.12)\n",
            "Requirement already satisfied: idna<4,>=2.5 in /usr/local/lib/python3.10/dist-packages (from requests->transformers) (3.4)\n",
            "Looking in indexes: https://pypi.org/simple, https://us-python.pkg.dev/colab-wheels/public/simple/\n",
            "Requirement already satisfied: datasets in /usr/local/lib/python3.10/dist-packages (2.12.0)\n",
            "Requirement already satisfied: numpy>=1.17 in /usr/local/lib/python3.10/dist-packages (from datasets) (1.22.4)\n",
            "Requirement already satisfied: pyarrow>=8.0.0 in /usr/local/lib/python3.10/dist-packages (from datasets) (9.0.0)\n",
            "Requirement already satisfied: dill<0.3.7,>=0.3.0 in /usr/local/lib/python3.10/dist-packages (from datasets) (0.3.6)\n",
            "Requirement already satisfied: pandas in /usr/local/lib/python3.10/dist-packages (from datasets) (1.5.3)\n",
            "Requirement already satisfied: requests>=2.19.0 in /usr/local/lib/python3.10/dist-packages (from datasets) (2.27.1)\n",
            "Requirement already satisfied: tqdm>=4.62.1 in /usr/local/lib/python3.10/dist-packages (from datasets) (4.65.0)\n",
            "Requirement already satisfied: xxhash in /usr/local/lib/python3.10/dist-packages (from datasets) (3.2.0)\n",
            "Requirement already satisfied: multiprocess in /usr/local/lib/python3.10/dist-packages (from datasets) (0.70.14)\n",
            "Requirement already satisfied: fsspec[http]>=2021.11.1 in /usr/local/lib/python3.10/dist-packages (from datasets) (2023.4.0)\n",
            "Requirement already satisfied: aiohttp in /usr/local/lib/python3.10/dist-packages (from datasets) (3.8.4)\n",
            "Requirement already satisfied: huggingface-hub<1.0.0,>=0.11.0 in /usr/local/lib/python3.10/dist-packages (from datasets) (0.14.1)\n",
            "Requirement already satisfied: packaging in /usr/local/lib/python3.10/dist-packages (from datasets) (23.1)\n",
            "Requirement already satisfied: responses<0.19 in /usr/local/lib/python3.10/dist-packages (from datasets) (0.18.0)\n",
            "Requirement already satisfied: pyyaml>=5.1 in /usr/local/lib/python3.10/dist-packages (from datasets) (6.0)\n",
            "Requirement already satisfied: attrs>=17.3.0 in /usr/local/lib/python3.10/dist-packages (from aiohttp->datasets) (23.1.0)\n",
            "Requirement already satisfied: charset-normalizer<4.0,>=2.0 in /usr/local/lib/python3.10/dist-packages (from aiohttp->datasets) (2.0.12)\n",
            "Requirement already satisfied: multidict<7.0,>=4.5 in /usr/local/lib/python3.10/dist-packages (from aiohttp->datasets) (6.0.4)\n",
            "Requirement already satisfied: async-timeout<5.0,>=4.0.0a3 in /usr/local/lib/python3.10/dist-packages (from aiohttp->datasets) (4.0.2)\n",
            "Requirement already satisfied: yarl<2.0,>=1.0 in /usr/local/lib/python3.10/dist-packages (from aiohttp->datasets) (1.9.2)\n",
            "Requirement already satisfied: frozenlist>=1.1.1 in /usr/local/lib/python3.10/dist-packages (from aiohttp->datasets) (1.3.3)\n",
            "Requirement already satisfied: aiosignal>=1.1.2 in /usr/local/lib/python3.10/dist-packages (from aiohttp->datasets) (1.3.1)\n",
            "Requirement already satisfied: filelock in /usr/local/lib/python3.10/dist-packages (from huggingface-hub<1.0.0,>=0.11.0->datasets) (3.12.0)\n",
            "Requirement already satisfied: typing-extensions>=3.7.4.3 in /usr/local/lib/python3.10/dist-packages (from huggingface-hub<1.0.0,>=0.11.0->datasets) (4.5.0)\n",
            "Requirement already satisfied: urllib3<1.27,>=1.21.1 in /usr/local/lib/python3.10/dist-packages (from requests>=2.19.0->datasets) (1.26.15)\n",
            "Requirement already satisfied: certifi>=2017.4.17 in /usr/local/lib/python3.10/dist-packages (from requests>=2.19.0->datasets) (2022.12.7)\n",
            "Requirement already satisfied: idna<4,>=2.5 in /usr/local/lib/python3.10/dist-packages (from requests>=2.19.0->datasets) (3.4)\n",
            "Requirement already satisfied: python-dateutil>=2.8.1 in /usr/local/lib/python3.10/dist-packages (from pandas->datasets) (2.8.2)\n",
            "Requirement already satisfied: pytz>=2020.1 in /usr/local/lib/python3.10/dist-packages (from pandas->datasets) (2022.7.1)\n",
            "Requirement already satisfied: six>=1.5 in /usr/local/lib/python3.10/dist-packages (from python-dateutil>=2.8.1->pandas->datasets) (1.16.0)\n",
            "Looking in indexes: https://pypi.org/simple, https://us-python.pkg.dev/colab-wheels/public/simple/\n",
            "Requirement already satisfied: accelerate in /usr/local/lib/python3.10/dist-packages (0.19.0)\n",
            "Requirement already satisfied: numpy>=1.17 in /usr/local/lib/python3.10/dist-packages (from accelerate) (1.22.4)\n",
            "Requirement already satisfied: packaging>=20.0 in /usr/local/lib/python3.10/dist-packages (from accelerate) (23.1)\n",
            "Requirement already satisfied: psutil in /usr/local/lib/python3.10/dist-packages (from accelerate) (5.9.5)\n",
            "Requirement already satisfied: pyyaml in /usr/local/lib/python3.10/dist-packages (from accelerate) (6.0)\n",
            "Requirement already satisfied: torch>=1.6.0 in /usr/local/lib/python3.10/dist-packages (from accelerate) (2.0.1+cu118)\n",
            "Requirement already satisfied: filelock in /usr/local/lib/python3.10/dist-packages (from torch>=1.6.0->accelerate) (3.12.0)\n",
            "Requirement already satisfied: typing-extensions in /usr/local/lib/python3.10/dist-packages (from torch>=1.6.0->accelerate) (4.5.0)\n",
            "Requirement already satisfied: sympy in /usr/local/lib/python3.10/dist-packages (from torch>=1.6.0->accelerate) (1.11.1)\n",
            "Requirement already satisfied: networkx in /usr/local/lib/python3.10/dist-packages (from torch>=1.6.0->accelerate) (3.1)\n",
            "Requirement already satisfied: jinja2 in /usr/local/lib/python3.10/dist-packages (from torch>=1.6.0->accelerate) (3.1.2)\n",
            "Requirement already satisfied: triton==2.0.0 in /usr/local/lib/python3.10/dist-packages (from torch>=1.6.0->accelerate) (2.0.0)\n",
            "Requirement already satisfied: cmake in /usr/local/lib/python3.10/dist-packages (from triton==2.0.0->torch>=1.6.0->accelerate) (3.25.2)\n",
            "Requirement already satisfied: lit in /usr/local/lib/python3.10/dist-packages (from triton==2.0.0->torch>=1.6.0->accelerate) (16.0.5)\n",
            "Requirement already satisfied: MarkupSafe>=2.0 in /usr/local/lib/python3.10/dist-packages (from jinja2->torch>=1.6.0->accelerate) (2.1.2)\n",
            "Requirement already satisfied: mpmath>=0.19 in /usr/local/lib/python3.10/dist-packages (from sympy->torch>=1.6.0->accelerate) (1.3.0)\n"
          ]
        }
      ]
    },
    {
      "cell_type": "markdown",
      "source": [
        "#### 4.1.2 Importowanie bibliotek"
      ],
      "metadata": {
        "id": "g78u3MzYqAh1"
      }
    },
    {
      "cell_type": "code",
      "source": [
        "import transformers\n",
        "import datasets\n",
        "import torch\n",
        "import pandas as pd\n",
        "import numpy as np\n",
        "from transformers import AutoTokenizer, AutoModelForSequenceClassification, TrainingArguments, Trainer\n",
        "from datasets import Dataset, load_metric\n"
      ],
      "metadata": {
        "id": "MtLaLx-ZllWh"
      },
      "execution_count": 1,
      "outputs": []
    },
    {
      "cell_type": "markdown",
      "source": [
        "#### 4.1.3 Zczytywanie danych"
      ],
      "metadata": {
        "id": "Ix8x4j8erSqg"
      }
    },
    {
      "cell_type": "code",
      "source": [
        "df_labeled = pd.read_csv(\"labeled_data.csv\", index_col=0) \n",
        "df_labeled.rename(columns={\"prediction\":\"label\"}, inplace=True)\n",
        "df_labeled = df_labeled.drop(\"sentiment_rate\",axis = 1)\n",
        "\n",
        "\n",
        "ds_ = Dataset.from_pandas(df_labeled)\n",
        "ds = ds_.train_test_split(0.1)\n",
        "df_labeled.sample(5)"
      ],
      "metadata": {
        "colab": {
          "base_uri": "https://localhost:8080/",
          "height": 206
        },
        "id": "YzGg0m_jl8u3",
        "outputId": "84a4c001-b631-4373-ec79-41e52d1e9eef"
      },
      "execution_count": 2,
      "outputs": [
        {
          "output_type": "execute_result",
          "data": {
            "text/plain": [
              "                                                    text  label\n",
              "13962  scroll coronation king charles_iii give domini...      1\n",
              "1183   new_coin king charle crown_mp gyles_brandeth s...      0\n",
              "20892  king charle coronation people invite e reach u...      1\n",
              "3225   nep protectorate truste kenya behalf king char...      1\n",
              "5748   think mainly king charle way make need change ...      1"
            ],
            "text/html": [
              "\n",
              "  <div id=\"df-924f5b09-61e2-4400-85dc-658c37a7b089\">\n",
              "    <div class=\"colab-df-container\">\n",
              "      <div>\n",
              "<style scoped>\n",
              "    .dataframe tbody tr th:only-of-type {\n",
              "        vertical-align: middle;\n",
              "    }\n",
              "\n",
              "    .dataframe tbody tr th {\n",
              "        vertical-align: top;\n",
              "    }\n",
              "\n",
              "    .dataframe thead th {\n",
              "        text-align: right;\n",
              "    }\n",
              "</style>\n",
              "<table border=\"1\" class=\"dataframe\">\n",
              "  <thead>\n",
              "    <tr style=\"text-align: right;\">\n",
              "      <th></th>\n",
              "      <th>text</th>\n",
              "      <th>label</th>\n",
              "    </tr>\n",
              "  </thead>\n",
              "  <tbody>\n",
              "    <tr>\n",
              "      <th>13962</th>\n",
              "      <td>scroll coronation king charles_iii give domini...</td>\n",
              "      <td>1</td>\n",
              "    </tr>\n",
              "    <tr>\n",
              "      <th>1183</th>\n",
              "      <td>new_coin king charle crown_mp gyles_brandeth s...</td>\n",
              "      <td>0</td>\n",
              "    </tr>\n",
              "    <tr>\n",
              "      <th>20892</th>\n",
              "      <td>king charle coronation people invite e reach u...</td>\n",
              "      <td>1</td>\n",
              "    </tr>\n",
              "    <tr>\n",
              "      <th>3225</th>\n",
              "      <td>nep protectorate truste kenya behalf king char...</td>\n",
              "      <td>1</td>\n",
              "    </tr>\n",
              "    <tr>\n",
              "      <th>5748</th>\n",
              "      <td>think mainly king charle way make need change ...</td>\n",
              "      <td>1</td>\n",
              "    </tr>\n",
              "  </tbody>\n",
              "</table>\n",
              "</div>\n",
              "      <button class=\"colab-df-convert\" onclick=\"convertToInteractive('df-924f5b09-61e2-4400-85dc-658c37a7b089')\"\n",
              "              title=\"Convert this dataframe to an interactive table.\"\n",
              "              style=\"display:none;\">\n",
              "        \n",
              "  <svg xmlns=\"http://www.w3.org/2000/svg\" height=\"24px\"viewBox=\"0 0 24 24\"\n",
              "       width=\"24px\">\n",
              "    <path d=\"M0 0h24v24H0V0z\" fill=\"none\"/>\n",
              "    <path d=\"M18.56 5.44l.94 2.06.94-2.06 2.06-.94-2.06-.94-.94-2.06-.94 2.06-2.06.94zm-11 1L8.5 8.5l.94-2.06 2.06-.94-2.06-.94L8.5 2.5l-.94 2.06-2.06.94zm10 10l.94 2.06.94-2.06 2.06-.94-2.06-.94-.94-2.06-.94 2.06-2.06.94z\"/><path d=\"M17.41 7.96l-1.37-1.37c-.4-.4-.92-.59-1.43-.59-.52 0-1.04.2-1.43.59L10.3 9.45l-7.72 7.72c-.78.78-.78 2.05 0 2.83L4 21.41c.39.39.9.59 1.41.59.51 0 1.02-.2 1.41-.59l7.78-7.78 2.81-2.81c.8-.78.8-2.07 0-2.86zM5.41 20L4 18.59l7.72-7.72 1.47 1.35L5.41 20z\"/>\n",
              "  </svg>\n",
              "      </button>\n",
              "      \n",
              "  <style>\n",
              "    .colab-df-container {\n",
              "      display:flex;\n",
              "      flex-wrap:wrap;\n",
              "      gap: 12px;\n",
              "    }\n",
              "\n",
              "    .colab-df-convert {\n",
              "      background-color: #E8F0FE;\n",
              "      border: none;\n",
              "      border-radius: 50%;\n",
              "      cursor: pointer;\n",
              "      display: none;\n",
              "      fill: #1967D2;\n",
              "      height: 32px;\n",
              "      padding: 0 0 0 0;\n",
              "      width: 32px;\n",
              "    }\n",
              "\n",
              "    .colab-df-convert:hover {\n",
              "      background-color: #E2EBFA;\n",
              "      box-shadow: 0px 1px 2px rgba(60, 64, 67, 0.3), 0px 1px 3px 1px rgba(60, 64, 67, 0.15);\n",
              "      fill: #174EA6;\n",
              "    }\n",
              "\n",
              "    [theme=dark] .colab-df-convert {\n",
              "      background-color: #3B4455;\n",
              "      fill: #D2E3FC;\n",
              "    }\n",
              "\n",
              "    [theme=dark] .colab-df-convert:hover {\n",
              "      background-color: #434B5C;\n",
              "      box-shadow: 0px 1px 3px 1px rgba(0, 0, 0, 0.15);\n",
              "      filter: drop-shadow(0px 1px 2px rgba(0, 0, 0, 0.3));\n",
              "      fill: #FFFFFF;\n",
              "    }\n",
              "  </style>\n",
              "\n",
              "      <script>\n",
              "        const buttonEl =\n",
              "          document.querySelector('#df-924f5b09-61e2-4400-85dc-658c37a7b089 button.colab-df-convert');\n",
              "        buttonEl.style.display =\n",
              "          google.colab.kernel.accessAllowed ? 'block' : 'none';\n",
              "\n",
              "        async function convertToInteractive(key) {\n",
              "          const element = document.querySelector('#df-924f5b09-61e2-4400-85dc-658c37a7b089');\n",
              "          const dataTable =\n",
              "            await google.colab.kernel.invokeFunction('convertToInteractive',\n",
              "                                                     [key], {});\n",
              "          if (!dataTable) return;\n",
              "\n",
              "          const docLinkHtml = 'Like what you see? Visit the ' +\n",
              "            '<a target=\"_blank\" href=https://colab.research.google.com/notebooks/data_table.ipynb>data table notebook</a>'\n",
              "            + ' to learn more about interactive tables.';\n",
              "          element.innerHTML = '';\n",
              "          dataTable['output_type'] = 'display_data';\n",
              "          await google.colab.output.renderOutput(dataTable, element);\n",
              "          const docLink = document.createElement('div');\n",
              "          docLink.innerHTML = docLinkHtml;\n",
              "          element.appendChild(docLink);\n",
              "        }\n",
              "      </script>\n",
              "    </div>\n",
              "  </div>\n",
              "  "
            ]
          },
          "metadata": {},
          "execution_count": 2
        }
      ]
    },
    {
      "cell_type": "markdown",
      "source": [
        "#### 4.1.4 Przygotowywanie danych"
      ],
      "metadata": {
        "id": "VACMZ9UUsJRN"
      }
    },
    {
      "cell_type": "code",
      "source": [
        "model_checkpoint = 'distilbert-base-uncased'\n",
        "batch_size = 32 #Przy wiekszych batch_size wyrzuca srodowisko"
      ],
      "metadata": {
        "id": "OZ8HgjO8qRSY"
      },
      "execution_count": 3,
      "outputs": []
    },
    {
      "cell_type": "code",
      "source": [
        "tokenizer = AutoTokenizer.from_pretrained(model_checkpoint, use_fast=True)\n",
        "\n",
        "train_ds = ds['train'].map(lambda x: tokenizer(x['text']))\n",
        "test_ds = ds['test'].map(lambda x: tokenizer(x['text']))"
      ],
      "metadata": {
        "colab": {
          "base_uri": "https://localhost:8080/",
          "height": 17,
          "referenced_widgets": [
            "05413a599cc041bfa7df0f5492535dbf",
            "99979b832d3a46ccb35b9d828863ecfb",
            "1ef87650245b44299839d84ca5212e8b",
            "f14602dd30de45f38427e88fc6f5ca9c",
            "6be333564f5041e7a523c3c7bbf0fe27",
            "be813a9ede0942949256e239c158c349",
            "573484fd613145749ae955769e3a6d81",
            "d8f43cb8c6e24ab68d5f782bbea50515",
            "ea8c58b3d815400bbc38cc3e363943b6",
            "d70457fbfb464812aad71b7aaa551a86",
            "c70025b904b64a78b1e3f594447a571f",
            "e2c2db03c28d4a6cb02245ea0c92f9e8",
            "9b27eb67a5e7401396ebdb59aabf66eb",
            "1999aaef7a094155884c62618c07f9e2",
            "99a56c3e513645f4858b5d8d3a4969d8",
            "1ed923787e8e4bba8f053070fb803f32",
            "928d958f9f544751ac31c39e5d4e4baf",
            "7fd4126355854d84a4db30d9da79635c",
            "7f41adff9222420ba5d135de64a6bdf4",
            "6f831202ecba4adb86e2ec8e7a1782be",
            "646197a62b5f405498eff84bcbb20c7b",
            "c2427a597bbe4acca35a5d4063ffece0"
          ]
        },
        "id": "Imjuvp0Krxig",
        "outputId": "cbdc98e5-141f-4016-b341-86649d8e5599"
      },
      "execution_count": 4,
      "outputs": [
        {
          "output_type": "display_data",
          "data": {
            "text/plain": [
              "Map:   0%|          | 0/19780 [00:00<?, ? examples/s]"
            ],
            "application/vnd.jupyter.widget-view+json": {
              "version_major": 2,
              "version_minor": 0,
              "model_id": "05413a599cc041bfa7df0f5492535dbf"
            }
          },
          "metadata": {}
        },
        {
          "output_type": "display_data",
          "data": {
            "text/plain": [
              "Map:   0%|          | 0/2198 [00:00<?, ? examples/s]"
            ],
            "application/vnd.jupyter.widget-view+json": {
              "version_major": 2,
              "version_minor": 0,
              "model_id": "e2c2db03c28d4a6cb02245ea0c92f9e8"
            }
          },
          "metadata": {}
        }
      ]
    },
    {
      "cell_type": "markdown",
      "source": [
        "#### 4.1.5 Uczenie modelu\n",
        "##### <font color=red>UWAGA: Jezeli TrainingArguments wyrzuci blad prosze zrestartowac srodowisko i uruchomic ponownie cala sekcje</font>"
      ],
      "metadata": {
        "id": "0J6RRB6dsOnu"
      }
    },
    {
      "cell_type": "code",
      "source": [
        "def compute_metrics(eval_preds):\n",
        "  logits, labels = eval_preds\n",
        "  predictions = np.argmax(logits, axis=-1)\n",
        "  return metric.compute(predictions=predictions, references=labels)"
      ],
      "metadata": {
        "id": "KpuaJFRcvHjw"
      },
      "execution_count": 5,
      "outputs": []
    },
    {
      "cell_type": "code",
      "source": [
        "num_labels = 2\n",
        "model = AutoModelForSequenceClassification.from_pretrained(model_checkpoint, num_labels=num_labels)\n",
        "\n",
        "args = TrainingArguments(\n",
        "    f'{model_checkpoint}_sentiment_analysis',\n",
        "    evaluation_strategy = 'epoch',\n",
        "    save_strategy = 'epoch',\n",
        "    learning_rate = 2e-5,\n",
        "    per_device_train_batch_size = batch_size,\n",
        "    per_device_eval_batch_size = batch_size,\n",
        "    num_train_epochs = 5,\n",
        "    weight_decay = 0.01,\n",
        "    load_best_model_at_end = True,\n",
        "    metric_for_best_model = 'accuracy'\n",
        ")"
      ],
      "metadata": {
        "colab": {
          "base_uri": "https://localhost:8080/"
        },
        "id": "rdUU4MnOsE5s",
        "outputId": "b2b1cd7f-de30-4d05-e105-1a680ffba82b"
      },
      "execution_count": 6,
      "outputs": [
        {
          "output_type": "stream",
          "name": "stderr",
          "text": [
            "Some weights of the model checkpoint at distilbert-base-uncased were not used when initializing DistilBertForSequenceClassification: ['vocab_projector.weight', 'vocab_transform.weight', 'vocab_layer_norm.bias', 'vocab_projector.bias', 'vocab_transform.bias', 'vocab_layer_norm.weight']\n",
            "- This IS expected if you are initializing DistilBertForSequenceClassification from the checkpoint of a model trained on another task or with another architecture (e.g. initializing a BertForSequenceClassification model from a BertForPreTraining model).\n",
            "- This IS NOT expected if you are initializing DistilBertForSequenceClassification from the checkpoint of a model that you expect to be exactly identical (initializing a BertForSequenceClassification model from a BertForSequenceClassification model).\n",
            "Some weights of DistilBertForSequenceClassification were not initialized from the model checkpoint at distilbert-base-uncased and are newly initialized: ['pre_classifier.weight', 'classifier.bias', 'classifier.weight', 'pre_classifier.bias']\n",
            "You should probably TRAIN this model on a down-stream task to be able to use it for predictions and inference.\n"
          ]
        }
      ]
    },
    {
      "cell_type": "code",
      "source": [
        "metric = load_metric('glue', 'sst2')\n",
        "\n",
        "trainer = Trainer(\n",
        "    model,\n",
        "    args,\n",
        "    train_dataset=train_ds,\n",
        "    eval_dataset=test_ds,\n",
        "    tokenizer=tokenizer,\n",
        "    compute_metrics=compute_metrics\n",
        ")\n",
        "\n",
        "\n",
        "trainer.train()"
      ],
      "metadata": {
        "colab": {
          "base_uri": "https://localhost:8080/",
          "height": 374
        },
        "id": "0bMMie1Tu831",
        "outputId": "5c1a3ebf-bcf1-4aea-875c-8a55384c2d56"
      },
      "execution_count": 7,
      "outputs": [
        {
          "output_type": "stream",
          "name": "stderr",
          "text": [
            "<ipython-input-7-7f0b91379e43>:1: FutureWarning: load_metric is deprecated and will be removed in the next major version of datasets. Use 'evaluate.load' instead, from the new library 🤗 Evaluate: https://huggingface.co/docs/evaluate\n",
            "  metric = load_metric('glue', 'sst2')\n",
            "/usr/local/lib/python3.10/dist-packages/transformers/optimization.py:407: FutureWarning: This implementation of AdamW is deprecated and will be removed in a future version. Use the PyTorch implementation torch.optim.AdamW instead, or set `no_deprecation_warning=True` to disable this warning\n",
            "  warnings.warn(\n",
            "You're using a DistilBertTokenizerFast tokenizer. Please note that with a fast tokenizer, using the `__call__` method is faster than using a method to encode the text followed by a call to the `pad` method to get a padded encoding.\n"
          ]
        },
        {
          "output_type": "display_data",
          "data": {
            "text/plain": [
              "<IPython.core.display.HTML object>"
            ],
            "text/html": [
              "\n",
              "    <div>\n",
              "      \n",
              "      <progress value='3095' max='3095' style='width:300px; height:20px; vertical-align: middle;'></progress>\n",
              "      [3095/3095 07:53, Epoch 5/5]\n",
              "    </div>\n",
              "    <table border=\"1\" class=\"dataframe\">\n",
              "  <thead>\n",
              " <tr style=\"text-align: left;\">\n",
              "      <th>Epoch</th>\n",
              "      <th>Training Loss</th>\n",
              "      <th>Validation Loss</th>\n",
              "      <th>Accuracy</th>\n",
              "    </tr>\n",
              "  </thead>\n",
              "  <tbody>\n",
              "    <tr>\n",
              "      <td>1</td>\n",
              "      <td>0.350000</td>\n",
              "      <td>0.250736</td>\n",
              "      <td>0.888080</td>\n",
              "    </tr>\n",
              "    <tr>\n",
              "      <td>2</td>\n",
              "      <td>0.240600</td>\n",
              "      <td>0.241968</td>\n",
              "      <td>0.906278</td>\n",
              "    </tr>\n",
              "    <tr>\n",
              "      <td>3</td>\n",
              "      <td>0.176100</td>\n",
              "      <td>0.257552</td>\n",
              "      <td>0.909008</td>\n",
              "    </tr>\n",
              "    <tr>\n",
              "      <td>4</td>\n",
              "      <td>0.122100</td>\n",
              "      <td>0.321207</td>\n",
              "      <td>0.912648</td>\n",
              "    </tr>\n",
              "    <tr>\n",
              "      <td>5</td>\n",
              "      <td>0.057700</td>\n",
              "      <td>0.366725</td>\n",
              "      <td>0.912193</td>\n",
              "    </tr>\n",
              "  </tbody>\n",
              "</table><p>"
            ]
          },
          "metadata": {}
        },
        {
          "output_type": "execute_result",
          "data": {
            "text/plain": [
              "TrainOutput(global_step=3095, training_loss=0.16916275918002274, metrics={'train_runtime': 475.0184, 'train_samples_per_second': 208.202, 'train_steps_per_second': 6.516, 'total_flos': 1200393694081872.0, 'train_loss': 0.16916275918002274, 'epoch': 5.0})"
            ]
          },
          "metadata": {},
          "execution_count": 7
        }
      ]
    },
    {
      "cell_type": "markdown",
      "source": [
        "#### 4.1.6 Testowanie modelu"
      ],
      "metadata": {
        "id": "KaLwJu5Wvmmm"
      }
    },
    {
      "cell_type": "code",
      "source": [
        "device = 'cuda' if torch.cuda.is_available() else 'cpu'\n",
        "\n",
        "\n",
        "text = \"Our King has been crowned!\" # Pozytywna wiadomosc\n",
        "inputs = tokenizer(text, return_tensors='pt')\n",
        "input_ids = inputs['input_ids'].to(device)\n",
        "attention_mask = inputs['attention_mask'].to(device)\n"
      ],
      "metadata": {
        "id": "Pa31oammvx80"
      },
      "execution_count": 15,
      "outputs": []
    },
    {
      "cell_type": "code",
      "source": [
        "with torch.no_grad():\n",
        "  output = model(input_ids=input_ids, attention_mask=attention_mask)\n",
        "  logits = output.logits\n",
        "  predictions = torch.argmax(logits, dim=-1)"
      ],
      "metadata": {
        "id": "jF0iYgZDxgVL"
      },
      "execution_count": 16,
      "outputs": []
    },
    {
      "cell_type": "code",
      "source": [
        "if predictions.item() == 1: print('This text is negative')\n",
        "else: print('This text is positive')"
      ],
      "metadata": {
        "colab": {
          "base_uri": "https://localhost:8080/"
        },
        "id": "fgwowHehv09a",
        "outputId": "802cd105-49af-446f-d1c8-ad8c8da593f8"
      },
      "execution_count": 18,
      "outputs": [
        {
          "output_type": "stream",
          "name": "stdout",
          "text": [
            "This text is positive\n"
          ]
        }
      ]
    },
    {
      "cell_type": "code",
      "source": [
        "text = \"the racist King Charles can go fuck himself with his white supremacy royal title.\" # Negatywma wiadomosc (nie ja to pisalem, wzieto to z puli scrapowanych danych)\n",
        "inputs = tokenizer(text, return_tensors='pt')\n",
        "input_ids = inputs['input_ids'].to(device)\n",
        "attention_mask = inputs['attention_mask'].to(device)"
      ],
      "metadata": {
        "id": "l9J9Jerq4Q4q"
      },
      "execution_count": 19,
      "outputs": []
    },
    {
      "cell_type": "code",
      "source": [
        "with torch.no_grad():\n",
        "  output = model(input_ids=input_ids, attention_mask=attention_mask)\n",
        "  logits = output.logits\n",
        "  predictions = torch.argmax(logits, dim=-1)"
      ],
      "metadata": {
        "id": "1ft8fzcK4RUq"
      },
      "execution_count": 20,
      "outputs": []
    },
    {
      "cell_type": "code",
      "source": [
        "if predictions.item() == 1: print('This text is negative')\n",
        "else: print('This text is positive')"
      ],
      "metadata": {
        "colab": {
          "base_uri": "https://localhost:8080/"
        },
        "id": "cUHCh3S74RkQ",
        "outputId": "21b087ac-72b1-417d-db65-a7c92d99ae13"
      },
      "execution_count": 21,
      "outputs": [
        {
          "output_type": "stream",
          "name": "stdout",
          "text": [
            "This text is negative\n"
          ]
        }
      ]
    }
  ]
}